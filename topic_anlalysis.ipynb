{
  "nbformat": 4,
  "nbformat_minor": 0,
  "metadata": {
    "colab": {
      "provenance": [],
      "gpuType": "T4",
      "include_colab_link": true
    },
    "kernelspec": {
      "name": "python3",
      "display_name": "Python 3"
    },
    "language_info": {
      "name": "python"
    },
    "accelerator": "GPU",
    "widgets": {
      "application/vnd.jupyter.widget-state+json": {
        "cc50f00f6c044a95b5cd0b64fd81f70b": {
          "model_module": "@jupyter-widgets/controls",
          "model_name": "HBoxModel",
          "model_module_version": "1.5.0",
          "state": {
            "_dom_classes": [],
            "_model_module": "@jupyter-widgets/controls",
            "_model_module_version": "1.5.0",
            "_model_name": "HBoxModel",
            "_view_count": null,
            "_view_module": "@jupyter-widgets/controls",
            "_view_module_version": "1.5.0",
            "_view_name": "HBoxView",
            "box_style": "",
            "children": [
              "IPY_MODEL_b6fbc5563751468ab7027b669e84fa7e",
              "IPY_MODEL_42c95f8c11274d5cbfd5e759c1d6b209",
              "IPY_MODEL_1325f5e8d3c1464681240d5a9e869143"
            ],
            "layout": "IPY_MODEL_07c482fdb2ea4f388a74196a68242b2b"
          }
        },
        "b6fbc5563751468ab7027b669e84fa7e": {
          "model_module": "@jupyter-widgets/controls",
          "model_name": "HTMLModel",
          "model_module_version": "1.5.0",
          "state": {
            "_dom_classes": [],
            "_model_module": "@jupyter-widgets/controls",
            "_model_module_version": "1.5.0",
            "_model_name": "HTMLModel",
            "_view_count": null,
            "_view_module": "@jupyter-widgets/controls",
            "_view_module_version": "1.5.0",
            "_view_name": "HTMLView",
            "description": "",
            "description_tooltip": null,
            "layout": "IPY_MODEL_90129b23f1fe493eb0a3beccc31f0cc8",
            "placeholder": "​",
            "style": "IPY_MODEL_e69049df17474702a2e22a3c3758a524",
            "value": "Batches: 100%"
          }
        },
        "42c95f8c11274d5cbfd5e759c1d6b209": {
          "model_module": "@jupyter-widgets/controls",
          "model_name": "FloatProgressModel",
          "model_module_version": "1.5.0",
          "state": {
            "_dom_classes": [],
            "_model_module": "@jupyter-widgets/controls",
            "_model_module_version": "1.5.0",
            "_model_name": "FloatProgressModel",
            "_view_count": null,
            "_view_module": "@jupyter-widgets/controls",
            "_view_module_version": "1.5.0",
            "_view_name": "ProgressView",
            "bar_style": "success",
            "description": "",
            "description_tooltip": null,
            "layout": "IPY_MODEL_72e6b0ac9b9f4c008efe07a21da87c21",
            "max": 515,
            "min": 0,
            "orientation": "horizontal",
            "style": "IPY_MODEL_ff3f35c58beb4c0d9032cc45b177f3e3",
            "value": 515
          }
        },
        "1325f5e8d3c1464681240d5a9e869143": {
          "model_module": "@jupyter-widgets/controls",
          "model_name": "HTMLModel",
          "model_module_version": "1.5.0",
          "state": {
            "_dom_classes": [],
            "_model_module": "@jupyter-widgets/controls",
            "_model_module_version": "1.5.0",
            "_model_name": "HTMLModel",
            "_view_count": null,
            "_view_module": "@jupyter-widgets/controls",
            "_view_module_version": "1.5.0",
            "_view_name": "HTMLView",
            "description": "",
            "description_tooltip": null,
            "layout": "IPY_MODEL_3ed6461457ef46239e616094ef2f3d42",
            "placeholder": "​",
            "style": "IPY_MODEL_7d18a126485341159401519665d7842e",
            "value": " 515/515 [12:36&lt;00:00,  2.68it/s]"
          }
        },
        "07c482fdb2ea4f388a74196a68242b2b": {
          "model_module": "@jupyter-widgets/base",
          "model_name": "LayoutModel",
          "model_module_version": "1.2.0",
          "state": {
            "_model_module": "@jupyter-widgets/base",
            "_model_module_version": "1.2.0",
            "_model_name": "LayoutModel",
            "_view_count": null,
            "_view_module": "@jupyter-widgets/base",
            "_view_module_version": "1.2.0",
            "_view_name": "LayoutView",
            "align_content": null,
            "align_items": null,
            "align_self": null,
            "border": null,
            "bottom": null,
            "display": null,
            "flex": null,
            "flex_flow": null,
            "grid_area": null,
            "grid_auto_columns": null,
            "grid_auto_flow": null,
            "grid_auto_rows": null,
            "grid_column": null,
            "grid_gap": null,
            "grid_row": null,
            "grid_template_areas": null,
            "grid_template_columns": null,
            "grid_template_rows": null,
            "height": null,
            "justify_content": null,
            "justify_items": null,
            "left": null,
            "margin": null,
            "max_height": null,
            "max_width": null,
            "min_height": null,
            "min_width": null,
            "object_fit": null,
            "object_position": null,
            "order": null,
            "overflow": null,
            "overflow_x": null,
            "overflow_y": null,
            "padding": null,
            "right": null,
            "top": null,
            "visibility": null,
            "width": null
          }
        },
        "90129b23f1fe493eb0a3beccc31f0cc8": {
          "model_module": "@jupyter-widgets/base",
          "model_name": "LayoutModel",
          "model_module_version": "1.2.0",
          "state": {
            "_model_module": "@jupyter-widgets/base",
            "_model_module_version": "1.2.0",
            "_model_name": "LayoutModel",
            "_view_count": null,
            "_view_module": "@jupyter-widgets/base",
            "_view_module_version": "1.2.0",
            "_view_name": "LayoutView",
            "align_content": null,
            "align_items": null,
            "align_self": null,
            "border": null,
            "bottom": null,
            "display": null,
            "flex": null,
            "flex_flow": null,
            "grid_area": null,
            "grid_auto_columns": null,
            "grid_auto_flow": null,
            "grid_auto_rows": null,
            "grid_column": null,
            "grid_gap": null,
            "grid_row": null,
            "grid_template_areas": null,
            "grid_template_columns": null,
            "grid_template_rows": null,
            "height": null,
            "justify_content": null,
            "justify_items": null,
            "left": null,
            "margin": null,
            "max_height": null,
            "max_width": null,
            "min_height": null,
            "min_width": null,
            "object_fit": null,
            "object_position": null,
            "order": null,
            "overflow": null,
            "overflow_x": null,
            "overflow_y": null,
            "padding": null,
            "right": null,
            "top": null,
            "visibility": null,
            "width": null
          }
        },
        "e69049df17474702a2e22a3c3758a524": {
          "model_module": "@jupyter-widgets/controls",
          "model_name": "DescriptionStyleModel",
          "model_module_version": "1.5.0",
          "state": {
            "_model_module": "@jupyter-widgets/controls",
            "_model_module_version": "1.5.0",
            "_model_name": "DescriptionStyleModel",
            "_view_count": null,
            "_view_module": "@jupyter-widgets/base",
            "_view_module_version": "1.2.0",
            "_view_name": "StyleView",
            "description_width": ""
          }
        },
        "72e6b0ac9b9f4c008efe07a21da87c21": {
          "model_module": "@jupyter-widgets/base",
          "model_name": "LayoutModel",
          "model_module_version": "1.2.0",
          "state": {
            "_model_module": "@jupyter-widgets/base",
            "_model_module_version": "1.2.0",
            "_model_name": "LayoutModel",
            "_view_count": null,
            "_view_module": "@jupyter-widgets/base",
            "_view_module_version": "1.2.0",
            "_view_name": "LayoutView",
            "align_content": null,
            "align_items": null,
            "align_self": null,
            "border": null,
            "bottom": null,
            "display": null,
            "flex": null,
            "flex_flow": null,
            "grid_area": null,
            "grid_auto_columns": null,
            "grid_auto_flow": null,
            "grid_auto_rows": null,
            "grid_column": null,
            "grid_gap": null,
            "grid_row": null,
            "grid_template_areas": null,
            "grid_template_columns": null,
            "grid_template_rows": null,
            "height": null,
            "justify_content": null,
            "justify_items": null,
            "left": null,
            "margin": null,
            "max_height": null,
            "max_width": null,
            "min_height": null,
            "min_width": null,
            "object_fit": null,
            "object_position": null,
            "order": null,
            "overflow": null,
            "overflow_x": null,
            "overflow_y": null,
            "padding": null,
            "right": null,
            "top": null,
            "visibility": null,
            "width": null
          }
        },
        "ff3f35c58beb4c0d9032cc45b177f3e3": {
          "model_module": "@jupyter-widgets/controls",
          "model_name": "ProgressStyleModel",
          "model_module_version": "1.5.0",
          "state": {
            "_model_module": "@jupyter-widgets/controls",
            "_model_module_version": "1.5.0",
            "_model_name": "ProgressStyleModel",
            "_view_count": null,
            "_view_module": "@jupyter-widgets/base",
            "_view_module_version": "1.2.0",
            "_view_name": "StyleView",
            "bar_color": null,
            "description_width": ""
          }
        },
        "3ed6461457ef46239e616094ef2f3d42": {
          "model_module": "@jupyter-widgets/base",
          "model_name": "LayoutModel",
          "model_module_version": "1.2.0",
          "state": {
            "_model_module": "@jupyter-widgets/base",
            "_model_module_version": "1.2.0",
            "_model_name": "LayoutModel",
            "_view_count": null,
            "_view_module": "@jupyter-widgets/base",
            "_view_module_version": "1.2.0",
            "_view_name": "LayoutView",
            "align_content": null,
            "align_items": null,
            "align_self": null,
            "border": null,
            "bottom": null,
            "display": null,
            "flex": null,
            "flex_flow": null,
            "grid_area": null,
            "grid_auto_columns": null,
            "grid_auto_flow": null,
            "grid_auto_rows": null,
            "grid_column": null,
            "grid_gap": null,
            "grid_row": null,
            "grid_template_areas": null,
            "grid_template_columns": null,
            "grid_template_rows": null,
            "height": null,
            "justify_content": null,
            "justify_items": null,
            "left": null,
            "margin": null,
            "max_height": null,
            "max_width": null,
            "min_height": null,
            "min_width": null,
            "object_fit": null,
            "object_position": null,
            "order": null,
            "overflow": null,
            "overflow_x": null,
            "overflow_y": null,
            "padding": null,
            "right": null,
            "top": null,
            "visibility": null,
            "width": null
          }
        },
        "7d18a126485341159401519665d7842e": {
          "model_module": "@jupyter-widgets/controls",
          "model_name": "DescriptionStyleModel",
          "model_module_version": "1.5.0",
          "state": {
            "_model_module": "@jupyter-widgets/controls",
            "_model_module_version": "1.5.0",
            "_model_name": "DescriptionStyleModel",
            "_view_count": null,
            "_view_module": "@jupyter-widgets/base",
            "_view_module_version": "1.2.0",
            "_view_name": "StyleView",
            "description_width": ""
          }
        }
      }
    }
  },
  "cells": [
    {
      "cell_type": "markdown",
      "metadata": {
        "id": "view-in-github",
        "colab_type": "text"
      },
      "source": [
        "<a href=\"https://colab.research.google.com/github/MuhammadHelmyOmar/Authorship-Identification/blob/main/topic_anlalysis.ipynb\" target=\"_parent\"><img src=\"https://colab.research.google.com/assets/colab-badge.svg\" alt=\"Open In Colab\"/></a>"
      ]
    },
    {
      "cell_type": "markdown",
      "source": [
        "# Loading Data"
      ],
      "metadata": {
        "id": "Rua6Z267JFao"
      }
    },
    {
      "cell_type": "code",
      "source": [
        "from google.colab import drive\n",
        "import pandas as pd\n",
        "drive.mount('/content/drive')"
      ],
      "metadata": {
        "colab": {
          "base_uri": "https://localhost:8080/"
        },
        "id": "KM2421EJJHZq",
        "outputId": "4b1f7ddb-0d41-460f-a0cf-ed756895c62a"
      },
      "execution_count": 5,
      "outputs": [
        {
          "output_type": "stream",
          "name": "stdout",
          "text": [
            "Mounted at /content/drive\n"
          ]
        }
      ]
    },
    {
      "cell_type": "code",
      "source": [
        "file_path = '/content/drive/MyDrive/Colab Notebooks/AraGenEval/train_data_splitted.csv'\n",
        "\n",
        "train_data = pd.read_csv(file_path)\n",
        "display(train_data.head())"
      ],
      "metadata": {
        "colab": {
          "base_uri": "https://localhost:8080/",
          "height": 206
        },
        "id": "hrt9-AFlJ8-5",
        "outputId": "e5512652-b8ee-45d5-a070-397dcc3479e1"
      },
      "execution_count": 7,
      "outputs": [
        {
          "output_type": "display_data",
          "data": {
            "text/plain": [
              "   original_id                               text_in_author_style      author  \\\n",
              "0         5843  هذه الكتب التي أصدرتُها منذ بدأت كتابة باب \"من...  يوسف إدريس   \n",
              "1         5844  صعب جِدًّا في ظل هذا التقسيم الإرهابي أن أقول ...  يوسف إدريس   \n",
              "2         5845  كان ممكنًا أن أتفادى هذا\\n\\nالموضوع الشائك، وأ...  يوسف إدريس   \n",
              "3         5846  ومن المُمكن للعراق وحده أن يَجتثَّه ويقضي على ...  يوسف إدريس   \n",
              "4         5847  كنتُ أريد أن أتناول موضوعًا من هذه المواضيع.\\n...  يوسف إدريس   \n",
              "\n",
              "   text_size  chunk_index  is_split  \\\n",
              "0       1921            0     False   \n",
              "1       1616            0     False   \n",
              "2       1913            0     False   \n",
              "3       2047            0     False   \n",
              "4       2022            0     False   \n",
              "\n",
              "                                        cleaned_text  \n",
              "0  هذه الكتب التي أصدرتها منذ بدأت كتابة باب \"من ...  \n",
              "1  صعب جدا في ظل هذا التقسيم الإرهابي أن أقول إن ...  \n",
              "2  كان ممكنا أن أتفادى هذا\\n\\nالموضوع الشائك، وأذ...  \n",
              "3  ومن الممكن للعراق وحده أن يجتثه ويقضي على الهج...  \n",
              "4  كنت أريد أن أتناول موضوعا من هذه المواضيع.\\n\\n...  "
            ],
            "text/html": [
              "\n",
              "  <div id=\"df-727c45ff-2010-47f7-9444-e91dc7ee110e\" class=\"colab-df-container\">\n",
              "    <div>\n",
              "<style scoped>\n",
              "    .dataframe tbody tr th:only-of-type {\n",
              "        vertical-align: middle;\n",
              "    }\n",
              "\n",
              "    .dataframe tbody tr th {\n",
              "        vertical-align: top;\n",
              "    }\n",
              "\n",
              "    .dataframe thead th {\n",
              "        text-align: right;\n",
              "    }\n",
              "</style>\n",
              "<table border=\"1\" class=\"dataframe\">\n",
              "  <thead>\n",
              "    <tr style=\"text-align: right;\">\n",
              "      <th></th>\n",
              "      <th>original_id</th>\n",
              "      <th>text_in_author_style</th>\n",
              "      <th>author</th>\n",
              "      <th>text_size</th>\n",
              "      <th>chunk_index</th>\n",
              "      <th>is_split</th>\n",
              "      <th>cleaned_text</th>\n",
              "    </tr>\n",
              "  </thead>\n",
              "  <tbody>\n",
              "    <tr>\n",
              "      <th>0</th>\n",
              "      <td>5843</td>\n",
              "      <td>هذه الكتب التي أصدرتُها منذ بدأت كتابة باب \"من...</td>\n",
              "      <td>يوسف إدريس</td>\n",
              "      <td>1921</td>\n",
              "      <td>0</td>\n",
              "      <td>False</td>\n",
              "      <td>هذه الكتب التي أصدرتها منذ بدأت كتابة باب \"من ...</td>\n",
              "    </tr>\n",
              "    <tr>\n",
              "      <th>1</th>\n",
              "      <td>5844</td>\n",
              "      <td>صعب جِدًّا في ظل هذا التقسيم الإرهابي أن أقول ...</td>\n",
              "      <td>يوسف إدريس</td>\n",
              "      <td>1616</td>\n",
              "      <td>0</td>\n",
              "      <td>False</td>\n",
              "      <td>صعب جدا في ظل هذا التقسيم الإرهابي أن أقول إن ...</td>\n",
              "    </tr>\n",
              "    <tr>\n",
              "      <th>2</th>\n",
              "      <td>5845</td>\n",
              "      <td>كان ممكنًا أن أتفادى هذا\\n\\nالموضوع الشائك، وأ...</td>\n",
              "      <td>يوسف إدريس</td>\n",
              "      <td>1913</td>\n",
              "      <td>0</td>\n",
              "      <td>False</td>\n",
              "      <td>كان ممكنا أن أتفادى هذا\\n\\nالموضوع الشائك، وأذ...</td>\n",
              "    </tr>\n",
              "    <tr>\n",
              "      <th>3</th>\n",
              "      <td>5846</td>\n",
              "      <td>ومن المُمكن للعراق وحده أن يَجتثَّه ويقضي على ...</td>\n",
              "      <td>يوسف إدريس</td>\n",
              "      <td>2047</td>\n",
              "      <td>0</td>\n",
              "      <td>False</td>\n",
              "      <td>ومن الممكن للعراق وحده أن يجتثه ويقضي على الهج...</td>\n",
              "    </tr>\n",
              "    <tr>\n",
              "      <th>4</th>\n",
              "      <td>5847</td>\n",
              "      <td>كنتُ أريد أن أتناول موضوعًا من هذه المواضيع.\\n...</td>\n",
              "      <td>يوسف إدريس</td>\n",
              "      <td>2022</td>\n",
              "      <td>0</td>\n",
              "      <td>False</td>\n",
              "      <td>كنت أريد أن أتناول موضوعا من هذه المواضيع.\\n\\n...</td>\n",
              "    </tr>\n",
              "  </tbody>\n",
              "</table>\n",
              "</div>\n",
              "    <div class=\"colab-df-buttons\">\n",
              "\n",
              "  <div class=\"colab-df-container\">\n",
              "    <button class=\"colab-df-convert\" onclick=\"convertToInteractive('df-727c45ff-2010-47f7-9444-e91dc7ee110e')\"\n",
              "            title=\"Convert this dataframe to an interactive table.\"\n",
              "            style=\"display:none;\">\n",
              "\n",
              "  <svg xmlns=\"http://www.w3.org/2000/svg\" height=\"24px\" viewBox=\"0 -960 960 960\">\n",
              "    <path d=\"M120-120v-720h720v720H120Zm60-500h600v-160H180v160Zm220 220h160v-160H400v160Zm0 220h160v-160H400v160ZM180-400h160v-160H180v160Zm440 0h160v-160H620v160ZM180-180h160v-160H180v160Zm440 0h160v-160H620v160Z\"/>\n",
              "  </svg>\n",
              "    </button>\n",
              "\n",
              "  <style>\n",
              "    .colab-df-container {\n",
              "      display:flex;\n",
              "      gap: 12px;\n",
              "    }\n",
              "\n",
              "    .colab-df-convert {\n",
              "      background-color: #E8F0FE;\n",
              "      border: none;\n",
              "      border-radius: 50%;\n",
              "      cursor: pointer;\n",
              "      display: none;\n",
              "      fill: #1967D2;\n",
              "      height: 32px;\n",
              "      padding: 0 0 0 0;\n",
              "      width: 32px;\n",
              "    }\n",
              "\n",
              "    .colab-df-convert:hover {\n",
              "      background-color: #E2EBFA;\n",
              "      box-shadow: 0px 1px 2px rgba(60, 64, 67, 0.3), 0px 1px 3px 1px rgba(60, 64, 67, 0.15);\n",
              "      fill: #174EA6;\n",
              "    }\n",
              "\n",
              "    .colab-df-buttons div {\n",
              "      margin-bottom: 4px;\n",
              "    }\n",
              "\n",
              "    [theme=dark] .colab-df-convert {\n",
              "      background-color: #3B4455;\n",
              "      fill: #D2E3FC;\n",
              "    }\n",
              "\n",
              "    [theme=dark] .colab-df-convert:hover {\n",
              "      background-color: #434B5C;\n",
              "      box-shadow: 0px 1px 3px 1px rgba(0, 0, 0, 0.15);\n",
              "      filter: drop-shadow(0px 1px 2px rgba(0, 0, 0, 0.3));\n",
              "      fill: #FFFFFF;\n",
              "    }\n",
              "  </style>\n",
              "\n",
              "    <script>\n",
              "      const buttonEl =\n",
              "        document.querySelector('#df-727c45ff-2010-47f7-9444-e91dc7ee110e button.colab-df-convert');\n",
              "      buttonEl.style.display =\n",
              "        google.colab.kernel.accessAllowed ? 'block' : 'none';\n",
              "\n",
              "      async function convertToInteractive(key) {\n",
              "        const element = document.querySelector('#df-727c45ff-2010-47f7-9444-e91dc7ee110e');\n",
              "        const dataTable =\n",
              "          await google.colab.kernel.invokeFunction('convertToInteractive',\n",
              "                                                    [key], {});\n",
              "        if (!dataTable) return;\n",
              "\n",
              "        const docLinkHtml = 'Like what you see? Visit the ' +\n",
              "          '<a target=\"_blank\" href=https://colab.research.google.com/notebooks/data_table.ipynb>data table notebook</a>'\n",
              "          + ' to learn more about interactive tables.';\n",
              "        element.innerHTML = '';\n",
              "        dataTable['output_type'] = 'display_data';\n",
              "        await google.colab.output.renderOutput(dataTable, element);\n",
              "        const docLink = document.createElement('div');\n",
              "        docLink.innerHTML = docLinkHtml;\n",
              "        element.appendChild(docLink);\n",
              "      }\n",
              "    </script>\n",
              "  </div>\n",
              "\n",
              "\n",
              "    <div id=\"df-4135e6ee-e9fe-4a5f-8aca-526b6fca774d\">\n",
              "      <button class=\"colab-df-quickchart\" onclick=\"quickchart('df-4135e6ee-e9fe-4a5f-8aca-526b6fca774d')\"\n",
              "                title=\"Suggest charts\"\n",
              "                style=\"display:none;\">\n",
              "\n",
              "<svg xmlns=\"http://www.w3.org/2000/svg\" height=\"24px\"viewBox=\"0 0 24 24\"\n",
              "     width=\"24px\">\n",
              "    <g>\n",
              "        <path d=\"M19 3H5c-1.1 0-2 .9-2 2v14c0 1.1.9 2 2 2h14c1.1 0 2-.9 2-2V5c0-1.1-.9-2-2-2zM9 17H7v-7h2v7zm4 0h-2V7h2v10zm4 0h-2v-4h2v4z\"/>\n",
              "    </g>\n",
              "</svg>\n",
              "      </button>\n",
              "\n",
              "<style>\n",
              "  .colab-df-quickchart {\n",
              "      --bg-color: #E8F0FE;\n",
              "      --fill-color: #1967D2;\n",
              "      --hover-bg-color: #E2EBFA;\n",
              "      --hover-fill-color: #174EA6;\n",
              "      --disabled-fill-color: #AAA;\n",
              "      --disabled-bg-color: #DDD;\n",
              "  }\n",
              "\n",
              "  [theme=dark] .colab-df-quickchart {\n",
              "      --bg-color: #3B4455;\n",
              "      --fill-color: #D2E3FC;\n",
              "      --hover-bg-color: #434B5C;\n",
              "      --hover-fill-color: #FFFFFF;\n",
              "      --disabled-bg-color: #3B4455;\n",
              "      --disabled-fill-color: #666;\n",
              "  }\n",
              "\n",
              "  .colab-df-quickchart {\n",
              "    background-color: var(--bg-color);\n",
              "    border: none;\n",
              "    border-radius: 50%;\n",
              "    cursor: pointer;\n",
              "    display: none;\n",
              "    fill: var(--fill-color);\n",
              "    height: 32px;\n",
              "    padding: 0;\n",
              "    width: 32px;\n",
              "  }\n",
              "\n",
              "  .colab-df-quickchart:hover {\n",
              "    background-color: var(--hover-bg-color);\n",
              "    box-shadow: 0 1px 2px rgba(60, 64, 67, 0.3), 0 1px 3px 1px rgba(60, 64, 67, 0.15);\n",
              "    fill: var(--button-hover-fill-color);\n",
              "  }\n",
              "\n",
              "  .colab-df-quickchart-complete:disabled,\n",
              "  .colab-df-quickchart-complete:disabled:hover {\n",
              "    background-color: var(--disabled-bg-color);\n",
              "    fill: var(--disabled-fill-color);\n",
              "    box-shadow: none;\n",
              "  }\n",
              "\n",
              "  .colab-df-spinner {\n",
              "    border: 2px solid var(--fill-color);\n",
              "    border-color: transparent;\n",
              "    border-bottom-color: var(--fill-color);\n",
              "    animation:\n",
              "      spin 1s steps(1) infinite;\n",
              "  }\n",
              "\n",
              "  @keyframes spin {\n",
              "    0% {\n",
              "      border-color: transparent;\n",
              "      border-bottom-color: var(--fill-color);\n",
              "      border-left-color: var(--fill-color);\n",
              "    }\n",
              "    20% {\n",
              "      border-color: transparent;\n",
              "      border-left-color: var(--fill-color);\n",
              "      border-top-color: var(--fill-color);\n",
              "    }\n",
              "    30% {\n",
              "      border-color: transparent;\n",
              "      border-left-color: var(--fill-color);\n",
              "      border-top-color: var(--fill-color);\n",
              "      border-right-color: var(--fill-color);\n",
              "    }\n",
              "    40% {\n",
              "      border-color: transparent;\n",
              "      border-right-color: var(--fill-color);\n",
              "      border-top-color: var(--fill-color);\n",
              "    }\n",
              "    60% {\n",
              "      border-color: transparent;\n",
              "      border-right-color: var(--fill-color);\n",
              "    }\n",
              "    80% {\n",
              "      border-color: transparent;\n",
              "      border-right-color: var(--fill-color);\n",
              "      border-bottom-color: var(--fill-color);\n",
              "    }\n",
              "    90% {\n",
              "      border-color: transparent;\n",
              "      border-bottom-color: var(--fill-color);\n",
              "    }\n",
              "  }\n",
              "</style>\n",
              "\n",
              "      <script>\n",
              "        async function quickchart(key) {\n",
              "          const quickchartButtonEl =\n",
              "            document.querySelector('#' + key + ' button');\n",
              "          quickchartButtonEl.disabled = true;  // To prevent multiple clicks.\n",
              "          quickchartButtonEl.classList.add('colab-df-spinner');\n",
              "          try {\n",
              "            const charts = await google.colab.kernel.invokeFunction(\n",
              "                'suggestCharts', [key], {});\n",
              "          } catch (error) {\n",
              "            console.error('Error during call to suggestCharts:', error);\n",
              "          }\n",
              "          quickchartButtonEl.classList.remove('colab-df-spinner');\n",
              "          quickchartButtonEl.classList.add('colab-df-quickchart-complete');\n",
              "        }\n",
              "        (() => {\n",
              "          let quickchartButtonEl =\n",
              "            document.querySelector('#df-4135e6ee-e9fe-4a5f-8aca-526b6fca774d button');\n",
              "          quickchartButtonEl.style.display =\n",
              "            google.colab.kernel.accessAllowed ? 'block' : 'none';\n",
              "        })();\n",
              "      </script>\n",
              "    </div>\n",
              "\n",
              "    </div>\n",
              "  </div>\n"
            ],
            "application/vnd.google.colaboratory.intrinsic+json": {
              "type": "dataframe",
              "summary": "{\n  \"name\": \"display(train_data\",\n  \"rows\": 5,\n  \"fields\": [\n    {\n      \"column\": \"original_id\",\n      \"properties\": {\n        \"dtype\": \"number\",\n        \"std\": 1,\n        \"min\": 5843,\n        \"max\": 5847,\n        \"num_unique_values\": 5,\n        \"samples\": [\n          5844,\n          5847,\n          5845\n        ],\n        \"semantic_type\": \"\",\n        \"description\": \"\"\n      }\n    },\n    {\n      \"column\": \"text_in_author_style\",\n      \"properties\": {\n        \"dtype\": \"string\",\n        \"num_unique_values\": 5,\n        \"samples\": [\n          \"\\u0635\\u0639\\u0628 \\u062c\\u0650\\u062f\\u0651\\u064b\\u0627 \\u0641\\u064a \\u0638\\u0644 \\u0647\\u0630\\u0627 \\u0627\\u0644\\u062a\\u0642\\u0633\\u064a\\u0645 \\u0627\\u0644\\u0625\\u0631\\u0647\\u0627\\u0628\\u064a \\u0623\\u0646 \\u0623\\u0642\\u0648\\u0644 \\u0625\\u0646\\u0651\\u064e \\u0647\\u0646\\u0627\\u0643 \\u0646\\u0648\\u0639\\u064b\\u0627 \\u062e\\u0627\\u0645\\u0633\\u064b\\u0627 \\u064a\\u064e\\u062c\\u0645\\u0639 \\u0643\\u0644 \\u062e\\u0635\\u0627\\u0626\\u0635\\n\\n\\u0647\\u0630\\u0647\\n\\n\\u0627\\u0644\\u0639\\u0627\\u0626\\u0644\\u0627\\u062a \\u0627\\u0644\\u0641\\u0646\\u064a\\u0629\\u060c \\u0648\\u064a\\u064f\\u0633\\u0645\\u0651\\u064f\\u0648\\u0646\\u0647 \\u0645\\u0641\\u0643\\u0631\\u0627\\u062a \\u0623\\u0648 \\u0627\\u0646\\u0637\\u0628\\u0627\\u0639\\u0627\\u062a\\u060c \\u0623\\u0648 \\u064a\\u064f\\u063a\\u0627\\u0644\\u064a \\u0628\\u0639\\u0636\\u064f\\u0647\\u0645 \\u062d\\u062a\\u0649 \\u0648\\u064a\\u064f\\u0633\\u0645\\u064a\\u0647 \\u0627\\u0644\\u0634\\u0643\\u0644\\n\\n\\u0627\\u0644\\u062d\\u062f\\u064a\\u062b\\n\\n\\u062c\\u0650\\u062f\\u0651\\u064b\\u0627 \\u0644\\u0644\\u0642\\u0635\\u0629 \\u0627\\u0644\\u0642\\u0635\\u064a\\u0631\\u0629 \\u0641\\u064a \\u0639\\u0627\\u0644\\u0645 \\u0627\\u0644\\u064a\\u0648\\u0645\\u060c \\u0641\\u0647\\u0648 \\u064a\\u062c\\u0630\\u0628 \\u0627\\u0644\\u0642\\u0627\\u0631\\u0626 \\u0645\\u0646 \\u0623\\u0648\\u0644 \\u0643\\u0644\\u0645\\u0629\\u060c \\u0648\\u0641\\u064a\\u0647 \\u062f\\u0631\\u0627\\u0645\\u0627 \\u062f\\u0627\\u062e\\u0644\\u064a\\u0629\\n\\n\\u0648\\u0645\\u0648\\u0633\\u064a\\u0642\\u0649 \\u0644\\u063a\\u0648\\u064a\\u0629 \\u062a\\u0631\\u0643\\u064a\\u0628\\u064a\\u0629\\u060c \\u0648\\u062e\\u064a\\u0637 \\u0641\\u0646\\u064a \\u0642\\u0635\\u0635\\u064a \\u0623\\u0643\\u062b\\u0631 \\u0625\\u062d\\u0643\\u0627\\u0645\\u064b\\u0627 \\u0631\\u0628\\u0645\\u0627 \\u0645\\u0646 \\u0627\\u0644\\u062e\\u064a\\u0648\\u0637 \\u0627\\u0644\\u0641\\u0646\\u064a\\u0629 \\u0627\\u0644\\u062a\\u064a \\u062a\\u062c\\u062f\\u0647\\u0627\\n\\n\\u0641\\u064a\\n\\n\\u0627\\u0644\\u0642\\u0635\\u0635 \\u0627\\u0644\\u0642\\u0635\\u064a\\u0631\\u0629.\\n\\n\\u0648\\u0625\\u0630\\u0627 \\u0643\\u0627\\u0646\\u062a \\u0645\\u0643\\u0627\\u0646\\u0629 \\u0623\\u064a \\u0641\\u0646 \\u0648\\u062f\\u0631\\u062c\\u0629 \\u0631\\u064f\\u0642\\u064a\\u0651\\u0650\\u0647 \\u062a\\u064f\\u0642\\u0627\\u0633 \\u0623\\u0648\\u0651\\u064e\\u0644\\u064b\\u0627 \\u0628\\u0645\\u0642\\u062f\\u0627\\u0631 \\u0641\\u0627\\u0639\\u0644\\u064a\\u062a\\u0647\\u060c \\u0648\\u0644\\u064a\\u0633 \\u0628\\u0645\\u0642\\u062f\\u0627\\u0631 \\u0627\\u0646\\u062a\\u0634\\u0627\\u0631\\u0647\\u060c\\n\\n\\u0641\\u0642\\u062f \\u064a\\u0643\\u0648\\u0646 \\u0627\\u0644\\u0627\\u0646\\u062a\\u0634\\u0627\\u0631 \\u0631\\u0627\\u062c\\u0639\\u064b\\u0627 \\u0644\\u0623\\u0633\\u0628\\u0627\\u0628 \\u0644\\u0627 \\u0639\\u0644\\u0627\\u0642\\u0629 \\u0644\\u0647\\u0627 \\u0628\\u0641\\u0646\\u064a\\u0629 \\u0627\\u0644\\u0639\\u0645\\u0644\\u061b \\u0641\\u0625\\u0646\\u064a \\u0623\\u0642\\u0648\\u0644\\u0647\\u0627 \\u0628\\u0635\\u0631\\u0627\\u062d\\u0629 \\u0625\\u0646 \\u0647\\u0630\\u0627\\n\\n\\u0627\\u0644\\u0634\\u0643\\u0644 \\u0627\\u0644\\u0630\\u064a \\u0623\\u0643\\u062a\\u0628 \\u0628\\u0647 \\u0645\\u0627 \\u0623\\u064f\\u0633\\u0645\\u0651\\u0650\\u064a\\u0647 \\u0623\\u0648 \\u064a\\u064f\\u0633\\u0645\\u0651\\u0650\\u064a\\u0647 \\u0627\\u0644\\u0623\\u0647\\u0631\\u0627\\u0645 \\u0645\\u0646 \\u0645\\u0641\\u0643\\u0631\\u0629 \\u062f.\\n\\n\\u064a\\u0648\\u0633\\u0641 \\u0625\\u062f\\u0631\\u064a\\u0633\\u060c \\u0634\\u0643\\u0644 \\u0641\\u0646\\u064a\\n\\n\\u062e\\u0627\\u0644\\u0635 \\u0644\\u0627\\n\\n\\u0639\\u0644\\u0627\\u0642\\u0629 \\u0644\\u0647 \\u0627\\u0644\\u0628\\u062a\\u0651\\u064e\\u0629 \\u0628\\u0634\\u0643\\u0644 \\u0627\\u0644\\u0645\\u0642\\u0627\\u0644\\u0629 \\u0627\\u0644\\u0642\\u062f\\u064a\\u0645\\u0629\\u060c \\u0643\\u0645\\u0627 \\u0643\\u0627\\u0646 \\u064a\\u064e\\u0643\\u062a\\u0628\\u0647\\u0627 \\u0627\\u0644\\u0639\\u0642\\u0651\\u064e\\u0627\\u062f \\u0623\\u0648 \\u0627\\u0644\\u0645\\u0627\\u0632\\u0646\\u064a \\u0623\\u0648 \\u0637\\u0647 \\u062d\\u0633\\u064a\\u0646\\u060c\\n\\n\\u0623\\u0648\\n\\n\\u0627\\u0644\\u0643\\u064f\\u062a\\u0651\\u064e\\u0627\\u0628 \\u0627\\u0644\\u0645\\u0639\\u0627\\u0635\\u0631\\u0648\\u0646 \\u0627\\u0644\\u0630\\u064a\\u0646 \\u064a\\u062c\\u0644\\u0633\\u0648\\u0646 \\u0625\\u0644\\u0649 \\u0645\\u0643\\u0627\\u062a\\u0628\\u0647\\u0645 \\u0648\\u0641\\u064a \\u0646\\u064a\\u0651\\u064e\\u062a\\u0647\\u0645 \\u0643\\u062a\\u0627\\u0628\\u0629 \\\"\\u0645\\u0642\\u0627\\u0644\\u0629\\\" \\u0623\\u0648 \\u0645\\u0642\\u0627\\u0644\\u060c \\u0628\\u0645\\u0639\\u0646\\u0649\\n\\n\\u0639\\u0642\\u0644\\u0627\\u0646\\u064a \\u0644\\u0647 \\u0645\\u0642\\u062f\\u0645\\u0627\\u062a\\u0647 \\u0648\\u0646\\u062a\\u0627\\u0626\\u062c\\u0647 \\u0627\\u0644\\u0639\\u0642\\u0644\\u0627\\u0646\\u064a\\u0629 \\u0627\\u0644\\u0645\\u062f\\u0631\\u0648\\u0633\\u0629 \\u0628\\u0639\\u0646\\u0627\\u064a\\u0629 \\u0644\\u062a\\u0624\\u062f\\u0651\\u0650\\u064a \\u0625\\u0644\\u0649 \\\"\\u0625\\u0642\\u0646\\u0627\\u0639\\\" \\u0627\\u0644\\u0642\\u0627\\u0631\\u0626 \\u0641\\u064a\\n\\n\\u0627\\u0644\\u0646\\u0647\\u0627\\u064a\\u0629\\n\\n\\u0628\\u0635\\u062d\\u0629 \\u0631\\u0623\\u064a \\u0627\\u0644\\u0643\\u0627\\u062a\\u0628.\\n\\n\\u0647\\u0630\\u0647 \\u0645\\u0642\\u0627\\u0644\\u0627\\u062a \\\"\\u0631\\u0623\\u064a\\\" \\u0648\\u0644\\u064a\\u0633\\u062a \\u0623\\u0639\\u0645\\u0627\\u0644\\u064b\\u0627 \\u0641\\u0646\\u064a\\u0629.\\n\\n\\u0648\\u0627\\u0644\\u0641\\u0631\\u0642 \\u0628\\u064a\\u0646 \\u0645\\u0642\\u0627\\u0644\\u0629 \\u0627\\u0644\\u0631\\u0623\\u064a \\u0648\\u0627\\u0644\\u0639\\u0645\\u0644 \\u0627\\u0644\\u0641\\u0646\\u064a \\u0627\\u0644\\u0630\\u064a \\u0623\\u0643\\u062a\\u0628\\u0647\\u060c \\u0647\\u0648 \\u0627\\u0644\\u0641\\u0631\\u0642 \\u0628\\u064a\\u0646 \\u0623\\u064a \\u0645\\u0648\\u0636\\u0648\\u0639 \\u062a\\u0642\\u0631\\u0624\\u0647 \\u0641\\u064a\\n\\n\\u0647\\u0630\\u0627\\n\\n\\u0627\\u0644\\u0643\\u062a\\u0627\\u0628 \\u0648\\u0628\\u064a\\u0646 \\u0647\\u0630\\u0627 \\u0627\\u0644\\u0645\\u0648\\u0636\\u0648\\u0639 \\u0646\\u0641\\u0633\\u0647 \\u0644\\u0648 \\u0643\\u064f\\u062a\\u0628 \\u0639\\u0644\\u0649 \\u0647\\u064a\\u0626\\u0629 \\u0645\\u0642\\u0627\\u0644\\u0629 \\u0631\\u0623\\u064a\\u060c \\u0644\\u0647\\u0627 \\u0645\\u0642\\u062f\\u0645\\u0629 \\u0648\\u0645\\u062f\\u062e\\u0644 \\u0648\\u0648\\u0633\\u0637 \\u0648\\u0639\\u0631\\u0636\\n\\n\\u0648\\u0646\\u062a\\u064a\\u062c\\u0629.\\n\\n\\u0627\\u0644\\u0645\\u0633\\u0623\\u0644\\u0629 \\u0641\\u064a \\u0627\\u0644\\u062d\\u0642\\u064a\\u0642\\u0629 \\u0644\\u064a\\u0633\\u062a \\u0645\\u0648\\u0636\\u0648\\u0639\\u064a \\u0627\\u0644\\u0628\\u062a\\u0651\\u064e\\u0629\\u060c \\u0648\\u0625\\u0646\\u0645\\u0627 \\u0647\\u064a \\u0645\\u0648\\u0636\\u0648\\u0639 \\u0646\\u0627\\u0642\\u062f \\u062e\\u0644\\u0651\\u064e\\u0627\\u0642 \\u062c\\u0631\\u064a\\u0621 \\u064a\\u062a\\u0641\\u062d\\u0651\\u064e\\u0635\\n\\n\\u0627\\u0644\\u0643\\u062a\\u0628 \\u0627\\u0644\\u062a\\u064a\\n\\n\\u0623\\u062e\\u0631\\u062c\\u062a\\u064f\\u0647\\u0627 \\u0645\\u0646\\u0630 \\u0628\\u062f\\u0623\\u062a \\u0643\\u062a\\u0627\\u0628\\u0629 \\u0627\\u0644\\u0645\\u0641\\u0643\\u0631\\u0629\\u061b \\u0648\\u0647\\u064a: \\\"\\u0645\\u0646 \\u0645\\u0641\\u0643\\u0631\\u0629 \\u062f.\\n\\n\\u064a\\u0648\\u0633\\u0641 \\u0625\\u062f\\u0631\\u064a\\u0633\\\" \\u062c\\u0632\\u0621 \\u0623\\u0648\\u0644 \\u0648\\u062b\\u0627\\u0646\\u064d\\u060c \\u0648 \\\"\\u0627\\u0644\\u0625\\u0631\\u0627\\u062f\\u0629\\\"\\u060c\\n\\n\\u0625\\u0630\\u0627 \\u0646\\u0638\\u064e\\u0631\\u064e \\u0630\\u0644\\u0643 \\u0627\\u0644\\u0646\\u0627\\u0642\\u062f \\u0627\\u0644\\u0630\\u064a \\u0623\\u0631\\u062c\\u0648\\u0647 \\u0628\\u062a\\u062c\\u0631\\u0651\\u064f\\u062f \\u0623\\u0648 \\u0628\\u062c\\u0631\\u0623\\u0629\\u060c \\u0648\\u0628\\u0631\\u0624\\u064a\\u0629 \\u062a\\u0633\\u062a\\u0643\\u0634\\u0641 \\u0648\\u062a\\u0643\\u062a\\u0634\\u0641 \\u0648\\u062a\\u062e\\u0644\\u0642\\u060c \\u0643\\u0645\\u0627\\n\\n\\u0644\\u0627 \\u0628\\u062f\\n\\n\\u0644\\u0623\\u064a \\u0646\\u0627\\u0642\\u062f \\u062d\\u0642\\u064a\\u0642\\u064a \\u0623\\u0646 \\u064a\\u0641\\u0639\\u0644\\u060c \\u0641\\u0633\\u0648\\u0641 \\u064a\\u064e\\u0637\\u0644\\u0639 \\u0639\\u0644\\u064a\\u0646\\u0627 \\u0628\\u0631\\u0623\\u064a-\\u0643\\u0645\\u0627 \\u0630\\u0643\\u0631\\u0647 \\u0627\\u0644\\u0634\\u0627\\u0639\\u0631 \\u0627\\u0644\\u0643\\u0628\\u064a\\u0631 \\u0641\\u0627\\u0631\\u0648\\u0642 \\u0634\\u0648\\u0634\\u0629\\n\\n\\u0641\\u064a\\n\\n\\u0623\\u0645\\u0633\\u064a\\u0629 \\u062b\\u0642\\u0627\\u0641\\u064a\\u0629-\\u0631\\u0623\\u064a \\u0641\\u064a\\u0647 \\u0645\\u0641\\u0627\\u062c\\u0623\\u0629 \\u0644\\u0646\\u0627 \\u062c\\u0645\\u064a\\u0639\\u064b\\u0627\\u060c \\u0644\\u0643\\u0645 \\u0648\\u0644\\u064a.\\n\\n\\u064a.\\n\\n\\u0625.\\n\\n\\u0641\\u064a \\u0639\\u0642\\u0644\\u064a \\u0648\\u0636\\u0645\\u064a\\u0631\\u064a \\u0643\\u0644\\u0645\\u062a\\u0627\\u0646\\u060c \\u0623\\u0631\\u062c\\u0648 \\u0623\\u0646 \\u064a\\u064f\\u0639\\u064a\\u0646\\u0646\\u064a \\u0627\\u0644\\u0644\\u0647 \\u0639\\u0644\\u0649 \\u0642\\u0648\\u0644\\u0647\\u0645\\u0627.\",\n          \"\\u0643\\u0646\\u062a\\u064f \\u0623\\u0631\\u064a\\u062f \\u0623\\u0646 \\u0623\\u062a\\u0646\\u0627\\u0648\\u0644 \\u0645\\u0648\\u0636\\u0648\\u0639\\u064b\\u0627 \\u0645\\u0646 \\u0647\\u0630\\u0647 \\u0627\\u0644\\u0645\\u0648\\u0627\\u0636\\u064a\\u0639.\\n\\n\\u0648\\u0644\\u0643\\u0646\\u064a \\u0644\\u0645 \\u0623\\u0633\\u062a\\u0637\\u0639.\\n\\n\\u0641\\u0627\\u0644\\u0646\\u0638\\u0631 \\u0625\\u0644\\u0649 \\u0627\\u0644\\u062e\\u0631\\u064a\\u0637\\u0629 \\u0627\\u0644\\u062f\\u0627\\u062e\\u0644\\u064a\\u0629 \\u0627\\u0644\\u0645\\u0635\\u0631\\u064a\\u0629 \\u0637\\u0648\\u0627\\u0644 \\u0627\\u0644\\u0623\\u0633\\u0627\\u0628\\u064a\\u0639 \\u0627\\u0644\\u0645\\u0627\\u0636\\u064a\\u0629 \\u0623\\u0648\\u0631\\u062b\\u0646\\u064a \\u062d\\u0633\\u0631\\u0629\\u064b \\u0644\\u0645 \\u0623\\u062c\\u062f \\u0628\\u064f\\u062f\\u0651\\u064b\\u0627\\n\\n\\u0645\\u0639\\u0647\\u0627 \\u0645\\u0646 \\u0623\\u0646 \\u0623\\u0642\\u0648\\u0644 \\u0627\\u0644\\u0643\\u0644\\u0645\\u062a\\u064e\\u064a\\u0646 \\u0627\\u0644\\u0644\\u062a\\u064e\\u064a\\u0646 \\u0641\\u0631\\u064e\\u0636\\u064e\\u062a\\u0627 \\u0646\\u0641\\u0633\\u064a\\u0647\\u0645\\u0627 \\u0639\\u0644\\u0649 \\u0639\\u0642\\u0644\\u064a \\u0648\\u0642\\u0644\\u0628\\u064a \\u0648\\u0642\\u0644\\u0645\\u064a.\\n\\n\\u0648\\u0623\\u064f\\u0648\\u0644\\u0649 \\u062a\\u0644\\u0643 \\u0627\\u0644\\u0643\\u0644\\u0645\\u0627\\u062a \\u0625\\u0644\\u0649 \\u0627\\u0644\\u0631\\u0626\\u064a\\u0633 \\u062d\\u0633\\u0646\\u064a \\u0645\\u0628\\u0627\\u0631\\u0643.\\n\\n\\u0644\\u0642\\u062f \\u0644\\u0645\\u062d\\u062a\\u064f \\u0641\\u064a \\u062a\\u0635\\u0631\\u064a\\u062d\\u0627\\u062a\\u0647 \\u0648\\u0645\\u0624\\u062a\\u0645\\u0631\\u0627\\u062a\\u0647 \\u0648\\u0623\\u062d\\u0627\\u062f\\u064a\\u062b\\u0647 \\u0627\\u0644\\u0645\\u062d\\u062f\\u0648\\u062f\\u0629 \\u0644\\u0647\\u062c\\u0629\\u064e \\u0636\\u064a\\u0642 \\u0634\\u062f\\u064a\\u062f \\u0628\\u0645\\u0627 \\u062a\\u0642\\u0648\\u0645 \\u0628\\u0647 \\u0627\\u0644\\u0645\\u0639\\u0627\\u0631\\u0636\\u0629\\n\\n\\u0645\\u0646 \\u062a\\u0647\\u064a\\u064a\\u062c \\u0644\\u0644\\u0631\\u0623\\u064a \\u0627\\u0644\\u0639\\u0627\\u0645\\u061b \\u0641\\u0643\\u0644\\u0651\\u064f \\u0635\\u062d\\u064a\\u0641\\u0629 \\u0645\\u0639\\u0627\\u0631\\u0636\\u0629 \\u0639\\u0628\\u0627\\u0631\\u0629 \\u0639\\u0646 \\u0646\\u0642\\u0652\\u062f \\u0634\\u062f\\u064a\\u062f \\u0648\\u0627\\u062a\\u0647\\u0627\\u0645\\u0627\\u062a \\u0645\\u0648\\u062c\\u0651\\u064e\\u0647\\u0629 \\u0625\\u0644\\u0649 \\u0628\\u0639\\u0636\\n\\n\\u0623\\u062c\\u0647\\u0632\\u0629\\n\\n\\u0627\\u0644\\u062d\\u0643\\u0645 \\u0648\\u0625\\u0644\\u0649 \\u0633\\u064a\\u0627\\u0633\\u062a\\u0647\\u060c \\u0645\\u0646 \\u0623\\u0648\\u0644 \\u0643\\u0644\\u0645\\u0629 \\u0625\\u0644\\u0649 \\u0622\\u062e\\u0631 \\u0643\\u0644\\u0645\\u0629.\\n\\n\\u0648\\u0627\\u0644\\u0631\\u0626\\u064a\\u0633 \\u0625\\u0646\\u0633\\u0627\\u0646\\u060c \\u064a\\u064e\\u0636\\u064a\\u0642 \\u0628\\u0627\\u0644\\u0646\\u0642\\u062f \\u0645\\u062b\\u0644 \\u0623\\u064a \\u0625\\u0646\\u0633\\u0627\\u0646 \\u0622\\u062e\\u0631\\u060c \\u0648\\u0642\\u0637\\u0639\\u064b\\u0627 \\u0644\\u0648 \\u0643\\u0627\\u0646 \\u0625\\u0628\\u0631\\u0627\\u0647\\u064a\\u0645 \\u0634\\u0643\\u0631\\u064a \\u0623\\u0648 \\u062e\\u0627\\u0644\\u062f\\n\\n\\u0627\\u0644\\u062f\\u064a\\u0646 \\u0623\\u0648 \\u0641\\u0624\\u0627\\u062f \\u0633\\u0631\\u0627\\u062c \\u0627\\u0644\\u062f\\u064a\\u0646 \\u0623\\u0648 \\u0639\\u0645\\u0631 \\u0627\\u0644\\u062a\\u0644\\u0645\\u0633\\u0627\\u0646\\u064a \\u0641\\u064a \\u0645\\u0648\\u0642\\u0641\\u0650\\u0647 \\u0648\\u062c\\u0627\\u0621\\u062a\\u0647 \\u0635\\u062d\\u064f\\u0641 \\u0627\\u0644\\u0645\\u0639\\u0627\\u0631\\u0636\\u0629 \\u0641\\u064a \\u0627\\u0644\\u0635\\u0628\\u0627\\u062d\\n\\n\\u0648\\u0642\\u0631\\u0623 \\u0643\\u0644\\n\\n\\u0647\\u0630\\u0627 \\u0627\\u0644\\u0630\\u064a \\u064a\\u064f\\u0643\\u062a\\u064e\\u0628 \\u0641\\u064a\\u0647\\u0627 \\u0644\\u0627\\u0646\\u062a\\u0627\\u0628\\u062a\\u0647 \\u062d\\u0627\\u0644\\u0629 \\u063a\\u0636\\u0628\\u061b \\u0641\\u0627\\u0644\\u0648\\u0627\\u062d\\u062f \\u0645\\u0650\\u0646\\u0651\\u064e\\u0627 \\u064a\\u063a\\u0636\\u0628 \\u0625\\u0630\\u0627 \\u0648\\u064f\\u062c\\u0647 \\u0625\\u0644\\u064a\\u0647 \\u0623\\u0648 \\u0644\\u0639\\u0645\\u0644\\u0647\\n\\n\\u0639\\u0644\\u0649 \\u0645\\u0633\\u062a\\u0648\\u0649 \\u0645\\u062d\\u062f\\u0648\\u062f \\u062c\\u0650\\u062f\\u0651\\u064b\\u0627\\u060c \\u0641\\u0645\\u0627 \\u0628\\u0627\\u0644\\u0643 \\u0648\\u0627\\u0644\\u0646\\u0642\\u062f \\u0644\\u0627 \\u064a\\u062a\\u0631\\u0643 \\u0643\\u0628\\u064a\\u0631\\u0629 \\u0648\\u0644\\u0627 \\u0635\\u063a\\u064a\\u0631\\u0629 \\u0625\\u0644\\u0627 \\u0623\\u0648\\u0631\\u062f\\u0647\\u0627 \\u0645\\u0646 \\u0623\\u0648\\u0644\\n\\n\\u0623\\u064a \\u062e\\u0637\\u0623\\n\\n\\u0641\\u064a \\u0645\\u062d\\u0627\\u0641\\u0638\\u0629 \\u0642\\u0646\\u0627 \\u0625\\u0644\\u0649 \\u0645\\u062c\\u0627\\u0631\\u064a \\u0627\\u0644\\u0625\\u0633\\u0643\\u0646\\u062f\\u0631\\u064a\\u0629.\\n\\n\\u0648\\u0635\\u062d\\u064a\\u062d \\u0623\\u0646 \\u0643\\u062b\\u064a\\u0631\\u064b\\u0627 \\u0645\\u0646 \\u0627\\u0644\\u0627\\u0646\\u062a\\u0642\\u0627\\u062f\\u0627\\u062a \\u0644\\u0647\\u0627 \\u0645\\u0627 \\u064a\\u064f\\u0628\\u0631\\u0651\\u0650\\u0631\\u0647\\u0627\\u060c\\n\\n\\u0635\\u062d\\u064a\\u062d \\u0641\\u064a \\u062d\\u062f\\u0651\\u0650 \\u0630\\u0627\\u062a\\u0647\\u060c \\u0648\\u0644\\u0643\\u0646 \\\"\\u0645\\u0646\\u0638\\u0631\\\" \\u0627\\u0644\\u0635\\u062d\\u064a\\u0641\\u0629 \\u0627\\u0644\\u0645\\u0639\\u0627\\u0631\\u0636\\u0629 \\u064a\\u064e\\u0628\\u062f\\u0648 \\u0645\\u063a\\u064a\\u0638\\u064b\\u0627 \\u0644\\u0623\\u064a \\u0631\\u0626\\u064a\\u0633 \\u0623\\u0648 \\u062d\\u0627\\u0643\\u0645.\\n\\n\\u0648\\u0642\\u062f\\n\\n\\u0627\\u0644\\u062d\\u0643\\u0648\\u0645\\u0629 \\u0627\\u0644\\u0645\\u0635\\u0631\\u064a\\u0629-\\u0643\\u0645\\u0627 \\u0642\\u0627\\u0644 \\u0628\\u062d\\u0642 \\u0627\\u0644\\u0623\\u0633\\u062a\\u0627\\u0630 \\u0645\\u0635\\u0637\\u0641\\u0649 \\u0623\\u0645\\u064a\\u0646-\\u0633\\u064a\\u0626\\u0629 \\u0627\\u0644\\u062d\\u0638 \\u062e\\u0644\\u0627\\u0644 \\u0627\\u0644\\u0634\\u0647\\u0648\\u0631 \\u0627\\u0644\\u062b\\u0644\\u0627\\u062b\\u0629\\n\\n\\u0627\\u0644\\u0645\\u0627\\u0636\\u064a\\u0629\\u061b \\u0641\\u0642\\u062f \\u062a\\u0648\\u0627\\u0644\\u062a \\u0627\\u0644\\u062d\\u0648\\u0627\\u062f\\u062b \\u0648\\u0627\\u0644\\u0646\\u0643\\u0628\\u0627\\u062a \\u0628\\u0637\\u0631\\u064a\\u0642\\u0629 \\u0648\\u0643\\u0623\\u0646\\u0645\\u0627 \\u062f\\u0628\\u0631\\u0647\\u0627 \\u0634\\u064a\\u0637\\u0627\\u0646 \\u0631\\u062c\\u064a\\u0645\\u060c \\u0641\\u0645\\u0646 \\u0623\\u0648\\u0644 \\u0627\\u0644\\u063a\\u0627\\u0631\\u0629\\n\\n\\u062a\\u0648\\u0646\\u0633 \\u0625\\u0644\\u0649 \\u062e\\u0637\\u0641\\u0650 \\u0627\\u0644\\u0628\\u0627\\u062e\\u0631\\u0629 \\u0627\\u0644\\u0625\\u064a\\u0637\\u0627\\u0644\\u064a\\u0629\\u060c \\u0625\\u0644\\u0649 \\u062e\\u0637\\u0641\\u0650 \\u0627\\u0644\\u0637\\u0627\\u0626\\u0631\\u0629 \\u0627\\u0644\\u0645\\u0635\\u0631\\u064a\\u0629\\u060c \\u0625\\u0644\\u0649 \\u062d\\u0627\\u062f\\u062b \\u0633\\u0644\\u064a\\u0645\\u0627\\u0646 \\u062e\\u0627\\u0637\\u0631\\u060c \\u0625\\u0644\\u0649\\n\\n\\u0648\\u0641\\u0627\\u062a\\u0647\\u060c \\u0643\\u0644\\u0647 \\u0648\\u0631\\u0627\\u0621 \\u0628\\u0639\\u0636\\u0650\\u0647 \\u0627\\u0644\\u0628\\u0639\\u0636\\u060c \\u0648\\u0643\\u0644\\u0647 \\u0645\\u062c\\u0627\\u0644 \\u0628\\u0627\\u0631\\u062d \\u0644\\u0623\\u0634\\u062f \\u0623\\u0646\\u0648\\u0627\\u0639 \\u0627\\u0644\\u0646\\u0642\\u062f \\u0648\\u0627\\u0644\\u0627\\u0646\\u062a\\u0642\\u0627\\u062f.\\n\\n\\u062b\\u0645 \\u062c\\u0627\\u0621\\u062a \\u062d\\u0643\\u0627\\u064a\\u0629\\n\\n\\u0634\\u0642\\u064a\\u0642 \\u0631\\u0626\\u064a\\u0633 \\u0645\\u062c\\u0644\\u0633 \\u0627\\u0644\\u0634\\u0639\\u0628 \\u0648\\u0628\\u0642\\u064a\\u0629 \\u0639\\u0635\\u0627\\u0628\\u0629 \\u0627\\u0644\\u0646\\u0642\\u0652\\u062f \\u0644\\u062a\\u064f\\u0636\\u064a\\u0641 \\u062d\\u0637\\u0628\\u064b\\u0627 \\u062c\\u062f\\u064a\\u062f\\u064b\\u0627 \\u0625\\u0644\\u0649 \\u0627\\u0644\\u0646\\u0627\\u0631 \\u0627\\u0644\\u0645\\u0648\\u0642\\u064e\\u062f\\u0629\\u060c \\u0645\\u0645\\u0627\\n\\n\\u0627\\u0644\\u0645\\u0639\\u0627\\u0631\\u0636\\u0629 \\u062a\\u0639\\u064a\\u0634 \\\"\\u0623\\u0645\\u062c\\u062f\\\" \\u0623\\u064a\\u0627\\u0645\\u0650 \\u0646\\u064e\\u0642\\u062f\\u0650\\u0647\\u0627 \\u0648\\u0645\\u0639\\u0627\\u0631\\u0636\\u062a\\u0647\\u0627.\\n\\n\\u0648\\u063a\\u0636\\u0628 \\u0627\\u0644\\u0631\\u0626\\u064a\\u0633\\u060c \\u0648\\u0644\\u0645 \\u062a\\u062e\\u0644\\u064f \\u063a\\u0636\\u0628\\u062a\\u0647 \\u0645\\u0646 \\u0644\\u0647\\u062c\\u0629 \\u062a\\u0647\\u062f\\u064a\\u062f \\u0644\\u0647\\u0624\\u0644\\u0627\\u0621 \\u0627\\u0644\\u0630\\u064a\\u0646 \\u0641\\u064a \\u0631\\u0623\\u064a\\u0647 \\\"\\u064a\\u064f\\u0631\\u064a\\u062f\\u0648\\u0646 \\u0623\\u0646 \\u064a\\u064f\\u0641\\u0634\\u0650\\u0644\\u0648\\u0627\\n\\n\\u0627\\u0644\\u062a\\u062c\\u0631\\u0628\\u0629 \\u0627\\u0644\\u062f\\u064a\\u0645\\u0642\\u0631\\u0627\\u0637\\u064a\\u0629 \\u0648\\u064a\\u064f\\u0635\\u0628\\u062d \\u0628\\u0639\\u062f\\u0647\\u0627 \\u0627\\u0644\\u062e\\u064a\\u0627\\u0631 \\u0645\\u062e\\u064a\\u0641\\u064b\\u0627 \\u0645\\u062e\\u064a\\u0641\\u064b\\u0627.\\\"\\n\\n\\u0648\\u0644\\u0644\\u0631\\u0626\\u064a\\u0633\\u060c \\u0648\\u0642\\u062f \\u062d\\u062f\\u064e\\u062b \\u0647\\u0630\\u0627 \\u0643\\u0644\\u0647\\u060c \\u0648\\u0627\\u0633\\u062a\\u063a\\u0644\\u0651\\u064e\\u062a\\u0647 \\u0635\\u062d\\u0641 \\u0627\\u0644\\u0645\\u0639\\u0627\\u0631\\u0636\\u0629 \\u0625\\u0644\\u0649 \\u0622\\u062e\\u0631 \\u0642\\u0637\\u0631\\u0629\\u064d \\u0625\\u062b\\u0627\\u0631\\u0629\\u064b \\u0648\\u0646\\u0642\\u062f\\u064b\\u0627\\u060c\\n\\n\\u0623\\u0646\\n\\n\\u0648\\u0644\\u0643\\u0646\\u064a \\u0644\\u0633\\u062a \\u0645\\u0639 \\u0627\\u0644\\u0631\\u0626\\u064a\\u0633 \\u0641\\u064a \\u063a\\u0636\\u0628\\u0647.\\n\\n\\u0641\\u0645\\u0639\\u0638\\u0645 \\u0627\\u0644\\u0623\\u062d\\u062f\\u0627\\u062b \\u0627\\u0644\\u062a\\u064a \\u062a\\u062f\\u064a\\u0646\\u0647\\u0627 \\u0627\\u0644\\u0645\\u0639\\u0627\\u0631\\u0636\\u0629 \\u0644\\u064a\\u0633\\u064e\\u062a \\u0645\\u0646 \\u0635\\u064f\\u0646\\u0639\\u0650\\u0647\\u060c \\u0648\\u0644\\u0627 \\u0628\\u0639\\u0644\\u0645\\u0647\\u060c \\u0648\\u062a\\u0645\\u0651\\u064e\\u062a \\u0645\\u0646 \\u0623\\u062c\\u0647\\u0632\\u0629\\n\\n\\u0648\\u062e\\u0627\\u0646\\u064e\\u062a \\u062b\\u0642\\u062a\\u0647\\u060c \\u0641\\u0644\\u0645\\u0627\\u0630\\u0627 \\u064a\\u064e\\u062d\\u0645\\u0644 \\u0627\\u0644\\u0631\\u0626\\u064a\\u0633 \\u062e\\u0637\\u0627\\u064a\\u0627 \\u063a\\u064a\\u0631\\u0647 \\u0648\\u0643\\u0623\\u0646\\u0647 \\u0627\\u0644\\u0645\\u0633\\u064a\\u062d \\u064a\\u064f\\u0631\\u064a\\u062f \\u0623\\u0646 \\u064a\\u062d\\u0645\\u0644 \\u062e\\u0637\\u0627\\u064a\\u0627 \\u0643\\u0644 \\u0631\\u062c\\u0627\\u0644\\u0627\\u062a\\n\\n\\u0627\\u0644\\u062d\\u0643\\u0645\\u060c \\u0648\\u0647\\u0630\\u0627 \\u0634\\u064a\\u0621 \\u0644\\u0627 \\u064a\\u0633\\u062a\\u0637\\u064a\\u0639 \\u0628\\u0634\\u0631 \\u0648\\u0627\\u062d\\u062f \\u0623\\u0646 \\u064a\\u062a\\u062d\\u0645\\u0651\\u064e\\u0644\\u0647.\\n\\n\\u0644\\u0645\\u0627\\u0630\\u0627 \\u0644\\u0627 \\u064a\\u064f\\u062d\\u0627\\u0633\\u064e\\u0628 \\u0643\\u0644\\u0651\\u064f \\u0645\\u062e\\u0637\\u0626 \\u0639\\u0644\\u0649 \\u062e\\u0637\\u0626\\u0647\\u060c\\n\\n\\u0645\\u062b\\u0644\\u0645\\u0627 \\u062d\\u062f\\u062b \\u0641\\u064a \\u0642\\u0636\\u064a\\u0629 \\u0639\\u0635\\u0627\\u0628\\u0629 \\u0627\\u0644\\u0646\\u0642\\u062f.\",\n          \"\\u0643\\u0627\\u0646 \\u0645\\u0645\\u0643\\u0646\\u064b\\u0627 \\u0623\\u0646 \\u0623\\u062a\\u0641\\u0627\\u062f\\u0649 \\u0647\\u0630\\u0627\\n\\n\\u0627\\u0644\\u0645\\u0648\\u0636\\u0648\\u0639 \\u0627\\u0644\\u0634\\u0627\\u0626\\u0643\\u060c \\u0648\\u0623\\u0630\\u0647\\u0628 \\u0623\\u062a\\u062d\\u062f\\u0651\\u064e\\u062b \\u0639\\u0646 \\u0645\\u0648\\u0636\\u0648\\u0639 \\u0645\\u0646 \\u0627\\u0644\\u0645\\u0648\\u0627\\u0636\\u064a\\u0639 \\u0627\\u0644\\u062a\\u064a \\u062a\\u064e\\u0634\\u063a\\u0644 \\u0628\\u0627\\u0644 \\u0631\\u062c\\u0644 \\u0627\\u0644\\u0634\\u0627\\u0631\\u0639 \\u0627\\u0644\\u0645\\u0635\\u0631\\u064a\\n\\n(\\u0628\\u0627\\u0644\\u0645\\u0646\\u0627\\u0633\\u0628\\u0629 \\u0647\\u0630\\u0627 \\u0627\\u0644\\u062a\\u0639\\u0628\\u064a\\u0631 \\u0641\\u064a\\u0645\\u0627 \\u0623\\u0639\\u062a\\u0642\\u062f \\u0644\\u0645 \\u064a\\u064e\\u0639\\u064f\\u062f \\u0644\\u0647 \\u0648\\u062c\\u0648\\u062f\\u061b \\u0625\\u0630 \\u0625\\u0646 \\u0627\\u0644\\u0634\\u0627\\u0631\\u0639 \\u0627\\u0644\\u0645\\u0635\\u0631\\u064a \\u0646\\u0641\\u0633\\u0647 \\u0644\\u0645 \\u064a\\u0639\\u062f\\n\\n\\u0648\\u062c\\u0648\\u062f\\u060c \\u0623\\u0642\\u0635\\u062f \\u0627\\u0644\\u0623\\u0631\\u0635\\u0641\\u0629 \\u0627\\u0644\\u062a\\u064a \\u064a\\u064e\\u0645\\u0634\\u064a \\u0623\\u0648 \\u0645\\u0641\\u0631\\u0648\\u0636 \\u0623\\u0646 \\u064a\\u0645\\u0634\\u064a \\u0639\\u0644\\u064a\\u0647\\u0627 \\u0631\\u062c\\u0644 \\u0627\\u0644\\u0634\\u0627\\u0631\\u0639\\u060c \\u0625\\u0646\\u0647\\u0627 \\u0644\\u0627 \\u062a\\u0648\\u062c\\u062f \\u0625\\u0646 \\u0648\\u064f\\u062c\\u062f\\u062a\\u060c\\n\\n\\u0625\\u0644\\u0627 \\u0641\\u064a \\u0645\\u0646\\u0637\\u0642\\u0629 \\u0648\\u0633\\u0637 \\u0627\\u0644\\u0628\\u0644\\u062f\\u060c \\u0648\\u0644\\u0627 \\u062a\\u0648\\u062c\\u062f \\u0625\\u0644\\u0627 \\u0645\\u0632\\u062f\\u062d\\u0645\\u0629 \\u062e\\u0627\\u0646\\u0642\\u0629 \\u064a\\u062a\\u0636\\u0627\\u0631\\u064e\\u0628 \\u0627\\u0644\\u0646\\u0627\\u0633 \\u0631\\u062c\\u0627\\u0644\\u064b\\u0627 \\u0648\\u0646\\u0633\\u0627\\u0621\\u064b \\u0648\\u0623\\u0637\\u0641\\u0627\\u0644\\u064b\\u0627\\n\\n\\u0648\\u0635\\u0628\\u064a\\u0629\\u064b \\u0641\\u064a \\u0633\\u0628\\u064a\\u0644 \\u0623\\u0646 \\u064a\\u064e\\u0646\\u0641\\u0630 \\u0643\\u0644 \\u0645\\u0646\\u0647\\u0645 \\u0645\\u0646 \\u0630\\u0644\\u0643 \\u0627\\u0644\\u0645\\u064f\\u062e\\u0652\\u062a\\u064e\\u0646\\u0642 \\u0627\\u0644\\u0628\\u0634\\u0631\\u064a \\u0627\\u0644\\u0630\\u064a \\u064a\\u062a\\u0643\\u062f\\u0651\\u064e\\u0633 \\u0641\\u064a\\u0647 \\u0627\\u0644\\u0645\\u0627\\u0631\\u0629).\\n\\n\\u0643\\u0627\\u0646 \\u0645\\u0645\\u0643\\u0646\\u064b\\u0627 \\u0623\\u0646 \\u0623\\u062a\\u0646\\u0627\\u0648\\u0644 \\u0645\\u0634\\u0643\\u0644\\u0629 \\u0645\\u0646 \\u0645\\u0634\\u0627\\u0643\\u0644 \\u062d\\u064a\\u0627\\u062a\\u0646\\u0627 \\u0627\\u0644\\u064a\\u0648\\u0645\\u064a\\u0629 \\u0648\\u0623\\u064f\\u0634\\u064e\\u0631\\u0651\\u0650\\u0642 \\u0648\\u0623\\u064f\\u063a\\u064e\\u0631\\u0651\\u0650\\u0628\\u060c \\u0643\\u0627\\u0646 \\u0645\\u0645\\u0643\\u0646\\u064b\\u0627\\n\\n\\u0623\\u0646\\n\\n\\u0623\\u062a\\u0646\\u0627\\u0648\\u0644 \\u0645\\u0634\\u0643\\u0644\\u0629 \\u0639\\u0631\\u0628\\u064a\\u0629 \\u0648\\u0635\\u0644\\u064e\\u062a \\u0625\\u0644\\u0649 \\u0646\\u0642\\u0637\\u0629 \\u0628\\u0627\\u0644\\u063a\\u0629 \\u0627\\u0644\\u062d\\u0631\\u062c\\u060c \\u0643\\u0627\\u0644\\u0647\\u062c\\u0648\\u0645 \\u0627\\u0644\\u0625\\u064a\\u0631\\u0627\\u0646\\u064a \\u0639\\u0644\\u0649 \\u0627\\u0644\\u0639\\u0631\\u0627\\u0642 \\u0648\\u062a\\u0642\\u0627\\u0639\\u064f\\u0633\\n\\n\\u0623\\u062c\\u0645\\u0639\\u064a\\u0646 (\\u0644\\u0648\\u0644\\u0627 \\u0645\\u0635\\u0631) \\u0639\\u0646 \\u0645\\u0633\\u0627\\u0639\\u064e\\u062f\\u0629 \\u0627\\u0644\\u0639\\u0631\\u0627\\u0642 \\u0639\\u0633\\u0643\\u0631\\u064a\\u0651\\u064b\\u0627.\\n\\n\\u0648\\u0623\\u0646\\u0627 \\u0647\\u0646\\u0627 \\u0623\\u062a\\u0648\\u0642\\u0651\\u064e\\u0641 \\u062d\\u0627\\u0626\\u0631\\u064b\\u0627 \\u0623\\u062a\\u0633\\u0627\\u0621\\u0644 \\u0641\\u064a\\u0645\\u0627\\n\\n\\u0627\\u0644\\u0641\\u062c\\u064a\\u0639\\u0629: \\u0623\\u064a\\u0646 \\u0643\\u0644\\u0651\\u064f \\u0647\\u0630\\u0627 \\u0627\\u0644\\u0639\\u062a\\u0627\\u062f \\u0627\\u0644\\u0639\\u0633\\u0643\\u0631\\u064a \\u0627\\u0644\\u0630\\u064a \\u062a\\u0634\\u062a\\u0631\\u064a\\u0647 \\u0627\\u0644\\u062f\\u0648\\u0644 \\u0627\\u0644\\u0639\\u0631\\u0628\\u064a\\u0629 \\u0628\\u0645\\u0644\\u064a\\u0627\\u0631\\u0627\\u062a \\u0627\\u0644\\u0645\\u0644\\u064a\\u0627\\u0631\\u0627\\u062a\\n\\n\\u0627\\u0644\\u062f\\u0648\\u0644\\u0627\\u0631\\u0627\\u062a\\u060c \\u0648\\u062a\\u064f\\u0643\\u062f\\u0651\\u0650\\u0633\\u0647 \\u0641\\u064a \\u0645\\u062e\\u0627\\u0632\\u0646\\u0647\\u0627\\u060c \\u0623\\u0648 \\u062a\\u064f\\u0639\\u0637\\u064a\\u0647 \\u0641\\u0627\\u0631\\u063a \\u0627\\u0644\\u0630\\u062e\\u064a\\u0631\\u0629 \\u0644\\u062c\\u064a\\u0648\\u0634\\u0647\\u0627\\u060c \\u0648\\u0647\\u0648 \\u0633\\u0644\\u0627\\u062d \\u0642\\u0637\\u0639\\u064b\\u0627 \\u0644\\u0646\\n\\n\\u0636\\u062f \\u0625\\u0633\\u0631\\u0627\\u0626\\u064a\\u0644\\u060c \\u0648\\u0625\\u0644\\u0627 \\u0644\\u0643\\u0627\\u0646 \\u0642\\u062f \\u0627\\u0633\\u062a\\u064f\\u0639\\u0645\\u0644 \\u0645\\u0646 \\u0632\\u0645\\u0627\\u0646 \\u0628\\u0639\\u064a\\u062f\\u060c \\u0648\\u0628\\u0627\\u0644\\u0637\\u0628\\u0639 \\u0644\\u0646 \\u064a\\u064f\\u0633\\u062a\\u0639\\u0645\\u0644 \\u0636\\u062f \\u0623\\u0645\\u0631\\u064a\\u0643\\u0627 \\u0623\\u0648 \\u0627\\u0644\\u0645\\u0635\\u0627\\u0644\\u062d\\n\\n\\u0627\\u0644\\u063a\\u0631\\u0628\\u064a\\u0629\\u060c \\u0635\\u0627\\u062d\\u0628\\u062a\\u0647 \\u0648\\u0645\\u0648\\u0631\\u0651\\u0650\\u062f\\u062a\\u0647 \\u0648\\u0631\\u0627\\u0628\\u062d\\u0629 \\u0622\\u0644\\u0627\\u0641 \\u0627\\u0644\\u0645\\u0644\\u064a\\u0627\\u0631\\u0627\\u062a \\u0645\\u0646 \\u0648\\u0631\\u0627\\u0626\\u0647\\u060c \\u0641\\u0641\\u064a\\u0645 \\u0625\\u0630\\u0646 \\u062a\\u0643\\u062f\\u064a\\u0633 \\u0647\\u0630\\u0627 \\u0627\\u0644\\u0633\\u0644\\u0627\\u062d\\n\\n\\u0625\\u0644\\u0627\\n\\n\\u0644\\u0644\\u0627\\u0633\\u062a\\u0650\\u0639\\u0645\\u0627\\u0644 \\u0627\\u0644\\u062f\\u0627\\u062e\\u0644\\u064a\\u061b \\u0623\\u064a \\u0627\\u0644\\u062a\\u0645\\u0643\\u064a\\u0646 \\u0644\\u0644\\u062d\\u0643\\u0645 \\u0641\\u064a \\u0627\\u0644\\u062f\\u0627\\u062e\\u0644\\u060c \\u0648\\u0636\\u0631\\u0628 \\u0634\\u0639\\u0648\\u0628 \\u062a\\u0644\\u0643 \\u0627\\u0644\\u062f\\u0648\\u0644 \\u0623\\u0648 \\u0627\\u0644\\u0635\\u0631\\u0627\\u0639 \\u0627\\u0644\\u0645\\u0633\\u0644\\u062d\\n\\n\\u062d\\u0648\\u0644\\n\\n\\u0627\\u0644\\u0633\\u0644\\u0637\\u0629 \\u0643\\u0645\\u0627 \\u062d\\u062f\\u064e\\u062b\\u064e \\u0641\\u064a \\u0627\\u0644\\u064a\\u0645\\u0646.\\n\\n\\u0647\\u0648 \\u0633\\u0644\\u0627\\u062d \\u0625\\u0630\\u0646 \\u0627\\u0633\\u062a\\u064f\\u062c\\u0644\\u0650\\u0628\\u064e \\u0644\\u0644\\u0645\\u062d\\u0627\\u0641\\u064e\\u0638\\u0629 \\u0639\\u0644\\u0649 \\u0627\\u0644\\u062d\\u0643\\u0645 \\u0645\\u0646 \\u0627\\u0644\\u0645\\u062d\\u0643\\u0648\\u0645\\u064a\\u0646\\n\\n\\u0648\\u0644\\u064a\\u0633 \\u0623\\u0628\\u062f\\u064b\\u0627\\n\\n\\u0644\\u0644\\u0627\\u0633\\u062a\\u0639\\u0645\\u0627\\u0644 \\u0636\\u062f \\u0639\\u062f\\u0648\\u0651\\u064d \\u062e\\u0627\\u0631\\u062c\\u064a \\u0645\\u0639\\u0627\\u0630 \\u0627\\u0644\\u0644\\u0647\\u060c \\u0623\\u0648 \\u062d\\u062a\\u0649 \\u0644\\u0646\\u062c\\u062f\\u0629 \\u062f\\u0648\\u0644\\u0629 \\u0639\\u0631\\u0628\\u064a\\u0629 \\u0623\\u0646\\u0647\\u0643\\u062a\\u0647\\u0627 \\u062d\\u0631\\u0628 \\u062e\\u0645\\u0633 \\u0633\\u0646\\u0648\\u0627\\u062a\\n\\n\\u0643\\u0644 \\u0627\\u0644\\u062d\\u0631\\u0648\\u0628 \\u0627\\u0644\\u062a\\u064a \\u062e\\u0627\\u0636\\u062a\\u0647\\u0627 \\u0643\\u0644 \\u0627\\u0644\\u062f\\u0648\\u0644 \\u0627\\u0644\\u0639\\u0631\\u0628\\u064a\\u0629 \\u0645\\u064f\\u062c\\u062a\\u0645\\u0639\\u0629 \\u0628\\u0645\\u0627 \\u0641\\u064a \\u0630\\u0644\\u0643 \\u062d\\u0631\\u0648\\u0628\\u0646\\u0627 \\u0627\\u0644\\u0623\\u0631\\u0628\\u0639 \\u0646\\u062d\\u0646 \\u0641\\u064a \\u0645\\u0635\\u0631\\u060c\\n\\n\\u0636\\u062d\\u064a\\u062a\\u0647\\u0627 \\u0644\\u0627 \\u0623\\u0642\\u0648\\u0644 \\u0639\\u062f\\u062f\\u064b\\u0627 \\u0645\\u0646 \\u0627\\u0644\\u0645\\u0633\\u0644\\u0645\\u064a\\u0646 \\u0639\\u0644\\u0649 \\u0643\\u0644\\u0627 \\u0627\\u0644\\u062c\\u0627\\u0646\\u0628\\u064a\\u0646\\u060c \\u0648\\u0644\\u0643\\u0646 \\u0639\\u062f\\u062f\\u064b\\u0627 \\u0645\\u0646 \\u0627\\u0644\\u0639\\u0631\\u0627\\u0642\\u064a\\u0651\\u0650\\u064a\\u0646 \\u0627\\u0644\\u0639\\u0631\\u0628\\n\\n\\u0623\\u0643\\u062b\\u0631\\n\\n\\u0628\\u0643\\u062b\\u064a\\u0631 \\u0645\\u0645\\u0627 \\u0641\\u0642\\u064e\\u062f\\u0652\\u0646\\u0627 \\u0641\\u064a \\u0623\\u064a \\u062d\\u0631\\u0628 \\u0636\\u062f \\u0625\\u0633\\u0631\\u0627\\u0626\\u064a\\u0644\\u060c \\u0623\\u0648 \\u062d\\u062a\\u0649 \\u0641\\u064a \\u0643\\u0644\\u0651\\u0650 \\u0627\\u0644\\u062d\\u0631\\u0648\\u0628 \\u0636\\u062f \\u0625\\u0633\\u0631\\u0627\\u0626\\u064a\\u0644.\\n\\n\\u0647\\u0630\\u0647 \\u0627\\u0644\\u0628\\u0644\\u0627\\u062f \\u0627\\u0644\\u0639\\u0631\\u0628\\u064a\\u0629 \\u0627\\u0644\\u062a\\u064a \\u064a\\u062a\\u0643\\u062f\\u0651\\u064e\\u0633 \\u0641\\u064a\\u0647\\u0627 \\u0627\\u0644\\u0633\\u0644\\u0627\\u062d \\u062a\\u0643\\u062f\\u064a\\u0633\\u064b\\u0627\\u060c \\u0648\\u0639\\u0644\\u0649 \\u0623\\u062d\\u062f\\u062b \\u0637\\u0631\\u0627\\u0632\\u060c \\u0647\\u0630\\u0647 \\u0627\\u0644\\u0637\\u0627\\u0626\\u0631\\u0627\\u062a\\n\\n\\u0627\\u0644\\u062a\\u064a\\n\\n\\u062a\\u064e\\u062d\\u0641\\u0644 \\u0628\\u0647\\u0627 \\u0623\\u0633\\u0644\\u062d\\u0629 \\u0627\\u0644\\u0637\\u064a\\u0631\\u0627\\u0646 \\u0641\\u064a \\u062c\\u0645\\u064a\\u0639 \\u0627\\u0644\\u062f\\u0648\\u0644 \\u0627\\u0644\\u0639\\u0631\\u0628\\u064a\\u0629\\u060c \\u0648\\u0647\\u064a \\u0644\\u0648 \\u0633\\u0627\\u0647\\u0645\\u062a \\u0643\\u0644 \\u062f\\u0648\\u0644\\u0629 \\u0628\\u0628\\u0636\\u0639\\u0629 \\u0623\\u0633\\u0631\\u0627\\u0628 \\u0644\\u0623\\u0635\\u0628\\u062d\\u064e\\u062a\\n\\n\\u0642\\u0648\\u0629 \\u0633\\u0644\\u0627\\u062d \\u0627\\u0644\\u0637\\u064a\\u0631\\u0627\\u0646 \\u0627\\u0644\\u0639\\u0631\\u0627\\u0642\\u064a \\u0645\\u0646 \\u0627\\u0644\\u0642\\u064f\\u062f\\u0631\\u0629 \\u0648\\u0627\\u0644\\u0628\\u0637\\u0634 \\u0628\\u062d\\u064a\\u062b \\u062a\\u064f\\u062c\\u0628\\u064e\\u0631 \\u0625\\u064a\\u0631\\u0627\\u0646 \\u0639\\u0644\\u0649 \\u0639\\u0642\\u062f \\u0627\\u0644\\u0635\\u0644\\u062d.\\n\\n\\u0648\\u0644\\u0643\\u0646 \\u0625\\u064a\\u0631\\u0627\\u0646 \\u062a\\u062a\\u0648\\u063a\\u0651\\u064e\\u0644 \\u062f\\u0627\\u062e\\u0644 \\u0627\\u0644\\u0623\\u0631\\u0627\\u0636\\u064a \\u0627\\u0644\\u0639\\u0631\\u0628\\u064a\\u0629 \\u0627\\u0644\\u0639\\u0631\\u0627\\u0642\\u064a\\u0629\\u060c \\u0635\\u062d\\u064a\\u062d\\u064c \\u0623\\u0646\\u0647 \\u0644\\u064a\\u0633 \\u062a\\u0648\\u063a\\u0651\\u064f\\u0644\\u064b\\u0627 \\u062e\\u0637\\u064a\\u0631\\u064b\\u0627.\"\n        ],\n        \"semantic_type\": \"\",\n        \"description\": \"\"\n      }\n    },\n    {\n      \"column\": \"author\",\n      \"properties\": {\n        \"dtype\": \"category\",\n        \"num_unique_values\": 1,\n        \"samples\": [\n          \"\\u064a\\u0648\\u0633\\u0641 \\u0625\\u062f\\u0631\\u064a\\u0633\"\n        ],\n        \"semantic_type\": \"\",\n        \"description\": \"\"\n      }\n    },\n    {\n      \"column\": \"text_size\",\n      \"properties\": {\n        \"dtype\": \"number\",\n        \"std\": 171,\n        \"min\": 1616,\n        \"max\": 2047,\n        \"num_unique_values\": 5,\n        \"samples\": [\n          1616\n        ],\n        \"semantic_type\": \"\",\n        \"description\": \"\"\n      }\n    },\n    {\n      \"column\": \"chunk_index\",\n      \"properties\": {\n        \"dtype\": \"number\",\n        \"std\": 0,\n        \"min\": 0,\n        \"max\": 0,\n        \"num_unique_values\": 1,\n        \"samples\": [\n          0\n        ],\n        \"semantic_type\": \"\",\n        \"description\": \"\"\n      }\n    },\n    {\n      \"column\": \"is_split\",\n      \"properties\": {\n        \"dtype\": \"boolean\",\n        \"num_unique_values\": 1,\n        \"samples\": [\n          false\n        ],\n        \"semantic_type\": \"\",\n        \"description\": \"\"\n      }\n    },\n    {\n      \"column\": \"cleaned_text\",\n      \"properties\": {\n        \"dtype\": \"string\",\n        \"num_unique_values\": 5,\n        \"samples\": [\n          \"\\u0635\\u0639\\u0628 \\u062c\\u062f\\u0627 \\u0641\\u064a \\u0638\\u0644 \\u0647\\u0630\\u0627 \\u0627\\u0644\\u062a\\u0642\\u0633\\u064a\\u0645 \\u0627\\u0644\\u0625\\u0631\\u0647\\u0627\\u0628\\u064a \\u0623\\u0646 \\u0623\\u0642\\u0648\\u0644 \\u0625\\u0646 \\u0647\\u0646\\u0627\\u0643 \\u0646\\u0648\\u0639\\u0627 \\u062e\\u0627\\u0645\\u0633\\u0627 \\u064a\\u062c\\u0645\\u0639 \\u0643\\u0644 \\u062e\\u0635\\u0627\\u0626\\u0635\\n\\n\\u0647\\u0630\\u0647\\n\\n\\u0627\\u0644\\u0639\\u0627\\u0626\\u0644\\u0627\\u062a \\u0627\\u0644\\u0641\\u0646\\u064a\\u0629\\u060c \\u0648\\u064a\\u0633\\u0645\\u0648\\u0646\\u0647 \\u0645\\u0641\\u0643\\u0631\\u0627\\u062a \\u0623\\u0648 \\u0627\\u0646\\u0637\\u0628\\u0627\\u0639\\u0627\\u062a\\u060c \\u0623\\u0648 \\u064a\\u063a\\u0627\\u0644\\u064a \\u0628\\u0639\\u0636\\u0647\\u0645 \\u062d\\u062a\\u0649 \\u0648\\u064a\\u0633\\u0645\\u064a\\u0647 \\u0627\\u0644\\u0634\\u0643\\u0644\\n\\n\\u0627\\u0644\\u062d\\u062f\\u064a\\u062b\\n\\n\\u062c\\u062f\\u0627 \\u0644\\u0644\\u0642\\u0635\\u0629 \\u0627\\u0644\\u0642\\u0635\\u064a\\u0631\\u0629 \\u0641\\u064a \\u0639\\u0627\\u0644\\u0645 \\u0627\\u0644\\u064a\\u0648\\u0645\\u060c \\u0641\\u0647\\u0648 \\u064a\\u062c\\u0630\\u0628 \\u0627\\u0644\\u0642\\u0627\\u0631\\u0626 \\u0645\\u0646 \\u0623\\u0648\\u0644 \\u0643\\u0644\\u0645\\u0629\\u060c \\u0648\\u0641\\u064a\\u0647 \\u062f\\u0631\\u0627\\u0645\\u0627 \\u062f\\u0627\\u062e\\u0644\\u064a\\u0629\\n\\n\\u0648\\u0645\\u0648\\u0633\\u064a\\u0642\\u0649 \\u0644\\u063a\\u0648\\u064a\\u0629 \\u062a\\u0631\\u0643\\u064a\\u0628\\u064a\\u0629\\u060c \\u0648\\u062e\\u064a\\u0637 \\u0641\\u0646\\u064a \\u0642\\u0635\\u0635\\u064a \\u0623\\u0643\\u062b\\u0631 \\u0625\\u062d\\u0643\\u0627\\u0645\\u0627 \\u0631\\u0628\\u0645\\u0627 \\u0645\\u0646 \\u0627\\u0644\\u062e\\u064a\\u0648\\u0637 \\u0627\\u0644\\u0641\\u0646\\u064a\\u0629 \\u0627\\u0644\\u062a\\u064a \\u062a\\u062c\\u062f\\u0647\\u0627\\n\\n\\u0641\\u064a\\n\\n\\u0627\\u0644\\u0642\\u0635\\u0635 \\u0627\\u0644\\u0642\\u0635\\u064a\\u0631\\u0629.\\n\\n\\u0648\\u0625\\u0630\\u0627 \\u0643\\u0627\\u0646\\u062a \\u0645\\u0643\\u0627\\u0646\\u0629 \\u0623\\u064a \\u0641\\u0646 \\u0648\\u062f\\u0631\\u062c\\u0629 \\u0631\\u0642\\u064a\\u0647 \\u062a\\u0642\\u0627\\u0633 \\u0623\\u0648\\u0644\\u0627 \\u0628\\u0645\\u0642\\u062f\\u0627\\u0631 \\u0641\\u0627\\u0639\\u0644\\u064a\\u062a\\u0647\\u060c \\u0648\\u0644\\u064a\\u0633 \\u0628\\u0645\\u0642\\u062f\\u0627\\u0631 \\u0627\\u0646\\u062a\\u0634\\u0627\\u0631\\u0647\\u060c\\n\\n\\u0641\\u0642\\u062f \\u064a\\u0643\\u0648\\u0646 \\u0627\\u0644\\u0627\\u0646\\u062a\\u0634\\u0627\\u0631 \\u0631\\u0627\\u062c\\u0639\\u0627 \\u0644\\u0623\\u0633\\u0628\\u0627\\u0628 \\u0644\\u0627 \\u0639\\u0644\\u0627\\u0642\\u0629 \\u0644\\u0647\\u0627 \\u0628\\u0641\\u0646\\u064a\\u0629 \\u0627\\u0644\\u0639\\u0645\\u0644\\u061b \\u0641\\u0625\\u0646\\u064a \\u0623\\u0642\\u0648\\u0644\\u0647\\u0627 \\u0628\\u0635\\u0631\\u0627\\u062d\\u0629 \\u0625\\u0646 \\u0647\\u0630\\u0627\\n\\n\\u0627\\u0644\\u0634\\u0643\\u0644 \\u0627\\u0644\\u0630\\u064a \\u0623\\u0643\\u062a\\u0628 \\u0628\\u0647 \\u0645\\u0627 \\u0623\\u0633\\u0645\\u064a\\u0647 \\u0623\\u0648 \\u064a\\u0633\\u0645\\u064a\\u0647 \\u0627\\u0644\\u0623\\u0647\\u0631\\u0627\\u0645 \\u0645\\u0646 \\u0645\\u0641\\u0643\\u0631\\u0629 \\u062f.\\n\\n\\u064a\\u0648\\u0633\\u0641 \\u0625\\u062f\\u0631\\u064a\\u0633\\u060c \\u0634\\u0643\\u0644 \\u0641\\u0646\\u064a\\n\\n\\u062e\\u0627\\u0644\\u0635 \\u0644\\u0627\\n\\n\\u0639\\u0644\\u0627\\u0642\\u0629 \\u0644\\u0647 \\u0627\\u0644\\u0628\\u062a\\u0629 \\u0628\\u0634\\u0643\\u0644 \\u0627\\u0644\\u0645\\u0642\\u0627\\u0644\\u0629 \\u0627\\u0644\\u0642\\u062f\\u064a\\u0645\\u0629\\u060c \\u0643\\u0645\\u0627 \\u0643\\u0627\\u0646 \\u064a\\u0643\\u062a\\u0628\\u0647\\u0627 \\u0627\\u0644\\u0639\\u0642\\u0627\\u062f \\u0623\\u0648 \\u0627\\u0644\\u0645\\u0627\\u0632\\u0646\\u064a \\u0623\\u0648 \\u0637\\u0647 \\u062d\\u0633\\u064a\\u0646\\u060c\\n\\n\\u0623\\u0648\\n\\n\\u0627\\u0644\\u0643\\u062a\\u0627\\u0628 \\u0627\\u0644\\u0645\\u0639\\u0627\\u0635\\u0631\\u0648\\u0646 \\u0627\\u0644\\u0630\\u064a\\u0646 \\u064a\\u062c\\u0644\\u0633\\u0648\\u0646 \\u0625\\u0644\\u0649 \\u0645\\u0643\\u0627\\u062a\\u0628\\u0647\\u0645 \\u0648\\u0641\\u064a \\u0646\\u064a\\u062a\\u0647\\u0645 \\u0643\\u062a\\u0627\\u0628\\u0629 \\\"\\u0645\\u0642\\u0627\\u0644\\u0629\\\" \\u0623\\u0648 \\u0645\\u0642\\u0627\\u0644\\u060c \\u0628\\u0645\\u0639\\u0646\\u0649\\n\\n\\u0639\\u0642\\u0644\\u0627\\u0646\\u064a \\u0644\\u0647 \\u0645\\u0642\\u062f\\u0645\\u0627\\u062a\\u0647 \\u0648\\u0646\\u062a\\u0627\\u0626\\u062c\\u0647 \\u0627\\u0644\\u0639\\u0642\\u0644\\u0627\\u0646\\u064a\\u0629 \\u0627\\u0644\\u0645\\u062f\\u0631\\u0648\\u0633\\u0629 \\u0628\\u0639\\u0646\\u0627\\u064a\\u0629 \\u0644\\u062a\\u0624\\u062f\\u064a \\u0625\\u0644\\u0649 \\\"\\u0625\\u0642\\u0646\\u0627\\u0639\\\" \\u0627\\u0644\\u0642\\u0627\\u0631\\u0626 \\u0641\\u064a\\n\\n\\u0627\\u0644\\u0646\\u0647\\u0627\\u064a\\u0629\\n\\n\\u0628\\u0635\\u062d\\u0629 \\u0631\\u0623\\u064a \\u0627\\u0644\\u0643\\u0627\\u062a\\u0628.\\n\\n\\u0647\\u0630\\u0647 \\u0645\\u0642\\u0627\\u0644\\u0627\\u062a \\\"\\u0631\\u0623\\u064a\\\" \\u0648\\u0644\\u064a\\u0633\\u062a \\u0623\\u0639\\u0645\\u0627\\u0644\\u0627 \\u0641\\u0646\\u064a\\u0629.\\n\\n\\u0648\\u0627\\u0644\\u0641\\u0631\\u0642 \\u0628\\u064a\\u0646 \\u0645\\u0642\\u0627\\u0644\\u0629 \\u0627\\u0644\\u0631\\u0623\\u064a \\u0648\\u0627\\u0644\\u0639\\u0645\\u0644 \\u0627\\u0644\\u0641\\u0646\\u064a \\u0627\\u0644\\u0630\\u064a \\u0623\\u0643\\u062a\\u0628\\u0647\\u060c \\u0647\\u0648 \\u0627\\u0644\\u0641\\u0631\\u0642 \\u0628\\u064a\\u0646 \\u0623\\u064a \\u0645\\u0648\\u0636\\u0648\\u0639 \\u062a\\u0642\\u0631\\u0624\\u0647 \\u0641\\u064a\\n\\n\\u0647\\u0630\\u0627\\n\\n\\u0627\\u0644\\u0643\\u062a\\u0627\\u0628 \\u0648\\u0628\\u064a\\u0646 \\u0647\\u0630\\u0627 \\u0627\\u0644\\u0645\\u0648\\u0636\\u0648\\u0639 \\u0646\\u0641\\u0633\\u0647 \\u0644\\u0648 \\u0643\\u062a\\u0628 \\u0639\\u0644\\u0649 \\u0647\\u064a\\u0626\\u0629 \\u0645\\u0642\\u0627\\u0644\\u0629 \\u0631\\u0623\\u064a\\u060c \\u0644\\u0647\\u0627 \\u0645\\u0642\\u062f\\u0645\\u0629 \\u0648\\u0645\\u062f\\u062e\\u0644 \\u0648\\u0648\\u0633\\u0637 \\u0648\\u0639\\u0631\\u0636\\n\\n\\u0648\\u0646\\u062a\\u064a\\u062c\\u0629.\\n\\n\\u0627\\u0644\\u0645\\u0633\\u0623\\u0644\\u0629 \\u0641\\u064a \\u0627\\u0644\\u062d\\u0642\\u064a\\u0642\\u0629 \\u0644\\u064a\\u0633\\u062a \\u0645\\u0648\\u0636\\u0648\\u0639\\u064a \\u0627\\u0644\\u0628\\u062a\\u0629\\u060c \\u0648\\u0625\\u0646\\u0645\\u0627 \\u0647\\u064a \\u0645\\u0648\\u0636\\u0648\\u0639 \\u0646\\u0627\\u0642\\u062f \\u062e\\u0644\\u0627\\u0642 \\u062c\\u0631\\u064a\\u0621 \\u064a\\u062a\\u0641\\u062d\\u0635\\n\\n\\u0627\\u0644\\u0643\\u062a\\u0628 \\u0627\\u0644\\u062a\\u064a\\n\\n\\u0623\\u062e\\u0631\\u062c\\u062a\\u0647\\u0627 \\u0645\\u0646\\u0630 \\u0628\\u062f\\u0623\\u062a \\u0643\\u062a\\u0627\\u0628\\u0629 \\u0627\\u0644\\u0645\\u0641\\u0643\\u0631\\u0629\\u061b \\u0648\\u0647\\u064a: \\\"\\u0645\\u0646 \\u0645\\u0641\\u0643\\u0631\\u0629 \\u062f.\\n\\n\\u064a\\u0648\\u0633\\u0641 \\u0625\\u062f\\u0631\\u064a\\u0633\\\" \\u062c\\u0632\\u0621 \\u0623\\u0648\\u0644 \\u0648\\u062b\\u0627\\u0646\\u060c \\u0648 \\\"\\u0627\\u0644\\u0625\\u0631\\u0627\\u062f\\u0629\\\"\\u060c\\n\\n\\u0625\\u0630\\u0627 \\u0646\\u0638\\u0631 \\u0630\\u0644\\u0643 \\u0627\\u0644\\u0646\\u0627\\u0642\\u062f \\u0627\\u0644\\u0630\\u064a \\u0623\\u0631\\u062c\\u0648\\u0647 \\u0628\\u062a\\u062c\\u0631\\u062f \\u0623\\u0648 \\u0628\\u062c\\u0631\\u0623\\u0629\\u060c \\u0648\\u0628\\u0631\\u0624\\u064a\\u0629 \\u062a\\u0633\\u062a\\u0643\\u0634\\u0641 \\u0648\\u062a\\u0643\\u062a\\u0634\\u0641 \\u0648\\u062a\\u062e\\u0644\\u0642\\u060c \\u0643\\u0645\\u0627\\n\\n\\u0644\\u0627 \\u0628\\u062f\\n\\n\\u0644\\u0623\\u064a \\u0646\\u0627\\u0642\\u062f \\u062d\\u0642\\u064a\\u0642\\u064a \\u0623\\u0646 \\u064a\\u0641\\u0639\\u0644\\u060c \\u0641\\u0633\\u0648\\u0641 \\u064a\\u0637\\u0644\\u0639 \\u0639\\u0644\\u064a\\u0646\\u0627 \\u0628\\u0631\\u0623\\u064a-\\u0643\\u0645\\u0627 \\u0630\\u0643\\u0631\\u0647 \\u0627\\u0644\\u0634\\u0627\\u0639\\u0631 \\u0627\\u0644\\u0643\\u0628\\u064a\\u0631 \\u0641\\u0627\\u0631\\u0648\\u0642 \\u0634\\u0648\\u0634\\u0629\\n\\n\\u0641\\u064a\\n\\n\\u0623\\u0645\\u0633\\u064a\\u0629 \\u062b\\u0642\\u0627\\u0641\\u064a\\u0629-\\u0631\\u0623\\u064a \\u0641\\u064a\\u0647 \\u0645\\u0641\\u0627\\u062c\\u0623\\u0629 \\u0644\\u0646\\u0627 \\u062c\\u0645\\u064a\\u0639\\u0627\\u060c \\u0644\\u0643\\u0645 \\u0648\\u0644\\u064a.\\n\\n\\u064a.\\n\\n\\u0625.\\n\\n\\u0641\\u064a \\u0639\\u0642\\u0644\\u064a \\u0648\\u0636\\u0645\\u064a\\u0631\\u064a \\u0643\\u0644\\u0645\\u062a\\u0627\\u0646\\u060c \\u0623\\u0631\\u062c\\u0648 \\u0623\\u0646 \\u064a\\u0639\\u064a\\u0646\\u0646\\u064a \\u0627\\u0644\\u0644\\u0647 \\u0639\\u0644\\u0649 \\u0642\\u0648\\u0644\\u0647\\u0645\\u0627.\"\n        ],\n        \"semantic_type\": \"\",\n        \"description\": \"\"\n      }\n    }\n  ]\n}"
            }
          },
          "metadata": {}
        }
      ]
    },
    {
      "cell_type": "markdown",
      "source": [
        "# Cleaning"
      ],
      "metadata": {
        "id": "JkCcd3FRWE65"
      }
    },
    {
      "cell_type": "code",
      "source": [
        "import re\n",
        "import random\n",
        "import nltk\n",
        "from nltk.tokenize import word_tokenize\n",
        "nltk.download('punkt') # To include and use word tokenizer\n",
        "nltk.download('punkt_tab') # Download punkt_tab for Arabic tokenization\n",
        "nltk.download('stopwords')\n",
        "stop = set(nltk.corpus.stopwords.words(\"arabic\"))"
      ],
      "metadata": {
        "colab": {
          "base_uri": "https://localhost:8080/"
        },
        "id": "RpkFNVynWG1T",
        "outputId": "d1d2b50e-042e-4640-e2f1-783acfc20816"
      },
      "execution_count": 27,
      "outputs": [
        {
          "output_type": "stream",
          "name": "stderr",
          "text": [
            "[nltk_data] Downloading package punkt to /root/nltk_data...\n",
            "[nltk_data]   Package punkt is already up-to-date!\n",
            "[nltk_data] Downloading package punkt_tab to /root/nltk_data...\n",
            "[nltk_data]   Package punkt_tab is already up-to-date!\n",
            "[nltk_data] Downloading package stopwords to /root/nltk_data...\n",
            "[nltk_data]   Unzipping corpora/stopwords.zip.\n"
          ]
        }
      ]
    },
    {
      "cell_type": "code",
      "source": [
        "def normalize_text(text:str):\n",
        "  # normalize alif\n",
        "  text = text.replace(u\"\\u0625\", u\"\\u0627\")  # HAMZA below, with LETTER ALEF\n",
        "  text = text.replace(u\"\\u0622\", u\"\\u0627\")  # ALEF WITH MADDA ABOVE, with LETTER ALEF\n",
        "  text = text.replace(u\"\\u0623\", u\"\\u0627\")  # ALEF WITH HAMZA ABOVE, with LETTER ALEF\n",
        "\n",
        "  # check whether text is of type string\n",
        "  if not isinstance(text, str):\n",
        "    raise TypeError(\"TypeError: text must be a string\")\n",
        "\n",
        "  # remove numbers\n",
        "  text = re.sub(r\"\\d+\", \"رقم\", text)\n",
        "\n",
        "  # Remove punctuations\n",
        "  text = re.sub(r\"[^\\w\\s]\", \"\", text)\n",
        "\n",
        "  # remove extra spaces\n",
        "  text = re.sub(r\"\\s+\", \" \", text)\n",
        "\n",
        "  # This part to make sure of good cleaning (may take long execution time)\n",
        "  words = word_tokenize(text)\n",
        "  text = [w for w in words if len(w)>1] # remove non words\n",
        "  text = \" \".join([w for w in words if w not in stop]) # remove stop words\n",
        "\n",
        "  return text.strip()"
      ],
      "metadata": {
        "id": "U2-7Fag0WK0R"
      },
      "execution_count": 33,
      "outputs": []
    },
    {
      "cell_type": "code",
      "source": [
        "train_data['normalized_text'] = train_data['cleaned_text'].apply(normalize_text)\n",
        "train_data.head()"
      ],
      "metadata": {
        "colab": {
          "base_uri": "https://localhost:8080/",
          "height": 293
        },
        "id": "BsTXxfupWtQp",
        "outputId": "8aeadc0d-1c0e-446f-f9dd-41d6a76a696b"
      },
      "execution_count": 34,
      "outputs": [
        {
          "output_type": "execute_result",
          "data": {
            "text/plain": [
              "   original_id                               text_in_author_style      author  \\\n",
              "0         5843  هذه الكتب التي أصدرتُها منذ بدأت كتابة باب \"من...  يوسف إدريس   \n",
              "1         5844  صعب جِدًّا في ظل هذا التقسيم الإرهابي أن أقول ...  يوسف إدريس   \n",
              "2         5845  كان ممكنًا أن أتفادى هذا\\n\\nالموضوع الشائك، وأ...  يوسف إدريس   \n",
              "3         5846  ومن المُمكن للعراق وحده أن يَجتثَّه ويقضي على ...  يوسف إدريس   \n",
              "4         5847  كنتُ أريد أن أتناول موضوعًا من هذه المواضيع.\\n...  يوسف إدريس   \n",
              "\n",
              "   text_size  chunk_index  is_split  \\\n",
              "0       1921            0     False   \n",
              "1       1616            0     False   \n",
              "2       1913            0     False   \n",
              "3       2047            0     False   \n",
              "4       2022            0     False   \n",
              "\n",
              "                                        cleaned_text  \\\n",
              "0  هذه الكتب التي أصدرتها منذ بدأت كتابة باب \"من ...   \n",
              "1  صعب جدا في ظل هذا التقسيم الإرهابي أن أقول إن ...   \n",
              "2  كان ممكنا أن أتفادى هذا\\n\\nالموضوع الشائك، وأذ...   \n",
              "3  ومن الممكن للعراق وحده أن يجتثه ويقضي على الهج...   \n",
              "4  كنت أريد أن أتناول موضوعا من هذه المواضيع.\\n\\n...   \n",
              "\n",
              "                                     normalized_text  \n",
              "0  الكتب اصدرتها بدات كتابة باب مفكرة يوسف ادريس ...  \n",
              "1  صعب جدا ظل التقسيم الارهابي ان اقول ان نوعا خا...  \n",
              "2  ممكنا ان اتفادى الموضوع الشائك واذهب اتحدث موض...  \n",
              "3  الممكن للعراق وحده ان يجتثه ويقضي الهجوم اين م...  \n",
              "4  كنت اريد ان اتناول موضوعا المواضيع ولكني استطع...  "
            ],
            "text/html": [
              "\n",
              "  <div id=\"df-88dbe8de-e5e4-45f5-b272-d9d97e68eee8\" class=\"colab-df-container\">\n",
              "    <div>\n",
              "<style scoped>\n",
              "    .dataframe tbody tr th:only-of-type {\n",
              "        vertical-align: middle;\n",
              "    }\n",
              "\n",
              "    .dataframe tbody tr th {\n",
              "        vertical-align: top;\n",
              "    }\n",
              "\n",
              "    .dataframe thead th {\n",
              "        text-align: right;\n",
              "    }\n",
              "</style>\n",
              "<table border=\"1\" class=\"dataframe\">\n",
              "  <thead>\n",
              "    <tr style=\"text-align: right;\">\n",
              "      <th></th>\n",
              "      <th>original_id</th>\n",
              "      <th>text_in_author_style</th>\n",
              "      <th>author</th>\n",
              "      <th>text_size</th>\n",
              "      <th>chunk_index</th>\n",
              "      <th>is_split</th>\n",
              "      <th>cleaned_text</th>\n",
              "      <th>normalized_text</th>\n",
              "    </tr>\n",
              "  </thead>\n",
              "  <tbody>\n",
              "    <tr>\n",
              "      <th>0</th>\n",
              "      <td>5843</td>\n",
              "      <td>هذه الكتب التي أصدرتُها منذ بدأت كتابة باب \"من...</td>\n",
              "      <td>يوسف إدريس</td>\n",
              "      <td>1921</td>\n",
              "      <td>0</td>\n",
              "      <td>False</td>\n",
              "      <td>هذه الكتب التي أصدرتها منذ بدأت كتابة باب \"من ...</td>\n",
              "      <td>الكتب اصدرتها بدات كتابة باب مفكرة يوسف ادريس ...</td>\n",
              "    </tr>\n",
              "    <tr>\n",
              "      <th>1</th>\n",
              "      <td>5844</td>\n",
              "      <td>صعب جِدًّا في ظل هذا التقسيم الإرهابي أن أقول ...</td>\n",
              "      <td>يوسف إدريس</td>\n",
              "      <td>1616</td>\n",
              "      <td>0</td>\n",
              "      <td>False</td>\n",
              "      <td>صعب جدا في ظل هذا التقسيم الإرهابي أن أقول إن ...</td>\n",
              "      <td>صعب جدا ظل التقسيم الارهابي ان اقول ان نوعا خا...</td>\n",
              "    </tr>\n",
              "    <tr>\n",
              "      <th>2</th>\n",
              "      <td>5845</td>\n",
              "      <td>كان ممكنًا أن أتفادى هذا\\n\\nالموضوع الشائك، وأ...</td>\n",
              "      <td>يوسف إدريس</td>\n",
              "      <td>1913</td>\n",
              "      <td>0</td>\n",
              "      <td>False</td>\n",
              "      <td>كان ممكنا أن أتفادى هذا\\n\\nالموضوع الشائك، وأذ...</td>\n",
              "      <td>ممكنا ان اتفادى الموضوع الشائك واذهب اتحدث موض...</td>\n",
              "    </tr>\n",
              "    <tr>\n",
              "      <th>3</th>\n",
              "      <td>5846</td>\n",
              "      <td>ومن المُمكن للعراق وحده أن يَجتثَّه ويقضي على ...</td>\n",
              "      <td>يوسف إدريس</td>\n",
              "      <td>2047</td>\n",
              "      <td>0</td>\n",
              "      <td>False</td>\n",
              "      <td>ومن الممكن للعراق وحده أن يجتثه ويقضي على الهج...</td>\n",
              "      <td>الممكن للعراق وحده ان يجتثه ويقضي الهجوم اين م...</td>\n",
              "    </tr>\n",
              "    <tr>\n",
              "      <th>4</th>\n",
              "      <td>5847</td>\n",
              "      <td>كنتُ أريد أن أتناول موضوعًا من هذه المواضيع.\\n...</td>\n",
              "      <td>يوسف إدريس</td>\n",
              "      <td>2022</td>\n",
              "      <td>0</td>\n",
              "      <td>False</td>\n",
              "      <td>كنت أريد أن أتناول موضوعا من هذه المواضيع.\\n\\n...</td>\n",
              "      <td>كنت اريد ان اتناول موضوعا المواضيع ولكني استطع...</td>\n",
              "    </tr>\n",
              "  </tbody>\n",
              "</table>\n",
              "</div>\n",
              "    <div class=\"colab-df-buttons\">\n",
              "\n",
              "  <div class=\"colab-df-container\">\n",
              "    <button class=\"colab-df-convert\" onclick=\"convertToInteractive('df-88dbe8de-e5e4-45f5-b272-d9d97e68eee8')\"\n",
              "            title=\"Convert this dataframe to an interactive table.\"\n",
              "            style=\"display:none;\">\n",
              "\n",
              "  <svg xmlns=\"http://www.w3.org/2000/svg\" height=\"24px\" viewBox=\"0 -960 960 960\">\n",
              "    <path d=\"M120-120v-720h720v720H120Zm60-500h600v-160H180v160Zm220 220h160v-160H400v160Zm0 220h160v-160H400v160ZM180-400h160v-160H180v160Zm440 0h160v-160H620v160ZM180-180h160v-160H180v160Zm440 0h160v-160H620v160Z\"/>\n",
              "  </svg>\n",
              "    </button>\n",
              "\n",
              "  <style>\n",
              "    .colab-df-container {\n",
              "      display:flex;\n",
              "      gap: 12px;\n",
              "    }\n",
              "\n",
              "    .colab-df-convert {\n",
              "      background-color: #E8F0FE;\n",
              "      border: none;\n",
              "      border-radius: 50%;\n",
              "      cursor: pointer;\n",
              "      display: none;\n",
              "      fill: #1967D2;\n",
              "      height: 32px;\n",
              "      padding: 0 0 0 0;\n",
              "      width: 32px;\n",
              "    }\n",
              "\n",
              "    .colab-df-convert:hover {\n",
              "      background-color: #E2EBFA;\n",
              "      box-shadow: 0px 1px 2px rgba(60, 64, 67, 0.3), 0px 1px 3px 1px rgba(60, 64, 67, 0.15);\n",
              "      fill: #174EA6;\n",
              "    }\n",
              "\n",
              "    .colab-df-buttons div {\n",
              "      margin-bottom: 4px;\n",
              "    }\n",
              "\n",
              "    [theme=dark] .colab-df-convert {\n",
              "      background-color: #3B4455;\n",
              "      fill: #D2E3FC;\n",
              "    }\n",
              "\n",
              "    [theme=dark] .colab-df-convert:hover {\n",
              "      background-color: #434B5C;\n",
              "      box-shadow: 0px 1px 3px 1px rgba(0, 0, 0, 0.15);\n",
              "      filter: drop-shadow(0px 1px 2px rgba(0, 0, 0, 0.3));\n",
              "      fill: #FFFFFF;\n",
              "    }\n",
              "  </style>\n",
              "\n",
              "    <script>\n",
              "      const buttonEl =\n",
              "        document.querySelector('#df-88dbe8de-e5e4-45f5-b272-d9d97e68eee8 button.colab-df-convert');\n",
              "      buttonEl.style.display =\n",
              "        google.colab.kernel.accessAllowed ? 'block' : 'none';\n",
              "\n",
              "      async function convertToInteractive(key) {\n",
              "        const element = document.querySelector('#df-88dbe8de-e5e4-45f5-b272-d9d97e68eee8');\n",
              "        const dataTable =\n",
              "          await google.colab.kernel.invokeFunction('convertToInteractive',\n",
              "                                                    [key], {});\n",
              "        if (!dataTable) return;\n",
              "\n",
              "        const docLinkHtml = 'Like what you see? Visit the ' +\n",
              "          '<a target=\"_blank\" href=https://colab.research.google.com/notebooks/data_table.ipynb>data table notebook</a>'\n",
              "          + ' to learn more about interactive tables.';\n",
              "        element.innerHTML = '';\n",
              "        dataTable['output_type'] = 'display_data';\n",
              "        await google.colab.output.renderOutput(dataTable, element);\n",
              "        const docLink = document.createElement('div');\n",
              "        docLink.innerHTML = docLinkHtml;\n",
              "        element.appendChild(docLink);\n",
              "      }\n",
              "    </script>\n",
              "  </div>\n",
              "\n",
              "\n",
              "    <div id=\"df-e5624c63-40e7-4f1f-a8a8-62016c9c1b16\">\n",
              "      <button class=\"colab-df-quickchart\" onclick=\"quickchart('df-e5624c63-40e7-4f1f-a8a8-62016c9c1b16')\"\n",
              "                title=\"Suggest charts\"\n",
              "                style=\"display:none;\">\n",
              "\n",
              "<svg xmlns=\"http://www.w3.org/2000/svg\" height=\"24px\"viewBox=\"0 0 24 24\"\n",
              "     width=\"24px\">\n",
              "    <g>\n",
              "        <path d=\"M19 3H5c-1.1 0-2 .9-2 2v14c0 1.1.9 2 2 2h14c1.1 0 2-.9 2-2V5c0-1.1-.9-2-2-2zM9 17H7v-7h2v7zm4 0h-2V7h2v10zm4 0h-2v-4h2v4z\"/>\n",
              "    </g>\n",
              "</svg>\n",
              "      </button>\n",
              "\n",
              "<style>\n",
              "  .colab-df-quickchart {\n",
              "      --bg-color: #E8F0FE;\n",
              "      --fill-color: #1967D2;\n",
              "      --hover-bg-color: #E2EBFA;\n",
              "      --hover-fill-color: #174EA6;\n",
              "      --disabled-fill-color: #AAA;\n",
              "      --disabled-bg-color: #DDD;\n",
              "  }\n",
              "\n",
              "  [theme=dark] .colab-df-quickchart {\n",
              "      --bg-color: #3B4455;\n",
              "      --fill-color: #D2E3FC;\n",
              "      --hover-bg-color: #434B5C;\n",
              "      --hover-fill-color: #FFFFFF;\n",
              "      --disabled-bg-color: #3B4455;\n",
              "      --disabled-fill-color: #666;\n",
              "  }\n",
              "\n",
              "  .colab-df-quickchart {\n",
              "    background-color: var(--bg-color);\n",
              "    border: none;\n",
              "    border-radius: 50%;\n",
              "    cursor: pointer;\n",
              "    display: none;\n",
              "    fill: var(--fill-color);\n",
              "    height: 32px;\n",
              "    padding: 0;\n",
              "    width: 32px;\n",
              "  }\n",
              "\n",
              "  .colab-df-quickchart:hover {\n",
              "    background-color: var(--hover-bg-color);\n",
              "    box-shadow: 0 1px 2px rgba(60, 64, 67, 0.3), 0 1px 3px 1px rgba(60, 64, 67, 0.15);\n",
              "    fill: var(--button-hover-fill-color);\n",
              "  }\n",
              "\n",
              "  .colab-df-quickchart-complete:disabled,\n",
              "  .colab-df-quickchart-complete:disabled:hover {\n",
              "    background-color: var(--disabled-bg-color);\n",
              "    fill: var(--disabled-fill-color);\n",
              "    box-shadow: none;\n",
              "  }\n",
              "\n",
              "  .colab-df-spinner {\n",
              "    border: 2px solid var(--fill-color);\n",
              "    border-color: transparent;\n",
              "    border-bottom-color: var(--fill-color);\n",
              "    animation:\n",
              "      spin 1s steps(1) infinite;\n",
              "  }\n",
              "\n",
              "  @keyframes spin {\n",
              "    0% {\n",
              "      border-color: transparent;\n",
              "      border-bottom-color: var(--fill-color);\n",
              "      border-left-color: var(--fill-color);\n",
              "    }\n",
              "    20% {\n",
              "      border-color: transparent;\n",
              "      border-left-color: var(--fill-color);\n",
              "      border-top-color: var(--fill-color);\n",
              "    }\n",
              "    30% {\n",
              "      border-color: transparent;\n",
              "      border-left-color: var(--fill-color);\n",
              "      border-top-color: var(--fill-color);\n",
              "      border-right-color: var(--fill-color);\n",
              "    }\n",
              "    40% {\n",
              "      border-color: transparent;\n",
              "      border-right-color: var(--fill-color);\n",
              "      border-top-color: var(--fill-color);\n",
              "    }\n",
              "    60% {\n",
              "      border-color: transparent;\n",
              "      border-right-color: var(--fill-color);\n",
              "    }\n",
              "    80% {\n",
              "      border-color: transparent;\n",
              "      border-right-color: var(--fill-color);\n",
              "      border-bottom-color: var(--fill-color);\n",
              "    }\n",
              "    90% {\n",
              "      border-color: transparent;\n",
              "      border-bottom-color: var(--fill-color);\n",
              "    }\n",
              "  }\n",
              "</style>\n",
              "\n",
              "      <script>\n",
              "        async function quickchart(key) {\n",
              "          const quickchartButtonEl =\n",
              "            document.querySelector('#' + key + ' button');\n",
              "          quickchartButtonEl.disabled = true;  // To prevent multiple clicks.\n",
              "          quickchartButtonEl.classList.add('colab-df-spinner');\n",
              "          try {\n",
              "            const charts = await google.colab.kernel.invokeFunction(\n",
              "                'suggestCharts', [key], {});\n",
              "          } catch (error) {\n",
              "            console.error('Error during call to suggestCharts:', error);\n",
              "          }\n",
              "          quickchartButtonEl.classList.remove('colab-df-spinner');\n",
              "          quickchartButtonEl.classList.add('colab-df-quickchart-complete');\n",
              "        }\n",
              "        (() => {\n",
              "          let quickchartButtonEl =\n",
              "            document.querySelector('#df-e5624c63-40e7-4f1f-a8a8-62016c9c1b16 button');\n",
              "          quickchartButtonEl.style.display =\n",
              "            google.colab.kernel.accessAllowed ? 'block' : 'none';\n",
              "        })();\n",
              "      </script>\n",
              "    </div>\n",
              "\n",
              "    </div>\n",
              "  </div>\n"
            ],
            "application/vnd.google.colaboratory.intrinsic+json": {
              "type": "dataframe",
              "variable_name": "train_data",
              "summary": "{\n  \"name\": \"train_data\",\n  \"rows\": 32941,\n  \"fields\": [\n    {\n      \"column\": \"original_id\",\n      \"properties\": {\n        \"dtype\": \"number\",\n        \"std\": 12479,\n        \"min\": 5843,\n        \"max\": 45357,\n        \"num_unique_values\": 32784,\n        \"samples\": [\n          42123,\n          15528,\n          7040\n        ],\n        \"semantic_type\": \"\",\n        \"description\": \"\"\n      }\n    },\n    {\n      \"column\": \"text_in_author_style\",\n      \"properties\": {\n        \"dtype\": \"string\",\n        \"num_unique_values\": 32941,\n        \"samples\": [\n          \"\\u0623\\u0645\\u0627 \\u0642\\u0628\\u0644 \\u0630\\u0644\\u0643 \\u0648\\u0637\\u0648\\u0627\\u0644 \\u0627\\u0644\\u0648\\u0642\\u062a \\u0627\\u0644\\u0630\\u064a \\u0643\\u0627\\u0646 \\u0648\\u062c\\u0648\\u062f \\u0627\\u0644\\u0639\\u0627\\u0644\\u0645\\n\\n\\u0627\\u0644\\u062e\\u0627\\u0631\\u062c\\u064a \\u0623\\u0648 \\u0633\\u0644\\u0627\\u0645\\u0629 \\u0627\\u0644\\u0623\\u062f\\u0648\\u0627\\u062a \\u0627\\u0644\\u062a\\u064a \\u0646\\u0639\\u0631\\u0641\\u0647 \\u0628\\u0647\\u0627 \\u0645\\u0639\\u0631\\u0636\\u064b\\u0627 \\u0641\\u064a\\u0647 \\u0644\\u0644\\u0634\\u0643\\u060c \\u0641\\u0643\\u0627\\u0646 \\u0645\\u0646 \\u0627\\u0644\\u0645\\u062d\\u0627\\u0644 \\u062a\\u0635\\u0648\\u0631 \\u0623\\u064a\\n\\n\\u0639\\u0644\\u0645\\u060c \\u0648\\u0647\\u0643\\u0630\\u0627 \\u064a\\u0643\\u0648\\u0646 \\u0647\\u062f\\u0641 \\u062a\\u0644\\u0643 \\u0627\\u0644\\u0631\\u062d\\u0644\\u0629 \\u0627\\u0644\\u0637\\u0648\\u064a\\u0644\\u0629 \\u0641\\u064a \\u0645\\u064a\\u062f\\u0627\\u0646 \\u0627\\u0644\\u0645\\u064a\\u062a\\u0627\\u0641\\u064a\\u0632\\u064a\\u0642\\u0627 \\u0647\\u0648 \\u0623\\u0646 \\u064a\\u0645\\u0647\\u062f\\n\\n\\\"\\u0633\\u0644\\u0628\\u064a\\u0651\\u064b\\u0627\\\" \\u0644\\u0638\\u0647\\u0648\\u0631 \\u0627\\u0644\\u0639\\u0644\\u0645\\u060c \\u0628\\u0645\\u0639\\u0646\\u0649 \\u062a\\u0628\\u062f\\u064a\\u062f \\u0627\\u0644\\u0634\\u0643\\u0648\\u0643 \\u0627\\u0644\\u062a\\u064a \\u0643\\u0627\\u0646\\u062a \\u062a\\u0645\\u0646\\u0639 \\u0645\\u0646 \\u0642\\u064a\\u0627\\u0645\\u0647\\u060c \\u0643\\u0623\\u0646 \\u062f\\u064a\\u0643\\u0627\\u0631\\u062a\\u060c\\n\\n\\u0628\\u0639\\u062f \\u0623\\u0646 \\u064a\\u0646\\u062a\\u0647\\u064a \\u0645\\u0646 \\u0645\\u0630\\u0647\\u0628\\u0647 \\u0627\\u0644\\u0645\\u064a\\u062a\\u0627\\u0641\\u064a\\u0632\\u064a\\u0642\\u064a\\u060c \\u064a\\u062e\\u0627\\u0637\\u0628 \\u0631\\u062c\\u0627\\u0644 \\u0627\\u0644\\u0639\\u0644\\u0645 \\u0642\\u0627\\u0626\\u0644\\u064b\\u0627: \\\"\\u0627\\u0644\\u0622\\u0646 \\u064a\\u0645\\u0643\\u0646\\u0643\\u0645 \\u0623\\u0646\\n\\n\\u062a\\u0628\\u062f\\u0621\\u0648\\u0627 \\u0628\\u062d\\u062b\\u0643\\u0645 \\u0627\\u0644\\u0639\\u0644\\u0645\\u064a \\u0648\\u0623\\u0646\\u062a\\u0645 \\u0645\\u0637\\u0645\\u0626\\u0646\\u0648\\u0646\\u060c \\u0628\\u0639\\u062f \\u0623\\u0646 \\u0623\\u062b\\u0628\\u062a \\u0623\\u0646 \\u0627\\u0644\\u0645\\u0648\\u0636\\u0648\\u0639\\u0627\\u062a \\u0627\\u0644\\u062a\\u064a \\u062a\\u0628\\u062d\\u062b\\u0648\\u0646\\u0647\\u0627 \\u063a\\u064a\\u0631\\n\\n\\u0645\\u0639\\u0631\\u0636\\u0629 \\u0644\\u0644\\u0634\\u0643\\u060c \\u0648\\u0623\\u0646 \\u0648\\u0633\\u0627\\u0626\\u0644\\u0643\\u0645 \\u0641\\u064a \\u0645\\u0639\\u0631\\u0641\\u0629 \\u0647\\u0630\\u0647 \\u0627\\u0644\\u0645\\u0648\\u0636\\u0648\\u0639\\u0627\\u062a \\u0645\\u0648\\u062b\\u0648\\u0642 \\u0628\\u0647\\u0627\\\".\\n\\n\\u0648\\u0628\\u0639\\u0628\\u0627\\u0631\\u0629 \\u0623\\u062e\\u0631\\u0649\\u061b\\n\\n\\u0641\\u0627\\u0644\\u0645\\u064a\\u062a\\u0627\\u0641\\u064a\\u0632\\u064a\\u0642\\u0627 \\u062a\\u0646\\u062a\\u0647\\u064a \\u0628\\u0630\\u0644\\u0643 \\u0627\\u0644\\u0636\\u0648\\u0621 \\u0627\\u0644\\u0623\\u062e\\u0636\\u0631 \\u0627\\u0644\\u0630\\u064a \\u064a\\u0628\\u062f\\u0623 \\u0628\\u0639\\u062f\\u0647 \\u0627\\u0644\\u0639\\u0644\\u0645 \\u0641\\u064a \\u0627\\u0644\\u0627\\u0646\\u0637\\u0644\\u0627\\u0642 \\u0648\\u0639\\u0646\\u062f \\u0647\\u0630\\u0627\\n\\n\\u0627\\u0644\\u062d\\u062f \\u064a\\u0646\\u062a\\u0647\\u064a \\u062f\\u0648\\u0631\\u0647\\u0627.\\n\\n\\u0647\\u0630\\u0627 \\u0627\\u0644\\u0631\\u0623\\u064a \\u064a\\u0646\\u0637\\u0628\\u0642-\\u0643\\u0645\\u0627 \\u0642\\u0644\\u0646\\u0627-\\u0639\\u0644\\u0649 \\u062a\\u0641\\u0633\\u064a\\u0631 \\u0645\\u0639\\u064a\\u0646 \\u0644\\u062c\\u0630\\u0648\\u0631 \\u0634\\u062c\\u0631\\u0629 \\u0627\\u0644\\u0645\\u0639\\u0631\\u0641\\u0629\\u060c \\u064a\\u062c\\u0639\\u0644 \\u0647\\u0630\\u0647\\n\\n\\u0627\\u0644\\u062c\\u0630\\u0648\\u0631 \\u0645\\u0645\\u0647\\u062f\\u0629 \\u0644\\u0644\\u0646\\u0628\\u0627\\u062a \\u0627\\u0644\\u0643\\u0627\\u0645\\u0644 \\u0641\\u062d\\u0633\\u0628.\\n\\n\\u0648\\u064a\\u0645\\u0643\\u0646 \\u0627\\u0644\\u0642\\u0648\\u0644: \\u0625\\u0646 \\u0648\\u062c\\u0648\\u062f \\u0627\\u0644\\u062c\\u0630\\u0648\\u0631 (\\u062a\\u062d\\u062a \\u0627\\u0644\\u0623\\u0631\\u0636) \\u064a\\u0631\\u0645\\u0632\\n\\n\\u0628\\u0648\\u0636\\u0648\\u062d \\u0644\\u0647\\u0630\\u0647 \\u0627\\u0644\\u0637\\u0628\\u064a\\u0639\\u0629 \\\"\\u0627\\u0644\\u0633\\u0644\\u0628\\u064a\\u0629\\\" \\u0644\\u0644\\u0645\\u064a\\u062a\\u0627\\u0641\\u064a\\u0632\\u064a\\u0642\\u0627 \\u0627\\u0644\\u062f\\u064a\\u0643\\u0627\\u0631\\u062a\\u064a\\u0629.\\n\\n\\u0648\\u062d\\u064a\\u0646 \\u062a\\u0643\\u0648\\u0646 \\u0627\\u0644\\u0641\\u064a\\u0632\\u064a\\u0627\\u0621 \\u0648\\u0627\\u0644\\u0639\\u0644\\u0648\\u0645\\n\\n\\u0627\\u0644\\u062a\\u0637\\u0628\\u064a\\u0642\\u064a\\u0629 \\u0647\\u064a \\u0627\\u0644\\u062c\\u0630\\u0639 \\u0648\\u0627\\u0644\\u062b\\u0645\\u0627\\u0631-\\u0623\\u064a \\u0647\\u064a \\u0627\\u0644\\u062c\\u0632\\u0621 \\u0627\\u0644\\u0638\\u0627\\u0647\\u0631 \\u0641\\u0648\\u0642 \\u0627\\u0644\\u0623\\u0631\\u0636-\\u064a\\u0635\\u0628\\u062d \\u0627\\u0644\\u0645\\u0639\\u0646\\u0649 \\u0627\\u0644\\u0648\\u0627\\u0636\\u062d\\n\\n\\u0644\\u0630\\u0644\\u0643 \\u0647\\u0648 \\u0623\\u0646 \\u0647\\u0630\\u0647 \\u0647\\u064a \\u0627\\u0644\\u0645\\u0639\\u0627\\u0631\\u0641 \\\"\\u0627\\u0644\\u0625\\u064a\\u062c\\u0627\\u0628\\u064a\\u0629\\\" \\u0627\\u0644\\u062a\\u064a \\u062a\\u0636\\u064a\\u0641 \\u0625\\u0644\\u0649 \\u062d\\u0635\\u064a\\u0644\\u062a\\u0646\\u0627 \\u0645\\u0646 \\u0627\\u0644\\u0639\\u0644\\u0645\\u060c \\u0628\\u064a\\u0646\\u0645\\u0627\\n\\n\\u0627\\u0644\\u0645\\u064a\\u062a\\u0627\\u0641\\u064a\\u0632\\u064a\\u0642\\u0627 \\u062a\\u0643\\u062a\\u0641\\u064a \\u0628\\u0623\\u0646 \\u062a\\u062c\\u0639\\u0644 \\u0647\\u0630\\u0647 \\u0627\\u0644\\u0645\\u0639\\u0627\\u0631\\u0641 \\u0645\\u0645\\u0643\\u0646\\u0629\\u060c \\u0648\\u0628\\u0623\\u0646 \\u062a\\u0641\\u0633\\u062d \\u0644\\u0647\\u0627 \\u0645\\u062c\\u0627\\u0644 \\u0627\\u0644\\u0627\\u0646\\u0637\\u0644\\u0627\\u0642\\u060c \\u062b\\u0645\\n\\n\\u062a\\u062a\\u0631\\u0643\\u0647\\u0627 \\u0648\\u0634\\u0623\\u0646\\u0647\\u0627\\u060c \\u0623\\u064a \\u062a\\u0638\\u0644 \\u0645\\u062a\\u0648\\u0627\\u0631\\u064a\\u0629 \\\"\\u062a\\u062d\\u062a \\u0627\\u0644\\u0623\\u0631\\u0636\\\".\\n\\n\\u0648\\u0639\\u0644\\u0649 \\u0623\\u0633\\u0627\\u0633 \\u0647\\u0630\\u0627 \\u0627\\u0644\\u062a\\u0641\\u0633\\u064a\\u0631 \\u062a\\u0643\\u0648\\u0646 \\u0627\\u0644\\u0645\\u064a\\u062a\\u0627\\u0641\\u064a\\u0632\\u064a\\u0642\\u0627 \\u0639\\u0646\\u062f \\u062f\\u064a\\u0643\\u0627\\u0631\\u062a \\u0648\\u0633\\u064a\\u0644\\u0629 \\u0644\\u0627 \\u063a\\u0627\\u064a\\u0629\\u061b \\u0641\\u0647\\u064a-\\u0628\\u0631\\u063a\\u0645\\n\\n\\u0643\\u0644 \\u0645\\u0627 \\u0623\\u0648\\u0644\\u0627\\u0647 \\u0625\\u064a\\u0627\\u0647\\u0627 \\u0645\\u0624\\u0631\\u062e\\u0648 \\u0627\\u0644\\u0641\\u0644\\u0633\\u0641\\u0629 \\u0645\\u0646 \\u0627\\u0647\\u062a\\u0645\\u0627\\u0645-\\u0623\\u062f\\u0627\\u0629 \\u064a\\u0633\\u062a\\u062e\\u062f\\u0645\\u0647\\u0627 \\u062f\\u064a\\u0643\\u0627\\u0631\\u062a \\u0644\\u0643\\u064a \\u064a\\u0635\\u062f \\u0639\\u0646\\n\\n\\u0627\\u0644\\u0639\\u0644\\u0645 \\u0647\\u062c\\u0645\\u0627\\u062a \\u062a\\u062c\\u0639\\u0644 \\u0642\\u064a\\u0627\\u0645\\u0647 \\u0645\\u0633\\u062a\\u062d\\u064a\\u0644\\u064b\\u0627.\\n\\n\\u0648\\u0644\\u0643\\u0646\\u0647\\u0627 \\u0644\\u064a\\u0633\\u062a \\u0645\\u0642\\u0635\\u0648\\u062f\\u0629 \\u0644\\u0630\\u0627\\u062a\\u0647\\u0627\\u060c \\u0648\\u0625\\u0646\\u0645\\u0627 \\u0627\\u0644\\u0645\\u0642\\u0635\\u0648\\u062f \\u0644\\u0630\\u0627\\u062a\\u0647\\n\\n\\u0647\\u0648 \\u0627\\u0644\\u0639\\u0644\\u0645 \\u0627\\u0644\\u0646\\u0638\\u0631\\u064a \\u0648\\u0627\\u0644\\u062a\\u0637\\u0628\\u064a\\u0642\\u064a.\\n\\n(5) \\u0641\\u0645\\u0627 \\u0647\\u064a \\u0627\\u0644\\u0623\\u0633\\u0628\\u0627\\u0628 \\u0627\\u0644\\u062a\\u064a \\u062a\\u062c\\u0639\\u0644 \\u0647\\u0630\\u0627 \\u0627\\u0644\\u062a\\u0641\\u0633\\u064a\\u0631 \\u064a\\u0628\\u062f\\u0648 \\u0645\\u0639\\u0642\\u0648\\u0644\\u064b\\u0627\\u061f\\n\\n\\u0623\\u0648\\u0644 \\u0647\\u0630\\u0647 \\u0627\\u0644\\u0623\\u0633\\u0628\\u0627\\u0628 \\u0647\\u0648 \\u0636\\u0639\\u0641 \\u0628\\u0646\\u0627\\u0621 \\u0627\\u0644\\u0645\\u064a\\u062a\\u0627\\u0641\\u064a\\u0632\\u064a\\u0642\\u0627 \\u0627\\u0644\\u062f\\u064a\\u0643\\u0627\\u0631\\u062a\\u064a\\u0629.\\n\\n\\u0648\\u0627\\u0644\\u0648\\u0627\\u0642\\u0639 \\u0623\\u0646\\n\\n\\u0627\\u0644\\u0643\\u0644\\u0627\\u0645 \\u0639\\u0646 \\u062c\\u0648\\u0627\\u0646\\u0628 \\u0627\\u0644\\u0636\\u0639\\u0641 \\u0641\\u064a \\u0647\\u0630\\u0647 \\u0627\\u0644\\u0645\\u064a\\u062a\\u0627\\u0641\\u064a\\u0632\\u064a\\u0642\\u0627 \\u064a\\u0645\\u0643\\u0646 \\u0623\\u0646 \\u064a\\u0633\\u062a\\u063a\\u0631\\u0642 \\u0645\\u062c\\u0644\\u062f\\u0627\\u062a\\n\\n\\u0628\\u0623\\u0643\\u0645\\u0644\\u0647\\u0627\\u060c \\u0648\\u0639\\u0644\\u0649 \\u0627\\u0644\\u0631\\u063a\\u0645 \\u0645\\u0646 \\u0623\\u0646 \\u062f\\u064a\\u0643\\u0627\\u0631\\u062a \\u0643\\u0627\\u0646 \\u0644\\u0647 \\u0639\\u0644\\u0649 \\u0627\\u0644\\u062f\\u0648\\u0627\\u0645 \\u0645\\u0631\\u064a\\u062f\\u0648\\u0646 \\u064a\\u062f\\u0627\\u0641\\u0639\\u0648\\u0646 \\u0639\\u0646\\n\\n\\u0643\\u0644 \\u0645\\u0627 \\u0642\\u0627\\u0644\\u060c \\u0641\\u0625\\u0646 \\u062e\\u0635\\u0648\\u0645\\u0647 \\u0642\\u062f \\u0638\\u0647\\u0631\\u0648\\u0627 \\u0645\\u0646\\u0630 \\u0627\\u0644\\u0644\\u062d\\u0638\\u0629 \\u0627\\u0644\\u0623\\u0648\\u0644\\u0649\\u060c \\u0648\\u0633\\u0631\\u0639\\u0627\\u0646 \\u0645\\u0627 \\u0623\\u062f\\u0631\\u0643\\u0648\\u0627 \\u0623\\u0646\\n\\n\\u0628\\u0646\\u0627\\u0621 \\u0627\\u0644\\u0645\\u064a\\u062a\\u0627\\u0641\\u064a\\u0632\\u064a\\u0642\\u0627 \\u0627\\u0644\\u062f\\u064a\\u0643\\u0627\\u0631\\u062a\\u064a\\u0629 \\u063a\\u064a\\u0631 \\u0645\\u062a\\u0645\\u0627\\u0633\\u0643\\u060c \\u0648\\u0623\\u0646 \\u0627\\u0644\\u062d\\u062c\\u062c \\u0627\\u0644\\u062a\\u064a \\u0633\\u0627\\u0642\\u0647\\u0627 \\u0644\\u0644\\u062f\\u0641\\u0627\\u0639\\n\\n\\u0639\\u0646 \\u0622\\u0631\\u0627\\u0626\\u0647 \\u063a\\u064a\\u0631 \\u0645\\u0642\\u0646\\u0639\\u0629.\\n\\n\\u0625\\u0630\\u0627 \\u0623\\u064f\\u062e\\u0650\\u0630\\u064e\\u062a \\u0628\\u062c\\u062f\\u064a\\u0629\\u060c \\u0648\\u0625\\u0630\\u0627 \\u0645\\u0636\\u064a\\u0646\\u0627 \\u0641\\u064a\\u0647\\u0627 \\u0625\\u0644\\u0649 \\u0622\\u062e\\u0631 \\u0645\\u062f\\u0627\\u0647\\u0627 \\u0627\\u0633\\u062a\\u062e\\u0644\\u0635\\u0646\\u0627 \\u0643\\u0644 \\u0645\\u0627\\n\\n\\u062a\\u0646\\u0637\\u0648\\u064a \\u0639\\u0644\\u064a\\u0647 \\u0645\\u0646 \\u0645\\u0636\\u0627\\u0645\\u064a\\u0646 \\u064a\\u0645\\u0643\\u0646 \\u0623\\u0646 \\u062a\\u0647\\u062f\\u0645 \\u0641\\u0644\\u0633\\u0641\\u062a\\u0647 \\u0628\\u0623\\u0643\\u0645\\u0644\\u0647\\u0627\\u060c \\u0648\\u062a\\u062c\\u0639\\u0644 \\\"\\u0627\\u0644\\u0643\\u0648\\u062c\\u064a\\u062a\\u0648\\\"\\n\\n\\u0630\\u0627\\u062a\\u0647 \\u063a\\u064a\\u0631 \\u0645\\u0636\\u0645\\u0648\\u0646.\",\n          \"\\\"\\u0648\\u0647\\u0630\\u0627 \\u0627\\u0644\\u062d\\u0631\\u0635\\n\\n\\u0627\\u0644\\u0633\\u064a\\u0626 \\u0647\\u0648 \\u0627\\u0644\\u0630\\u064a \\u062c\\u0639\\u0644\\u0647 \\u064a\\u062a\\u0631\\u062f\\u062f \\u0641\\u064a \\u0627\\u0633\\u062a\\u062e\\u0644\\u0627\\u0641 \\u0623\\u062d\\u062f\\u0647\\u0645 \\u0645\\u0643\\u0627\\u0646\\u0647 \\u0639\\u0644\\u0649 \\u0646\\u062d\\u0648 \\u0645\\u0627 \\u0635\\u0646\\u0639 \\u0623\\u0628\\u0648 \\u0628\\u0643\\u0631 \\u062d\\u064a\\u0646 \\u0627\\u0633\\u062a\\u062e\\u0644\\u0641\\u0647\\u060c\\n\\n\\u0642\\u0648\\u0644\\u0647 \\u0625\\u0646\\u0647 \\u0643\\u0627\\u0646 \\u064a\\u0633\\u062a\\u062e\\u0644\\u0641 \\u0633\\u0627\\u0644\\u0645\\u064b\\u0627 \\u0645\\u0648\\u0644\\u0649 \\u0623\\u0628\\u064a \\u062d\\u0630\\u064a\\u0641\\u0629 \\u0623\\u0648 \\u0623\\u0628\\u0627 \\u0639\\u064f\\u0628\\u064e\\u064a\\u0652\\u062f\\u064e\\u0629\\u064e \\u0628\\u0646 \\u0627\\u0644\\u062c\\u064e\\u0631\\u0651\\u064e\\u0627\\u062d\\u0650 \\u0644\\u0648 \\u0623\\u0646 \\u0623\\u062d\\u062f\\u0647\\u0645\\u0627\\n\\n\\u0643\\u0627\\u0646 \\u062d\\u064a\\u0651\\u064b\\u0627\\u060c \\u0641\\u0625\\u0646\\u0645\\u0627 \\u0642\\u0635\\u062f \\u0628\\u0647-\\u0623\\u0643\\u0628\\u0631 \\u0627\\u0644\\u0638\\u0646-\\u0625\\u0644\\u0649 \\u0627\\u0644\\u062a\\u062e\\u0644\\u064a \\u0639\\u0646 \\u0645\\u0648\\u0642\\u0641 \\u062f\\u0642\\u0651\\u064e \\u062d\\u062a\\u0649 \\u0639\\u0644\\u0649 \\u0639\\u0645\\u0631 \\u0627\\u0644\\u0630\\u064a \\u0639\\u0631\\u0641\\n\\n\\u0637\\u064a\\u0644\\u0629\\n\\n\\u062d\\u064a\\u0627\\u062a\\u0647 \\u0628\\u0627\\u0644\\u0635\\u0631\\u0627\\u062d\\u0629 \\u0648\\u0627\\u0644\\u062d\\u0632\\u0645 \\u0648\\u0639\\u0632\\u0645 \\u0627\\u0644\\u0623\\u0645\\u0648\\u0631.\\n\\n\\u0644\\u0643\\u0646\\u0647 \\u0645\\u0639 \\u0630\\u0644\\u0643 \\u0644\\u0645 \\u064a\\u0643\\u0646 \\u064a\\u0633\\u062a\\u0637\\u064a\\u0639 \\u0623\\u0646 \\u064a\\u062f\\u0639 \\u0627\\u0644\\u0623\\u0645\\u0631 \\u0645\\u0631\\u0633\\u0644\\u064b\\u0627 \\u064a\\u0636\\u0637\\u0631\\u0628 \\u0628\\u064a\\u0646 \\u0639\\u0627\\u0645\\u0629 \\u0627\\u0644\\u0646\\u0627\\u0633 \\u0648\\u062e\\u0627\\u0635\\u062a\\u0647\\u0645\\u060c \\u0628\\u0639\\u062f\\n\\n\\u0623\\u0646 \\u0631\\u0623\\u0649\\n\\n\\u0645\\u0627 \\u062d\\u062f\\u062b \\u0628\\u0627\\u0644\\u0633\\u0642\\u064a\\u0641\\u0629 \\u0625\\u062b\\u0631 \\u0648\\u0641\\u0627\\u0629 \\u0627\\u0644\\u0631\\u0633\\u0648\\u0644\\u060c \\u0648\\u0627\\u0644\\u062d\\u0627\\u0644 \\u0627\\u0644\\u064a\\u0648\\u0645 \\u0623\\u0643\\u062b\\u0631 \\u0645\\u0645\\u0627 \\u0643\\u0627\\u0646\\u062a \\u0644\\u0630\\u0644\\u0643 \\u0627\\u0644\\u0639\\u0647\\u062f \\u062f\\u0642\\u0629\\u061b \\u0641\\u0642\\u062f \\u0627\\u0634\\u062a\\u0631\\u0643\\n\\n\\u0627\\u0644\\u0639\\u0631\\u0628 \\u062c\\u0645\\u064a\\u0639\\u064b\\u0627 \\u0641\\u064a \\u0645\\u062d\\u0627\\u0631\\u0628\\u0629 \\u0627\\u0644\\u0641\\u0631\\u0633 \\u0648\\u0627\\u0644\\u0631\\u0648\\u0645\\u060c \\u0648\\u0623\\u0635\\u0628\\u062d \\u0644\\u0643\\u0644 \\u0642\\u0628\\u064a\\u0644\\u0629 \\u0628\\u0630\\u0644\\u0643 \\u0623\\u0646 \\u062a\\u0632\\u0639\\u0645 \\u0644\\u0646\\u0641\\u0633\\u0647\\u0627 \\u0645\\u0646 \\u062d\\u0642 \\u0627\\u0644\\u0627\\u0634\\u062a\\u0631\\u0627\\u0643\\n\\n\\u0641\\u064a \\u0627\\u062e\\u062a\\u064a\\u0627\\u0631 \\u0627\\u0644\\u062e\\u0644\\u064a\\u0641\\u0629 \\u0645\\u0627 \\u0644\\u0644\\u0645\\u0647\\u0627\\u062c\\u0631\\u064a\\u0646 \\u0648\\u0627\\u0644\\u0623\\u0646\\u0635\\u0627\\u0631\\u060c \\u0647\\u0630\\u0627 \\u0625\\u0646 \\u0644\\u0645 \\u062a\\u0630\\u0647\\u0628 \\u0628\\u0639\\u0636 \\u0627\\u0644\\u0642\\u0628\\u0627\\u0626\\u0644 \\u0625\\u0644\\u0649 \\u0627\\u062f\\u0639\\u0627\\u0621 \\u0627\\u0644\\u062d\\u0642\\n\\n\\u0641\\u064a\\n\\n\\u062a\\u0631\\u0634\\u064a\\u062d \\u0632\\u0639\\u064a\\u0645\\u0647\\u0627 \\u0644\\u0645\\u0642\\u0627\\u0645 \\u0627\\u0644\\u062e\\u0644\\u0627\\u0641\\u0629\\u060c \\u0648\\u0641\\u064a \\u0647\\u0630\\u0627 \\u0627\\u0644\\u0623\\u0645\\u0631 \\u0645\\u0646 \\u0627\\u0644\\u062e\\u0637\\u0631 \\u0639\\u0644\\u0649 \\u0627\\u0644\\u0639\\u0631\\u0628 \\u0648\\u0639\\u0644\\u0649 \\u0627\\u0644\\u0625\\u0645\\u0628\\u0631\\u0627\\u0637\\u0648\\u0631\\u064a\\u0629 \\u0627\\u0644\\u0646\\u0627\\u0634\\u0626\\u0629\\n\\n\\u0645\\u0627 \\u064a\\u062f\\u0631\\u0643\\u0647 \\u0639\\u0645\\u0631 \\u0623\\u0643\\u062b\\u0631 \\u0645\\u0645\\u0627 \\u064a\\u062f\\u0631\\u0643\\u0647 \\u063a\\u064a\\u0631\\u0647\\u061b \\u0644\\u0630\\u0644\\u0643 \\u0644\\u0645 \\u064a\\u0644\\u0628\\u062b\\u060c \\u0628\\u0639\\u062f \\u0642\\u0644\\u064a\\u0644 \\u0645\\u0646 \\u0625\\u0639\\u0645\\u0627\\u0644 \\u0627\\u0644\\u0631\\u0623\\u064a\\u060c \\u0623\\u0646 \\u062c\\u0639\\u0644 \\u0627\\u0644\\u062e\\u0644\\u0627\\u0641\\u0629\\n\\n\\u0645\\u0646 \\u0628\\u0639\\u062f\\u0647 \\u0634\\u0648\\u0631\\u0649 \\u0641\\u064a \\u0633\\u062a\\u0629\\u061b \\u0647\\u0645 \\u0639\\u062b\\u0645\\u0627\\u0646 \\u0628\\u0646 \\u0639\\u0641\\u0627\\u0646\\u060c \\u0648\\u0639\\u0644\\u064a \\u0628\\u0646 \\u0623\\u0628\\u064a \\u0637\\u0627\\u0644\\u0628\\u060c \\u0648\\u0627\\u0644\\u0632\\u0628\\u064a\\u0631 \\u0628\\u0646 \\u0627\\u0644\\u0639\\u0648\\u0627\\u0645\\u060c \\u0648\\u0637\\u0644\\u062d\\u0629\\n\\n\\u0639\\u0628\\u064a\\u062f \\u0627\\u0644\\u0644\\u0647\\u060c \\u0648\\u0639\\u0628\\u062f \\u0627\\u0644\\u0631\\u062d\\u0645\\u0646 \\u0628\\u0646 \\u0639\\u0648\\u0641\\u060c \\u0648\\u0633\\u0639\\u062f \\u0628\\u0646 \\u0623\\u0628\\u064a \\u0648\\u064e\\u0642\\u0651\\u064e\\u0627\\u0635\\u064d\\u060c \\u0648\\u0645\\u0646 \\u0627\\u0644\\u0645\\u0623\\u062b\\u0648\\u0631 \\u0639\\u0646\\u0647 \\u0641\\u064a \\u0627\\u0633\\u062a\\u062e\\u0644\\u0627\\u0641\\u0647\\u0645\\n\\n\\\" \\u0644\\u0627 \\u0623\\u062c\\u062f \\u0623\\u062d\\u062f\\u064b\\u0627 \\u0623\\u062d\\u0642 \\u0628\\u0647\\u0630\\u0627 \\u0627\\u0644\\u0623\\u0645\\u0631 \\u0645\\u0646 \\u0647\\u0624\\u0644\\u0627\\u0621 \\u0627\\u0644\\u0646\\u0641\\u0631 \\u0627\\u0644\\u0630\\u064a\\u0646 \\u062a\\u064f\\u0648\\u0641\\u064a \\u0631\\u0633\\u0648\\u0644 \\u0627\\u0644\\u0644\\u0647\\n\\n\\u0648\\u0647\\u0648 \\u0639\\u0646\\u0647\\u0645\\n\\n\\u0631\\u0627\\u0636\\u064d\\u061b \\u0641\\u0623\\u064a\\u0651\\u064f\\u0647\\u0645 \\u0627\\u0633\\u062a\\u064f\\u062e\\u0652\\u0644\\u0650\\u0641\\u064e \\u0641\\u0647\\u0648 \\u0627\\u0644\\u062e\\u0644\\u064a\\u0641\\u0629 \\u0645\\u0646 \\u0628\\u0639\\u062f\\u064a.\\n\\n\\\"\\u0648\\u0628\\u0639\\u062f \\u0623\\u0646 \\u0633\\u0645\\u0649 \\u0647\\u0624\\u0644\\u0627\\u0621 \\u0627\\u0644\\u0633\\u062a\\u0629 \\u0623\\u0631\\u062f\\u0641:\\\" \\u0641\\u0625\\u0646\\n\\n\\u0623\\u0635\\u0627\\u0628\\u062a\\n\\n\\u062e\\u064a\\u0627\\u0646\\u0629.\\n\\n\\\"2\\n\\n\\u0639\\u0631\\u0641 \\u0627\\u0644\\u0646\\u0627\\u0633 \\u0645\\u0627 \\u0635\\u0646\\u0639 \\u0639\\u0645\\u0631 \\u0641\\u0633\\u0643\\u0646\\u0648\\u0627 \\u0625\\u0644\\u064a\\u0647\\u060c \\u0648\\u062f\\u0639\\u0627 \\u0639\\u0645\\u0631 \\u0647\\u0624\\u0644\\u0627\\u0621 \\u0627\\u0644\\u0646\\u0641\\u0631 \\u0627\\u0644\\u0630\\u064a\\u0646 \\u062c\\u0639\\u0644 \\u0627\\u0644\\u062e\\u0644\\u0627\\u0641\\u0629 \\u0634\\u0648\\u0631\\u0649 \\u0628\\u064a\\u0646\\u0647\\u0645\\n\\n\\u0641\\u0642\\u0627\\u0644:\\\" \\u0623\\u064e\\u0646\\u0652\\u0634\\u064f\\u062f\\u064f\\u0643\\u064e \\u0627\\u0644\\u0644\\u0647\\u064e \\u064a\\u0627 \\u0639\\u0644\\u064a \\u0625\\u0646 \\u0648\\u064e\\u0644\\u0650\\u064a\\u062a\\u064e \\u0645\\u0646 \\u0623\\u0645\\u0648\\u0631 \\u0627\\u0644\\u0646\\u0627\\u0633 \\u0634\\u064a\\u0626\\u064b\\u0627 \\u0623\\u0646 \\u062a\\u062d\\u0645\\u0644 \\u0628\\u0646\\u064a \\u0647\\u0627\\u0634\\u0645 \\u0639\\u0644\\u0649\\n\\n\\u0627\\u0644\\u0646\\u0627\\u0633!\\n\\n\\u0623\\u064e\\u0646\\u0652\\u0634\\u064f\\u062f\\u064f\\u0643\\u064e \\u0627\\u0644\\u0644\\u0647 \\u064a\\u0627 \\u0639\\u062b\\u0645\\u0627\\u0646 \\u0625\\u0646 \\u0648\\u0644\\u064a\\u062a \\u0645\\u0646 \\u0623\\u0645\\u0648\\u0631 \\u0627\\u0644\\u0646\\u0627\\u0633 \\u0634\\u064a\\u0626\\u064b\\u0627 \\u0623\\u0646 \\u062a\\u062d\\u0645\\u0644 \\u0628\\u0646\\u064a \\u0623\\u0628\\u064a \\u0645\\u064f\\u0639\\u064e\\u064a\\u0652\\u0637\\u064d\\n\\n\\u0631\\u0642\\u0627\\u0628 \\u0627\\u0644\\u0646\\u0627\\u0633!\\n\\n\\u0623\\u064e\\u0646\\u0652\\u0634\\u064f\\u062f\\u064f\\u0643\\u064e \\u0627\\u0644\\u0644\\u0647 \\u064a\\u0627 \\u0633\\u0639\\u062f \\u0625\\u0646 \\u0648\\u0644\\u064a\\u062a \\u0645\\u0646 \\u0623\\u0645\\u0648\\u0631 \\u0627\\u0644\\u0646\\u0627\\u0633 \\u0634\\u064a\\u0626\\u064b\\u0627 \\u0623\\u0646 \\u062a\\u062d\\u0645\\u0644 \\u0623\\u0642\\u0627\\u0631\\u0628\\u0643 \\u0639\\u0644\\u0649\\n\\n\\u0627\\u0644\\u0646\\u0627\\u0633!\\n\\n\\u0648\\u0646\\u0627\\u0634\\u062f \\u0627\\u0644\\u0622\\u062e\\u0631\\u064a\\u0646 \\u0645\\u062b\\u0644 \\u0647\\u0630\\u0647 \\u0627\\u0644\\u0645\\u0646\\u0627\\u0634\\u062f\\u0629\\u060c \\u062b\\u0645 \\u0642\\u0627\\u0644: \\u0642\\u0648\\u0645\\u0648\\u0627 \\u0641\\u062a\\u0634\\u0627\\u0648\\u0631\\u0648\\u0627 \\u062b\\u0645 \\u0627\\u0642\\u0636\\u0648\\u0627 \\u0623\\u0645\\u0631\\u0643\\u0645\\u060c \\u0648\\u0644\\u064a\\u0635\\u0644\\n\\n\\u0628\\u0627\\u0644\\u0646\\u0627\\u0633 \\u0635\\u064f\\u0647\\u064e\\u064a\\u0652\\u0628\\u064c.\",\n          \"\\u0641\\u0645\\u064e\\u0646 \\u0630\\u0627 \\u0627\\u0644\\u0630\\u064a \\u064a\\u0633\\u0645\\u0639 \\u0627\\u0644\\u0623\\u063a\\u0627\\u0646\\u064a \\u0627\\u0644\\u0634\\u0627\\u0626\\u0639\\u0629 \\u0641\\u064a \\u0623\\u064a\\u0627\\u0645\\u0646\\u0627 \\u0647\\u0630\\u0647 \\u0645\\u0645\\u0646 \\u0627\\u0633\\u062a\\u0642\\u0627\\u0645\\u062a \\u0641\\u0637\\u0631\\u062a\\u0647\\u0645\\u060c \\u0648\\u0633\\u0644\\u0645\\u062a \\u0645\\u0646 \\u0627\\u0644\\u0645\\u0633\\u062e\\n\\n\\u0623\\u0630\\u0648\\u0627\\u0642\\u0647\\u0645\\u060c \\u0641\\u0644\\u0627 \\u064a\\u062e\\u062c\\u0644\\u0647 \\u0623\\u0646 \\u064a\\u0643\\u0648\\u0646 \\u0647\\u0630\\u0627 \\u0627\\u0644\\u0637\\u0646\\u064a\\u0646 \\u0627\\u0644\\u062e\\u0627\\u0641\\u062a \\u0635\\u062f\\u0649 \\u0646\\u0641\\u0648\\u0633 \\u0622\\u062f\\u0645\\u064a\\u0629 \\u064a\\u0646\\u062a\\u0633\\u0628 \\u0625\\u0644\\u064a\\u0647\\u0627 \\u0648\\u062a\\u0646\\u062a\\u0633\\u0628 \\u0625\\u0644\\u064a\\u0647\\u060c\\n\\n\\u0648\\u0623\\u0646\\u0647 \\u0643\\u0644 \\u0645\\u0627 \\u062a\\u0633\\u062a\\u0637\\u064a\\u0639 \\u062a\\u0644\\u0643 \\u0627\\u0644\\u0646\\u0641\\u0648\\u0633 \\u0623\\u0646 \\u062a\\u0639\\u0628\\u0631 \\u0628\\u0647 \\u0639\\u0646 \\u0625\\u062d\\u0633\\u0627\\u0633\\u0627\\u062a\\u0647\\u0627\\u060c \\u0648\\u0623\\u0646 \\u062a\\u062a\\u0631\\u062c\\u0645 \\u0628\\u0647 \\u0639\\u0646 \\u0623\\u0633\\u0631\\u0627\\u0631 \\u062d\\u064a\\u0627\\u062a\\u0647\\u0627\\n\\n\\u0641\\u064a\\n\\n\\u0627\\u0644\\u0644\\u063a\\u0629 \\u0627\\u0644\\u062a\\u064a \\u062e\\u0644\\u0642\\u0647\\u0627 \\u0627\\u0644\\u0644\\u0647 \\u0644\\u0644\\u0623\\u062d\\u064a\\u0627\\u0621 \\u062c\\u0645\\u064a\\u0639\\u064b\\u0627\\u060c \\u0648\\u0627\\u0644\\u062a\\u064a \\u0627\\u0633\\u062a\\u0637\\u0627\\u0639\\u062a \\u0627\\u0644\\u0637\\u064a\\u0631 \\u0648\\u063a\\u064a\\u0631\\u0647\\u0627 \\u0645\\u0646 \\u062e\\u0644\\u0627\\u0626\\u0642 \\u0627\\u0644\\u0644\\u0647 \\u0627\\u0644\\u0639\\u062c\\u0645\\u0627\\u0621\\n\\n\\u0623\\u0646 \\u062a\\u0639\\u0628\\u0631 \\u0628\\u0647\\u0627 \\u0639\\u0646 \\u0625\\u062d\\u0633\\u0627\\u0633\\u0627\\u062a \\u0645\\u062e\\u062a\\u0644\\u0641\\u0629\\u060c \\u0648\\u0645\\u0637\\u0627\\u0644\\u0628 \\u0645\\u0646\\u0648\\u0639\\u0629\\u060c \\u0648\\u0627\\u0633\\u062a\\u0637\\u0627\\u0639 \\u0623\\u0646 \\u064a\\u062a\\u0639\\u0627\\u0637\\u0641 \\u0628\\u0647\\u0627 \\u0645\\u0646 \\u0644\\u0627 \\u064a\\u062a\\u0639\\u0627\\u0637\\u0641\\u0648\\u0646\\n\\n\\u0628\\u0627\\u0644\\u0643\\u0644\\u0627\\u0645 \\u0644\\u0642\\u0648\\u0629 \\u062f\\u0644\\u0627\\u0644\\u062a\\u0647\\u0627 \\u0648\\u0634\\u064a\\u0648\\u0639 \\u0645\\u0639\\u0627\\u0646\\u064a\\u0647\\u0627 \\u0648\\u0639\\u0645\\u0642 \\u0645\\u0635\\u062f\\u0631\\u0647\\u0627 \\u0645\\u0646 \\u063a\\u0631\\u0627\\u0626\\u0632 \\u0627\\u0644\\u0646\\u0641\\u0633 \\u0648\\u062e\\u0648\\u0627\\u0644\\u062c\\u0647\\u0627\\u061f\\n\\n\\u0623\\u0645 \\u0645\\u064e\\u0646 \\u0630\\u0627 \\u0627\\u0644\\u0630\\u064a \\u0644\\u0627 \\u064a\\u0624\\u0633\\u0641\\u0647 \\u0623\\u0646 \\u064a\\u0633\\u0645\\u0639 \\u0646\\u0642\\u0627\\u062f\\u0646\\u0627 \\u0648\\u0642\\u0631\\u0627\\u0621\\u0646\\u0627 \\u064a\\u062a\\u0633\\u0643\\u0639\\u0648\\u0646 \\u0641\\u064a \\u0644\\u0637\\u0627\\u0626\\u0641\\u0647\\u0645 \\u0648\\u0631\\u0642\\u0627\\u0626\\u0642\\u0647\\u0645 \\u0627\\u0644\\u063a\\u062b\\u0629\\u060c\\n\\n\\u0641\\u064a\\u0639\\u062c\\u0628\\u0647\\u0645 \\u0627\\u0644\\u0647\\u0630\\u0631 \\u0625\\u0630\\u0627 \\u0648\\u0627\\u0641\\u0642 \\u0645\\u0627 \\u064a\\u062a\\u062d\\u0631\\u0648\\u0646\\u0647 \\u0645\\u0646 \\u0623\\u0635\\u0648\\u0644 \\u0627\\u0644\\u0631\\u0642\\u0629\\u060c \\u0648\\u064a\\u062b\\u0642\\u0644 \\u0639\\u0644\\u064a\\u0647\\u0645 \\u0627\\u0644\\u0643\\u0644\\u0627\\u0645 \\u0627\\u0644\\u0641\\u062d\\u0644 \\u0625\\u0630\\u0627 \\u062e\\u0644\\u0627\\n\\n\\u0645\\u0646 \\u062a\\u0644\\u0643\\n\\n\\u0627\\u0644\\u0623\\u0635\\u0648\\u0644 \\u0627\\u0644\\u062a\\u064a \\u064a\\u062a\\u0645\\u062d\\u0644\\u0648\\u0646\\u0647\\u0627\\u060c \\u0648\\u064a\\u0642\\u0648\\u0644\\u0648\\u0646: \\u0647\\u0630\\u0627 \\u0645\\u0645\\u0627 \\u0644\\u0627 \\u064a\\u0633\\u064a\\u063a\\u0647 \\u0627\\u0644\\u0630\\u0648\\u0642\\u060c \\u0648\\u0644\\u0627 \\u064a\\u0646\\u0628\\u063a\\u064a \\u0623\\u0646 \\u064a\\u064f\\u062e\\u0627\\u0637\\u0628 \\u0628\\u0647 \\u0627\\u0644\\u0645\\u062d\\u0628\\u0648\\u0628\\n\\n\\u0623\\u0648 \\u064a\\u064f\\u0634\\u0628\\u0647 \\u0628\\u0647\\u060c \\u0648\\u0647\\u0630\\u0627 \\u064a\\u0632\\u0631\\u064a \\u0645\\u0646 \\u0644\\u0637\\u0627\\u0641\\u0629 \\u0627\\u0644\\u0634\\u0639\\u0631 \\u0648\\u062d\\u0644\\u0627\\u0648\\u062a\\u0647\\u060c \\u0648\\u0647\\u0630\\u0627 \\u0642\\u0628\\u064a\\u062d \\u0628\\u0627\\u0644\\u063a\\u0632\\u0644 \\u0648\\u0627\\u0644\\u062a\\u0634\\u0628\\u064a\\u0628\\u060c \\u0648\\u0647\\u0630\\u0647 \\u0643\\u0644\\u0645\\u0629\\n\\n\\u063a\\u0644\\u064a\\u0638\\u0629 \\u0623\\u0648 \\u0644\\u0647\\u062c\\u0629 \\u062e\\u0634\\u0646\\u0629\\u061f \\u0625\\u0644\\u0649 \\u063a\\u064a\\u0631 \\u0630\\u0644\\u0643 \\u0645\\u0645\\u0627 \\u064a\\u062e\\u064a\\u0644 \\u0625\\u0644\\u064a\\u0643 \\u0623\\u0646 \\u0627\\u0644\\u0642\\u0648\\u0645 \\u062e\\u0644\\u0642\\u0648\\u0627 \\u0645\\u0646 \\u0627\\u0644\\u0634\\u0645\\u0639 \\u0627\\u0644\\u0630\\u0627\\u0626\\u0628 \\u0644\\u0627 \\u0645\\u0646\\n\\n\\u0627\\u0644\\u0637\\u064a\\u0646\\n\\n\\u0645\\u064e\\u0646 \\u0630\\u0627 \\u0627\\u0644\\u0630\\u064a \\u064a\\u0633\\u0645\\u0639 \\u0647\\u0630\\u0627 \\u0648\\u0630\\u0627\\u0643 \\u062b\\u0645 \\u064a\\u062e\\u0637\\u0631 \\u0644\\u0647 \\u0623\\u0646 \\u0647\\u0630\\u0647 \\u0627\\u0644\\u0646\\u0641\\u0648\\u0633 \\u062e\\u0644\\u064a\\u0642\\u0629 \\u0623\\u0646 \\u064a\\u062d\\u0648\\u0643 \\u0641\\u064a\\u0647\\u0627 \\u0634\\u0639\\u0648\\u0631 \\u0646\\u0628\\u064a\\u0644\\n\\n\\u0623\\u0648 \\u0623\\u0645\\u0644\\n\\n\\u0643\\u0628\\u064a\\u0631 \\u0623\\u0648 \\u0639\\u0627\\u0637\\u0641\\u0629 \\u0642\\u0648\\u064a\\u0629 \\u0634\\u0631\\u064a\\u0641\\u0629\\u060c \\u0648\\u0623\\u0646\\u0647\\u0627 \\u062c\\u062f\\u064a\\u0631\\u0629 \\u0623\\u0646 \\u062a\\u0635\\u0628\\u0631 \\u0639\\u0644\\u0649 \\u062e\\u0637\\u0628 \\u062f\\u0627\\u0647\\u0645 \\u0623\\u0648 \\u062a\\u0630\\u0644\\u0644 \\u0639\\u0642\\u0628\\u0629 \\u0643\\u0626\\u0648\\u062f\\u064b\\u0627 \\u0623\\u0648\\n\\n\\u062a\\u0642\\u0645\\u0639\\n\\n\\u0646\\u0632\\u0639\\u0629 \\u0637\\u0627\\u0626\\u0634\\u0629\\u061f\\n\\n\\u0644\\u0642\\u062f \\u062d\\u0627\\u0631\\u062a \\u0627\\u0644\\u0645\\u0648\\u0633\\u064a\\u0642\\u0649 \\u0648\\u0627\\u0644\\u063a\\u0646\\u0627\\u0621 \\u0639\\u0646\\u062f\\u0646\\u0627 \\u0625\\u0644\\u0649 \\u0645\\u062b\\u0644 \\u0623\\u0646\\u064a\\u0646 \\u0627\\u0644\\u0633\\u0642\\u064a\\u0645 \\u0627\\u0644\\u062d\\u0631\\u0636 \\u0641\\u064a \\u0637\\u0644\\u0628 \\u0627\\u0644\\u0645\\u0645\\u0631\\u0636\\u0629\\u060c \\u0648\\u0628\\u0627\\u062a\\n\\n\\u0627\\u0644\\u0645\\u063a\\u0646\\u064a\\u060c \\u0648\\u0643\\u0623\\u0646\\u0647 \\u064a\\u0634\\u0641\\u0642 \\u0623\\u0646 \\u064a\\u0630\\u0648\\u062f \\u0627\\u0644\\u0646\\u0639\\u0627\\u0633 \\u0639\\u0646 \\u0639\\u064a\\u0648\\u0646\\u0646\\u0627.\\n\\n\\u0648\\u062c\\u0627\\u0621\\u0646\\u0627 \\u0627\\u0644\\u063a\\u0646\\u0627\\u0621 \\u0627\\u0644\\u0625\\u0641\\u0631\\u0646\\u062c\\u064a \\u0641\\u0633\\u062e\\u0631 \\u0645\\u0646\\u0647 \\u0623\\u0643\\u064a\\u0627\\u0633\\u0646\\u0627\\n\\n\\u0648\\u062a\\u0646\\u0627\\u062f\\u0631\\u0648\\u0627 \\u0628\\u0647 \\u0648\\u062a\\u0642\\u0631\\u0631 \\u0639\\u0646\\u062f\\u0647\\u0645 \\u0623\\u0646 \\u0627\\u0644\\u0625\\u0641\\u0631\\u0646\\u062c \\u0645\\u062d\\u0631\\u0648\\u0645\\u0648\\u0646 \\u0645\\u0646 \\u0644\\u0630\\u0629 \\u0627\\u0644\\u0633\\u0645\\u0627\\u0639\\u060c \\u0639\\u0627\\u0637\\u0644\\u0648\\u0646 \\u0639\\u0646 \\u062d\\u0627\\u0633\\u0629 \\u0627\\u0644\\u0630\\u0648\\u0642\\u060c \\u0643\\u064a\\u0641\\n\\n\\u0644\\u0627\\n\\n\\u0648\\u0647\\u0645 \\u064a\\u0637\\u0631\\u0628\\u0648\\u0646 \\u0644\\u0647\\u0630\\u0627 \\u0627\\u0644\\u0636\\u062c\\u064a\\u062c \\u0648\\u0627\\u0644\\u0635\\u0631\\u064a\\u062e\\u061f \\u0648\\u0644\\u0623\\u0643\\u064a\\u0627\\u0633\\u0646\\u0627 \\u0627\\u0644\\u0639\\u0630\\u0631\\u060c \\u0625\\u0630 \\u0645\\u0646 \\u0623\\u064a\\u0646 \\u0644\\u0647\\u0645 \\u0623\\u0646 \\u064a\\u0639\\u0644\\u0645\\u0648\\u0627 \\u0623\\u0646 \\u0647\\u0630\\u0627 \\u0647\\u0648\\n\\n\\u0627\\u0644\\u063a\\u0646\\u0627\\u0621 \\u0648\\u0647\\u0645 \\u064a\\u062e\\u0627\\u0641\\u0648\\u0646 \\u0639\\u0644\\u0649 \\u0622\\u0630\\u0627\\u0646\\u0647\\u0645 \\u0647\\u0630\\u0627 \\u0627\\u0644\\u062e\\u0648\\u0641\\u061f \\u0648\\u0644\\u0648 \\u0643\\u0627\\u0646\\u0648\\u0627 \\u0623\\u0642\\u0644 \\u062e\\u0648\\u0641\\u064b\\u0627 \\u0639\\u0644\\u064a\\u0647\\u0627 \\u0645\\u0646 \\u0630\\u0644\\u0643 \\u0644\\u0639\\u0644\\u0645\\u0648\\u0627 \\u0623\\u0646\\n\\n\\u0627\\u0644\\u0631\\u062c\\u0644\\n\\n\\u064a\\u062e\\u0627\\u0644\\u062c\\u0647 \\u0627\\u0644\\u063a\\u0636\\u0628 \\u0643\\u0645\\u0627 \\u064a\\u062e\\u0627\\u0644\\u062c\\u0647 \\u0627\\u0644\\u0637\\u0631\\u0628\\u060c \\u0648\\u0623\\u0646 \\u0627\\u0644\\u0646\\u0641\\u0633 \\u062a\\u062f\\u0648\\u064a \\u062c\\u0648\\u0627\\u0646\\u0628\\u0647\\u0627 \\u0628\\u0647\\u0632\\u064a\\u0645 \\u0627\\u0644\\u0631\\u0639\\u062f \\u0648\\u064a\\u062a\\u062c\\u0627\\u0648\\u0628 \\u0641\\u064a \\u0646\\u0648\\u0627\\u062d\\u064a\\u0647\\u0627\\n\\n\\u0632\\u0641\\u064a\\u0641 \\u0627\\u0644\\u0625\\u0639\\u0635\\u0627\\u0631 \\u0643\\u0645\\u0627 \\u064a\\u0631\\u0646 \\u0641\\u064a \\u0633\\u0645\\u0639\\u0647\\u0627 \\u0642\\u0637\\u0631 \\u0627\\u0644\\u0646\\u062f\\u0649 \\u0648\\u0632\\u0642\\u0627\\u0621 \\u0627\\u0644\\u0623\\u0637\\u064a\\u0627\\u0631\\u060c \\u0648\\u0623\\u0646 \\u0627\\u0644\\u063a\\u0646\\u0627\\u0621 \\u0647\\u0648 \\u0635\\u062f\\u0649 \\u0627\\u0644\\u0637\\u0628\\u064a\\u0639\\u0629 \\u0641\\u064a\\n\\n\\u0627\\u0644\\u0646\\u0641\\u0633\\u060c \\u0648\\u0644\\u0645 \\u064a\\u0642\\u0644 \\u0623\\u062d\\u062f: \\u0625\\u0646 \\u0627\\u0644\\u0637\\u0628\\u064a\\u0639\\u0629 \\u0644\\u0627 \\u062a\\u0646\\u0637\\u0642 \\u0625\\u0644\\u0627 \\u0647\\u0645\\u0633\\u064b\\u0627 \\u0648\\u0644\\u0627 \\u062a\\u0637\\u0631\\u0628 \\u0625\\u0644\\u0627 \\u0628\\u0645\\u0627 \\u064a\\u062e\\u062f\\u0631 \\u0648\\u064a\\u0646\\u064a\\u0645.\"\n        ],\n        \"semantic_type\": \"\",\n        \"description\": \"\"\n      }\n    },\n    {\n      \"column\": \"author\",\n      \"properties\": {\n        \"dtype\": \"category\",\n        \"num_unique_values\": 21,\n        \"samples\": [\n          \"\\u064a\\u0648\\u0633\\u0641 \\u0625\\u062f\\u0631\\u064a\\u0633\",\n          \"\\u0623\\u062d\\u0645\\u062f \\u0623\\u0645\\u064a\\u0646\",\n          \"\\u063a\\u0648\\u0633\\u062a\\u0627\\u0641 \\u0644\\u0648\\u0628\\u0648\\u0646\"\n        ],\n        \"semantic_type\": \"\",\n        \"description\": \"\"\n      }\n    },\n    {\n      \"column\": \"text_size\",\n      \"properties\": {\n        \"dtype\": \"number\",\n        \"std\": 277,\n        \"min\": 22,\n        \"max\": 2999,\n        \"num_unique_values\": 1768,\n        \"samples\": [\n          1154,\n          1683,\n          1670\n        ],\n        \"semantic_type\": \"\",\n        \"description\": \"\"\n      }\n    },\n    {\n      \"column\": \"chunk_index\",\n      \"properties\": {\n        \"dtype\": \"number\",\n        \"std\": 0,\n        \"min\": 0,\n        \"max\": 6,\n        \"num_unique_values\": 7,\n        \"samples\": [\n          0,\n          1,\n          5\n        ],\n        \"semantic_type\": \"\",\n        \"description\": \"\"\n      }\n    },\n    {\n      \"column\": \"is_split\",\n      \"properties\": {\n        \"dtype\": \"boolean\",\n        \"num_unique_values\": 2,\n        \"samples\": [\n          true,\n          false\n        ],\n        \"semantic_type\": \"\",\n        \"description\": \"\"\n      }\n    },\n    {\n      \"column\": \"cleaned_text\",\n      \"properties\": {\n        \"dtype\": \"string\",\n        \"num_unique_values\": 32940,\n        \"samples\": [\n          \"\\u0623\\u0645\\u0627 \\u0642\\u0628\\u0644 \\u0630\\u0644\\u0643 \\u0648\\u0637\\u0648\\u0627\\u0644 \\u0627\\u0644\\u0648\\u0642\\u062a \\u0627\\u0644\\u0630\\u064a \\u0643\\u0627\\u0646 \\u0648\\u062c\\u0648\\u062f \\u0627\\u0644\\u0639\\u0627\\u0644\\u0645\\n\\n\\u0627\\u0644\\u062e\\u0627\\u0631\\u062c\\u064a \\u0623\\u0648 \\u0633\\u0644\\u0627\\u0645\\u0629 \\u0627\\u0644\\u0623\\u062f\\u0648\\u0627\\u062a \\u0627\\u0644\\u062a\\u064a \\u0646\\u0639\\u0631\\u0641\\u0647 \\u0628\\u0647\\u0627 \\u0645\\u0639\\u0631\\u0636\\u0627 \\u0641\\u064a\\u0647 \\u0644\\u0644\\u0634\\u0643\\u060c \\u0641\\u0643\\u0627\\u0646 \\u0645\\u0646 \\u0627\\u0644\\u0645\\u062d\\u0627\\u0644 \\u062a\\u0635\\u0648\\u0631 \\u0623\\u064a\\n\\n\\u0639\\u0644\\u0645\\u060c \\u0648\\u0647\\u0643\\u0630\\u0627 \\u064a\\u0643\\u0648\\u0646 \\u0647\\u062f\\u0641 \\u062a\\u0644\\u0643 \\u0627\\u0644\\u0631\\u062d\\u0644\\u0629 \\u0627\\u0644\\u0637\\u0648\\u064a\\u0644\\u0629 \\u0641\\u064a \\u0645\\u064a\\u062f\\u0627\\u0646 \\u0627\\u0644\\u0645\\u064a\\u062a\\u0627\\u0641\\u064a\\u0632\\u064a\\u0642\\u0627 \\u0647\\u0648 \\u0623\\u0646 \\u064a\\u0645\\u0647\\u062f\\n\\n\\\"\\u0633\\u0644\\u0628\\u064a\\u0627\\\" \\u0644\\u0638\\u0647\\u0648\\u0631 \\u0627\\u0644\\u0639\\u0644\\u0645\\u060c \\u0628\\u0645\\u0639\\u0646\\u0649 \\u062a\\u0628\\u062f\\u064a\\u062f \\u0627\\u0644\\u0634\\u0643\\u0648\\u0643 \\u0627\\u0644\\u062a\\u064a \\u0643\\u0627\\u0646\\u062a \\u062a\\u0645\\u0646\\u0639 \\u0645\\u0646 \\u0642\\u064a\\u0627\\u0645\\u0647\\u060c \\u0643\\u0623\\u0646 \\u062f\\u064a\\u0643\\u0627\\u0631\\u062a\\u060c\\n\\n\\u0628\\u0639\\u062f \\u0623\\u0646 \\u064a\\u0646\\u062a\\u0647\\u064a \\u0645\\u0646 \\u0645\\u0630\\u0647\\u0628\\u0647 \\u0627\\u0644\\u0645\\u064a\\u062a\\u0627\\u0641\\u064a\\u0632\\u064a\\u0642\\u064a\\u060c \\u064a\\u062e\\u0627\\u0637\\u0628 \\u0631\\u062c\\u0627\\u0644 \\u0627\\u0644\\u0639\\u0644\\u0645 \\u0642\\u0627\\u0626\\u0644\\u0627: \\\"\\u0627\\u0644\\u0622\\u0646 \\u064a\\u0645\\u0643\\u0646\\u0643\\u0645 \\u0623\\u0646\\n\\n\\u062a\\u0628\\u062f\\u0621\\u0648\\u0627 \\u0628\\u062d\\u062b\\u0643\\u0645 \\u0627\\u0644\\u0639\\u0644\\u0645\\u064a \\u0648\\u0623\\u0646\\u062a\\u0645 \\u0645\\u0637\\u0645\\u0626\\u0646\\u0648\\u0646\\u060c \\u0628\\u0639\\u062f \\u0623\\u0646 \\u0623\\u062b\\u0628\\u062a \\u0623\\u0646 \\u0627\\u0644\\u0645\\u0648\\u0636\\u0648\\u0639\\u0627\\u062a \\u0627\\u0644\\u062a\\u064a \\u062a\\u0628\\u062d\\u062b\\u0648\\u0646\\u0647\\u0627 \\u063a\\u064a\\u0631\\n\\n\\u0645\\u0639\\u0631\\u0636\\u0629 \\u0644\\u0644\\u0634\\u0643\\u060c \\u0648\\u0623\\u0646 \\u0648\\u0633\\u0627\\u0626\\u0644\\u0643\\u0645 \\u0641\\u064a \\u0645\\u0639\\u0631\\u0641\\u0629 \\u0647\\u0630\\u0647 \\u0627\\u0644\\u0645\\u0648\\u0636\\u0648\\u0639\\u0627\\u062a \\u0645\\u0648\\u062b\\u0648\\u0642 \\u0628\\u0647\\u0627\\\".\\n\\n\\u0648\\u0628\\u0639\\u0628\\u0627\\u0631\\u0629 \\u0623\\u062e\\u0631\\u0649\\u061b\\n\\n\\u0641\\u0627\\u0644\\u0645\\u064a\\u062a\\u0627\\u0641\\u064a\\u0632\\u064a\\u0642\\u0627 \\u062a\\u0646\\u062a\\u0647\\u064a \\u0628\\u0630\\u0644\\u0643 \\u0627\\u0644\\u0636\\u0648\\u0621 \\u0627\\u0644\\u0623\\u062e\\u0636\\u0631 \\u0627\\u0644\\u0630\\u064a \\u064a\\u0628\\u062f\\u0623 \\u0628\\u0639\\u062f\\u0647 \\u0627\\u0644\\u0639\\u0644\\u0645 \\u0641\\u064a \\u0627\\u0644\\u0627\\u0646\\u0637\\u0644\\u0627\\u0642 \\u0648\\u0639\\u0646\\u062f \\u0647\\u0630\\u0627\\n\\n\\u0627\\u0644\\u062d\\u062f \\u064a\\u0646\\u062a\\u0647\\u064a \\u062f\\u0648\\u0631\\u0647\\u0627.\\n\\n\\u0647\\u0630\\u0627 \\u0627\\u0644\\u0631\\u0623\\u064a \\u064a\\u0646\\u0637\\u0628\\u0642-\\u0643\\u0645\\u0627 \\u0642\\u0644\\u0646\\u0627-\\u0639\\u0644\\u0649 \\u062a\\u0641\\u0633\\u064a\\u0631 \\u0645\\u0639\\u064a\\u0646 \\u0644\\u062c\\u0630\\u0648\\u0631 \\u0634\\u062c\\u0631\\u0629 \\u0627\\u0644\\u0645\\u0639\\u0631\\u0641\\u0629\\u060c \\u064a\\u062c\\u0639\\u0644 \\u0647\\u0630\\u0647\\n\\n\\u0627\\u0644\\u062c\\u0630\\u0648\\u0631 \\u0645\\u0645\\u0647\\u062f\\u0629 \\u0644\\u0644\\u0646\\u0628\\u0627\\u062a \\u0627\\u0644\\u0643\\u0627\\u0645\\u0644 \\u0641\\u062d\\u0633\\u0628.\\n\\n\\u0648\\u064a\\u0645\\u0643\\u0646 \\u0627\\u0644\\u0642\\u0648\\u0644: \\u0625\\u0646 \\u0648\\u062c\\u0648\\u062f \\u0627\\u0644\\u062c\\u0630\\u0648\\u0631 (\\u062a\\u062d\\u062a \\u0627\\u0644\\u0623\\u0631\\u0636) \\u064a\\u0631\\u0645\\u0632\\n\\n\\u0628\\u0648\\u0636\\u0648\\u062d \\u0644\\u0647\\u0630\\u0647 \\u0627\\u0644\\u0637\\u0628\\u064a\\u0639\\u0629 \\\"\\u0627\\u0644\\u0633\\u0644\\u0628\\u064a\\u0629\\\" \\u0644\\u0644\\u0645\\u064a\\u062a\\u0627\\u0641\\u064a\\u0632\\u064a\\u0642\\u0627 \\u0627\\u0644\\u062f\\u064a\\u0643\\u0627\\u0631\\u062a\\u064a\\u0629.\\n\\n\\u0648\\u062d\\u064a\\u0646 \\u062a\\u0643\\u0648\\u0646 \\u0627\\u0644\\u0641\\u064a\\u0632\\u064a\\u0627\\u0621 \\u0648\\u0627\\u0644\\u0639\\u0644\\u0648\\u0645\\n\\n\\u0627\\u0644\\u062a\\u0637\\u0628\\u064a\\u0642\\u064a\\u0629 \\u0647\\u064a \\u0627\\u0644\\u062c\\u0630\\u0639 \\u0648\\u0627\\u0644\\u062b\\u0645\\u0627\\u0631-\\u0623\\u064a \\u0647\\u064a \\u0627\\u0644\\u062c\\u0632\\u0621 \\u0627\\u0644\\u0638\\u0627\\u0647\\u0631 \\u0641\\u0648\\u0642 \\u0627\\u0644\\u0623\\u0631\\u0636-\\u064a\\u0635\\u0628\\u062d \\u0627\\u0644\\u0645\\u0639\\u0646\\u0649 \\u0627\\u0644\\u0648\\u0627\\u0636\\u062d\\n\\n\\u0644\\u0630\\u0644\\u0643 \\u0647\\u0648 \\u0623\\u0646 \\u0647\\u0630\\u0647 \\u0647\\u064a \\u0627\\u0644\\u0645\\u0639\\u0627\\u0631\\u0641 \\\"\\u0627\\u0644\\u0625\\u064a\\u062c\\u0627\\u0628\\u064a\\u0629\\\" \\u0627\\u0644\\u062a\\u064a \\u062a\\u0636\\u064a\\u0641 \\u0625\\u0644\\u0649 \\u062d\\u0635\\u064a\\u0644\\u062a\\u0646\\u0627 \\u0645\\u0646 \\u0627\\u0644\\u0639\\u0644\\u0645\\u060c \\u0628\\u064a\\u0646\\u0645\\u0627\\n\\n\\u0627\\u0644\\u0645\\u064a\\u062a\\u0627\\u0641\\u064a\\u0632\\u064a\\u0642\\u0627 \\u062a\\u0643\\u062a\\u0641\\u064a \\u0628\\u0623\\u0646 \\u062a\\u062c\\u0639\\u0644 \\u0647\\u0630\\u0647 \\u0627\\u0644\\u0645\\u0639\\u0627\\u0631\\u0641 \\u0645\\u0645\\u0643\\u0646\\u0629\\u060c \\u0648\\u0628\\u0623\\u0646 \\u062a\\u0641\\u0633\\u062d \\u0644\\u0647\\u0627 \\u0645\\u062c\\u0627\\u0644 \\u0627\\u0644\\u0627\\u0646\\u0637\\u0644\\u0627\\u0642\\u060c \\u062b\\u0645\\n\\n\\u062a\\u062a\\u0631\\u0643\\u0647\\u0627 \\u0648\\u0634\\u0623\\u0646\\u0647\\u0627\\u060c \\u0623\\u064a \\u062a\\u0638\\u0644 \\u0645\\u062a\\u0648\\u0627\\u0631\\u064a\\u0629 \\\"\\u062a\\u062d\\u062a \\u0627\\u0644\\u0623\\u0631\\u0636\\\".\\n\\n\\u0648\\u0639\\u0644\\u0649 \\u0623\\u0633\\u0627\\u0633 \\u0647\\u0630\\u0627 \\u0627\\u0644\\u062a\\u0641\\u0633\\u064a\\u0631 \\u062a\\u0643\\u0648\\u0646 \\u0627\\u0644\\u0645\\u064a\\u062a\\u0627\\u0641\\u064a\\u0632\\u064a\\u0642\\u0627 \\u0639\\u0646\\u062f \\u062f\\u064a\\u0643\\u0627\\u0631\\u062a \\u0648\\u0633\\u064a\\u0644\\u0629 \\u0644\\u0627 \\u063a\\u0627\\u064a\\u0629\\u061b \\u0641\\u0647\\u064a-\\u0628\\u0631\\u063a\\u0645\\n\\n\\u0643\\u0644 \\u0645\\u0627 \\u0623\\u0648\\u0644\\u0627\\u0647 \\u0625\\u064a\\u0627\\u0647\\u0627 \\u0645\\u0624\\u0631\\u062e\\u0648 \\u0627\\u0644\\u0641\\u0644\\u0633\\u0641\\u0629 \\u0645\\u0646 \\u0627\\u0647\\u062a\\u0645\\u0627\\u0645-\\u0623\\u062f\\u0627\\u0629 \\u064a\\u0633\\u062a\\u062e\\u062f\\u0645\\u0647\\u0627 \\u062f\\u064a\\u0643\\u0627\\u0631\\u062a \\u0644\\u0643\\u064a \\u064a\\u0635\\u062f \\u0639\\u0646\\n\\n\\u0627\\u0644\\u0639\\u0644\\u0645 \\u0647\\u062c\\u0645\\u0627\\u062a \\u062a\\u062c\\u0639\\u0644 \\u0642\\u064a\\u0627\\u0645\\u0647 \\u0645\\u0633\\u062a\\u062d\\u064a\\u0644\\u0627.\\n\\n\\u0648\\u0644\\u0643\\u0646\\u0647\\u0627 \\u0644\\u064a\\u0633\\u062a \\u0645\\u0642\\u0635\\u0648\\u062f\\u0629 \\u0644\\u0630\\u0627\\u062a\\u0647\\u0627\\u060c \\u0648\\u0625\\u0646\\u0645\\u0627 \\u0627\\u0644\\u0645\\u0642\\u0635\\u0648\\u062f \\u0644\\u0630\\u0627\\u062a\\u0647\\n\\n\\u0647\\u0648 \\u0627\\u0644\\u0639\\u0644\\u0645 \\u0627\\u0644\\u0646\\u0638\\u0631\\u064a \\u0648\\u0627\\u0644\\u062a\\u0637\\u0628\\u064a\\u0642\\u064a.\\n\\n(5) \\u0641\\u0645\\u0627 \\u0647\\u064a \\u0627\\u0644\\u0623\\u0633\\u0628\\u0627\\u0628 \\u0627\\u0644\\u062a\\u064a \\u062a\\u062c\\u0639\\u0644 \\u0647\\u0630\\u0627 \\u0627\\u0644\\u062a\\u0641\\u0633\\u064a\\u0631 \\u064a\\u0628\\u062f\\u0648 \\u0645\\u0639\\u0642\\u0648\\u0644\\u0627\\u061f\\n\\n\\u0623\\u0648\\u0644 \\u0647\\u0630\\u0647 \\u0627\\u0644\\u0623\\u0633\\u0628\\u0627\\u0628 \\u0647\\u0648 \\u0636\\u0639\\u0641 \\u0628\\u0646\\u0627\\u0621 \\u0627\\u0644\\u0645\\u064a\\u062a\\u0627\\u0641\\u064a\\u0632\\u064a\\u0642\\u0627 \\u0627\\u0644\\u062f\\u064a\\u0643\\u0627\\u0631\\u062a\\u064a\\u0629.\\n\\n\\u0648\\u0627\\u0644\\u0648\\u0627\\u0642\\u0639 \\u0623\\u0646\\n\\n\\u0627\\u0644\\u0643\\u0644\\u0627\\u0645 \\u0639\\u0646 \\u062c\\u0648\\u0627\\u0646\\u0628 \\u0627\\u0644\\u0636\\u0639\\u0641 \\u0641\\u064a \\u0647\\u0630\\u0647 \\u0627\\u0644\\u0645\\u064a\\u062a\\u0627\\u0641\\u064a\\u0632\\u064a\\u0642\\u0627 \\u064a\\u0645\\u0643\\u0646 \\u0623\\u0646 \\u064a\\u0633\\u062a\\u063a\\u0631\\u0642 \\u0645\\u062c\\u0644\\u062f\\u0627\\u062a\\n\\n\\u0628\\u0623\\u0643\\u0645\\u0644\\u0647\\u0627\\u060c \\u0648\\u0639\\u0644\\u0649 \\u0627\\u0644\\u0631\\u063a\\u0645 \\u0645\\u0646 \\u0623\\u0646 \\u062f\\u064a\\u0643\\u0627\\u0631\\u062a \\u0643\\u0627\\u0646 \\u0644\\u0647 \\u0639\\u0644\\u0649 \\u0627\\u0644\\u062f\\u0648\\u0627\\u0645 \\u0645\\u0631\\u064a\\u062f\\u0648\\u0646 \\u064a\\u062f\\u0627\\u0641\\u0639\\u0648\\u0646 \\u0639\\u0646\\n\\n\\u0643\\u0644 \\u0645\\u0627 \\u0642\\u0627\\u0644\\u060c \\u0641\\u0625\\u0646 \\u062e\\u0635\\u0648\\u0645\\u0647 \\u0642\\u062f \\u0638\\u0647\\u0631\\u0648\\u0627 \\u0645\\u0646\\u0630 \\u0627\\u0644\\u0644\\u062d\\u0638\\u0629 \\u0627\\u0644\\u0623\\u0648\\u0644\\u0649\\u060c \\u0648\\u0633\\u0631\\u0639\\u0627\\u0646 \\u0645\\u0627 \\u0623\\u062f\\u0631\\u0643\\u0648\\u0627 \\u0623\\u0646\\n\\n\\u0628\\u0646\\u0627\\u0621 \\u0627\\u0644\\u0645\\u064a\\u062a\\u0627\\u0641\\u064a\\u0632\\u064a\\u0642\\u0627 \\u0627\\u0644\\u062f\\u064a\\u0643\\u0627\\u0631\\u062a\\u064a\\u0629 \\u063a\\u064a\\u0631 \\u0645\\u062a\\u0645\\u0627\\u0633\\u0643\\u060c \\u0648\\u0623\\u0646 \\u0627\\u0644\\u062d\\u062c\\u062c \\u0627\\u0644\\u062a\\u064a \\u0633\\u0627\\u0642\\u0647\\u0627 \\u0644\\u0644\\u062f\\u0641\\u0627\\u0639\\n\\n\\u0639\\u0646 \\u0622\\u0631\\u0627\\u0626\\u0647 \\u063a\\u064a\\u0631 \\u0645\\u0642\\u0646\\u0639\\u0629.\\n\\n\\u0625\\u0630\\u0627 \\u0623\\u062e\\u0630\\u062a \\u0628\\u062c\\u062f\\u064a\\u0629\\u060c \\u0648\\u0625\\u0630\\u0627 \\u0645\\u0636\\u064a\\u0646\\u0627 \\u0641\\u064a\\u0647\\u0627 \\u0625\\u0644\\u0649 \\u0622\\u062e\\u0631 \\u0645\\u062f\\u0627\\u0647\\u0627 \\u0627\\u0633\\u062a\\u062e\\u0644\\u0635\\u0646\\u0627 \\u0643\\u0644 \\u0645\\u0627\\n\\n\\u062a\\u0646\\u0637\\u0648\\u064a \\u0639\\u0644\\u064a\\u0647 \\u0645\\u0646 \\u0645\\u0636\\u0627\\u0645\\u064a\\u0646 \\u064a\\u0645\\u0643\\u0646 \\u0623\\u0646 \\u062a\\u0647\\u062f\\u0645 \\u0641\\u0644\\u0633\\u0641\\u062a\\u0647 \\u0628\\u0623\\u0643\\u0645\\u0644\\u0647\\u0627\\u060c \\u0648\\u062a\\u062c\\u0639\\u0644 \\\"\\u0627\\u0644\\u0643\\u0648\\u062c\\u064a\\u062a\\u0648\\\"\\n\\n\\u0630\\u0627\\u062a\\u0647 \\u063a\\u064a\\u0631 \\u0645\\u0636\\u0645\\u0648\\u0646.\",\n          \"\\\"\\u0648\\u0647\\u0630\\u0627 \\u0627\\u0644\\u062d\\u0631\\u0635\\n\\n\\u0627\\u0644\\u0633\\u064a\\u0626 \\u0647\\u0648 \\u0627\\u0644\\u0630\\u064a \\u062c\\u0639\\u0644\\u0647 \\u064a\\u062a\\u0631\\u062f\\u062f \\u0641\\u064a \\u0627\\u0633\\u062a\\u062e\\u0644\\u0627\\u0641 \\u0623\\u062d\\u062f\\u0647\\u0645 \\u0645\\u0643\\u0627\\u0646\\u0647 \\u0639\\u0644\\u0649 \\u0646\\u062d\\u0648 \\u0645\\u0627 \\u0635\\u0646\\u0639 \\u0623\\u0628\\u0648 \\u0628\\u0643\\u0631 \\u062d\\u064a\\u0646 \\u0627\\u0633\\u062a\\u062e\\u0644\\u0641\\u0647\\u060c\\n\\n\\u0642\\u0648\\u0644\\u0647 \\u0625\\u0646\\u0647 \\u0643\\u0627\\u0646 \\u064a\\u0633\\u062a\\u062e\\u0644\\u0641 \\u0633\\u0627\\u0644\\u0645\\u0627 \\u0645\\u0648\\u0644\\u0649 \\u0623\\u0628\\u064a \\u062d\\u0630\\u064a\\u0641\\u0629 \\u0623\\u0648 \\u0623\\u0628\\u0627 \\u0639\\u0628\\u064a\\u062f\\u0629 \\u0628\\u0646 \\u0627\\u0644\\u062c\\u0631\\u0627\\u062d \\u0644\\u0648 \\u0623\\u0646 \\u0623\\u062d\\u062f\\u0647\\u0645\\u0627\\n\\n\\u0643\\u0627\\u0646 \\u062d\\u064a\\u0627\\u060c \\u0641\\u0625\\u0646\\u0645\\u0627 \\u0642\\u0635\\u062f \\u0628\\u0647-\\u0623\\u0643\\u0628\\u0631 \\u0627\\u0644\\u0638\\u0646-\\u0625\\u0644\\u0649 \\u0627\\u0644\\u062a\\u062e\\u0644\\u064a \\u0639\\u0646 \\u0645\\u0648\\u0642\\u0641 \\u062f\\u0642 \\u062d\\u062a\\u0649 \\u0639\\u0644\\u0649 \\u0639\\u0645\\u0631 \\u0627\\u0644\\u0630\\u064a \\u0639\\u0631\\u0641\\n\\n\\u0637\\u064a\\u0644\\u0629\\n\\n\\u062d\\u064a\\u0627\\u062a\\u0647 \\u0628\\u0627\\u0644\\u0635\\u0631\\u0627\\u062d\\u0629 \\u0648\\u0627\\u0644\\u062d\\u0632\\u0645 \\u0648\\u0639\\u0632\\u0645 \\u0627\\u0644\\u0623\\u0645\\u0648\\u0631.\\n\\n\\u0644\\u0643\\u0646\\u0647 \\u0645\\u0639 \\u0630\\u0644\\u0643 \\u0644\\u0645 \\u064a\\u0643\\u0646 \\u064a\\u0633\\u062a\\u0637\\u064a\\u0639 \\u0623\\u0646 \\u064a\\u062f\\u0639 \\u0627\\u0644\\u0623\\u0645\\u0631 \\u0645\\u0631\\u0633\\u0644\\u0627 \\u064a\\u0636\\u0637\\u0631\\u0628 \\u0628\\u064a\\u0646 \\u0639\\u0627\\u0645\\u0629 \\u0627\\u0644\\u0646\\u0627\\u0633 \\u0648\\u062e\\u0627\\u0635\\u062a\\u0647\\u0645\\u060c \\u0628\\u0639\\u062f\\n\\n\\u0623\\u0646 \\u0631\\u0623\\u0649\\n\\n\\u0645\\u0627 \\u062d\\u062f\\u062b \\u0628\\u0627\\u0644\\u0633\\u0642\\u064a\\u0641\\u0629 \\u0625\\u062b\\u0631 \\u0648\\u0641\\u0627\\u0629 \\u0627\\u0644\\u0631\\u0633\\u0648\\u0644\\u060c \\u0648\\u0627\\u0644\\u062d\\u0627\\u0644 \\u0627\\u0644\\u064a\\u0648\\u0645 \\u0623\\u0643\\u062b\\u0631 \\u0645\\u0645\\u0627 \\u0643\\u0627\\u0646\\u062a \\u0644\\u0630\\u0644\\u0643 \\u0627\\u0644\\u0639\\u0647\\u062f \\u062f\\u0642\\u0629\\u061b \\u0641\\u0642\\u062f \\u0627\\u0634\\u062a\\u0631\\u0643\\n\\n\\u0627\\u0644\\u0639\\u0631\\u0628 \\u062c\\u0645\\u064a\\u0639\\u0627 \\u0641\\u064a \\u0645\\u062d\\u0627\\u0631\\u0628\\u0629 \\u0627\\u0644\\u0641\\u0631\\u0633 \\u0648\\u0627\\u0644\\u0631\\u0648\\u0645\\u060c \\u0648\\u0623\\u0635\\u0628\\u062d \\u0644\\u0643\\u0644 \\u0642\\u0628\\u064a\\u0644\\u0629 \\u0628\\u0630\\u0644\\u0643 \\u0623\\u0646 \\u062a\\u0632\\u0639\\u0645 \\u0644\\u0646\\u0641\\u0633\\u0647\\u0627 \\u0645\\u0646 \\u062d\\u0642 \\u0627\\u0644\\u0627\\u0634\\u062a\\u0631\\u0627\\u0643\\n\\n\\u0641\\u064a \\u0627\\u062e\\u062a\\u064a\\u0627\\u0631 \\u0627\\u0644\\u062e\\u0644\\u064a\\u0641\\u0629 \\u0645\\u0627 \\u0644\\u0644\\u0645\\u0647\\u0627\\u062c\\u0631\\u064a\\u0646 \\u0648\\u0627\\u0644\\u0623\\u0646\\u0635\\u0627\\u0631\\u060c \\u0647\\u0630\\u0627 \\u0625\\u0646 \\u0644\\u0645 \\u062a\\u0630\\u0647\\u0628 \\u0628\\u0639\\u0636 \\u0627\\u0644\\u0642\\u0628\\u0627\\u0626\\u0644 \\u0625\\u0644\\u0649 \\u0627\\u062f\\u0639\\u0627\\u0621 \\u0627\\u0644\\u062d\\u0642\\n\\n\\u0641\\u064a\\n\\n\\u062a\\u0631\\u0634\\u064a\\u062d \\u0632\\u0639\\u064a\\u0645\\u0647\\u0627 \\u0644\\u0645\\u0642\\u0627\\u0645 \\u0627\\u0644\\u062e\\u0644\\u0627\\u0641\\u0629\\u060c \\u0648\\u0641\\u064a \\u0647\\u0630\\u0627 \\u0627\\u0644\\u0623\\u0645\\u0631 \\u0645\\u0646 \\u0627\\u0644\\u062e\\u0637\\u0631 \\u0639\\u0644\\u0649 \\u0627\\u0644\\u0639\\u0631\\u0628 \\u0648\\u0639\\u0644\\u0649 \\u0627\\u0644\\u0625\\u0645\\u0628\\u0631\\u0627\\u0637\\u0648\\u0631\\u064a\\u0629 \\u0627\\u0644\\u0646\\u0627\\u0634\\u0626\\u0629\\n\\n\\u0645\\u0627 \\u064a\\u062f\\u0631\\u0643\\u0647 \\u0639\\u0645\\u0631 \\u0623\\u0643\\u062b\\u0631 \\u0645\\u0645\\u0627 \\u064a\\u062f\\u0631\\u0643\\u0647 \\u063a\\u064a\\u0631\\u0647\\u061b \\u0644\\u0630\\u0644\\u0643 \\u0644\\u0645 \\u064a\\u0644\\u0628\\u062b\\u060c \\u0628\\u0639\\u062f \\u0642\\u0644\\u064a\\u0644 \\u0645\\u0646 \\u0625\\u0639\\u0645\\u0627\\u0644 \\u0627\\u0644\\u0631\\u0623\\u064a\\u060c \\u0623\\u0646 \\u062c\\u0639\\u0644 \\u0627\\u0644\\u062e\\u0644\\u0627\\u0641\\u0629\\n\\n\\u0645\\u0646 \\u0628\\u0639\\u062f\\u0647 \\u0634\\u0648\\u0631\\u0649 \\u0641\\u064a \\u0633\\u062a\\u0629\\u061b \\u0647\\u0645 \\u0639\\u062b\\u0645\\u0627\\u0646 \\u0628\\u0646 \\u0639\\u0641\\u0627\\u0646\\u060c \\u0648\\u0639\\u0644\\u064a \\u0628\\u0646 \\u0623\\u0628\\u064a \\u0637\\u0627\\u0644\\u0628\\u060c \\u0648\\u0627\\u0644\\u0632\\u0628\\u064a\\u0631 \\u0628\\u0646 \\u0627\\u0644\\u0639\\u0648\\u0627\\u0645\\u060c \\u0648\\u0637\\u0644\\u062d\\u0629\\n\\n\\u0639\\u0628\\u064a\\u062f \\u0627\\u0644\\u0644\\u0647\\u060c \\u0648\\u0639\\u0628\\u062f \\u0627\\u0644\\u0631\\u062d\\u0645\\u0646 \\u0628\\u0646 \\u0639\\u0648\\u0641\\u060c \\u0648\\u0633\\u0639\\u062f \\u0628\\u0646 \\u0623\\u0628\\u064a \\u0648\\u0642\\u0627\\u0635\\u060c \\u0648\\u0645\\u0646 \\u0627\\u0644\\u0645\\u0623\\u062b\\u0648\\u0631 \\u0639\\u0646\\u0647 \\u0641\\u064a \\u0627\\u0633\\u062a\\u062e\\u0644\\u0627\\u0641\\u0647\\u0645\\n\\n\\\" \\u0644\\u0627 \\u0623\\u062c\\u062f \\u0623\\u062d\\u062f\\u0627 \\u0623\\u062d\\u0642 \\u0628\\u0647\\u0630\\u0627 \\u0627\\u0644\\u0623\\u0645\\u0631 \\u0645\\u0646 \\u0647\\u0624\\u0644\\u0627\\u0621 \\u0627\\u0644\\u0646\\u0641\\u0631 \\u0627\\u0644\\u0630\\u064a\\u0646 \\u062a\\u0648\\u0641\\u064a \\u0631\\u0633\\u0648\\u0644 \\u0627\\u0644\\u0644\\u0647\\n\\n\\u0648\\u0647\\u0648 \\u0639\\u0646\\u0647\\u0645\\n\\n\\u0631\\u0627\\u0636\\u061b \\u0641\\u0623\\u064a\\u0647\\u0645 \\u0627\\u0633\\u062a\\u062e\\u0644\\u0641 \\u0641\\u0647\\u0648 \\u0627\\u0644\\u062e\\u0644\\u064a\\u0641\\u0629 \\u0645\\u0646 \\u0628\\u0639\\u062f\\u064a.\\n\\n\\\"\\u0648\\u0628\\u0639\\u062f \\u0623\\u0646 \\u0633\\u0645\\u0649 \\u0647\\u0624\\u0644\\u0627\\u0621 \\u0627\\u0644\\u0633\\u062a\\u0629 \\u0623\\u0631\\u062f\\u0641:\\\" \\u0641\\u0625\\u0646\\n\\n\\u0623\\u0635\\u0627\\u0628\\u062a\\n\\n\\u062e\\u064a\\u0627\\u0646\\u0629.\\n\\n\\\"2\\n\\n\\u0639\\u0631\\u0641 \\u0627\\u0644\\u0646\\u0627\\u0633 \\u0645\\u0627 \\u0635\\u0646\\u0639 \\u0639\\u0645\\u0631 \\u0641\\u0633\\u0643\\u0646\\u0648\\u0627 \\u0625\\u0644\\u064a\\u0647\\u060c \\u0648\\u062f\\u0639\\u0627 \\u0639\\u0645\\u0631 \\u0647\\u0624\\u0644\\u0627\\u0621 \\u0627\\u0644\\u0646\\u0641\\u0631 \\u0627\\u0644\\u0630\\u064a\\u0646 \\u062c\\u0639\\u0644 \\u0627\\u0644\\u062e\\u0644\\u0627\\u0641\\u0629 \\u0634\\u0648\\u0631\\u0649 \\u0628\\u064a\\u0646\\u0647\\u0645\\n\\n\\u0641\\u0642\\u0627\\u0644:\\\" \\u0623\\u0646\\u0634\\u062f\\u0643 \\u0627\\u0644\\u0644\\u0647 \\u064a\\u0627 \\u0639\\u0644\\u064a \\u0625\\u0646 \\u0648\\u0644\\u064a\\u062a \\u0645\\u0646 \\u0623\\u0645\\u0648\\u0631 \\u0627\\u0644\\u0646\\u0627\\u0633 \\u0634\\u064a\\u0626\\u0627 \\u0623\\u0646 \\u062a\\u062d\\u0645\\u0644 \\u0628\\u0646\\u064a \\u0647\\u0627\\u0634\\u0645 \\u0639\\u0644\\u0649\\n\\n\\u0627\\u0644\\u0646\\u0627\\u0633!\\n\\n\\u0623\\u0646\\u0634\\u062f\\u0643 \\u0627\\u0644\\u0644\\u0647 \\u064a\\u0627 \\u0639\\u062b\\u0645\\u0627\\u0646 \\u0625\\u0646 \\u0648\\u0644\\u064a\\u062a \\u0645\\u0646 \\u0623\\u0645\\u0648\\u0631 \\u0627\\u0644\\u0646\\u0627\\u0633 \\u0634\\u064a\\u0626\\u0627 \\u0623\\u0646 \\u062a\\u062d\\u0645\\u0644 \\u0628\\u0646\\u064a \\u0623\\u0628\\u064a \\u0645\\u0639\\u064a\\u0637\\n\\n\\u0631\\u0642\\u0627\\u0628 \\u0627\\u0644\\u0646\\u0627\\u0633!\\n\\n\\u0623\\u0646\\u0634\\u062f\\u0643 \\u0627\\u0644\\u0644\\u0647 \\u064a\\u0627 \\u0633\\u0639\\u062f \\u0625\\u0646 \\u0648\\u0644\\u064a\\u062a \\u0645\\u0646 \\u0623\\u0645\\u0648\\u0631 \\u0627\\u0644\\u0646\\u0627\\u0633 \\u0634\\u064a\\u0626\\u0627 \\u0623\\u0646 \\u062a\\u062d\\u0645\\u0644 \\u0623\\u0642\\u0627\\u0631\\u0628\\u0643 \\u0639\\u0644\\u0649\\n\\n\\u0627\\u0644\\u0646\\u0627\\u0633!\\n\\n\\u0648\\u0646\\u0627\\u0634\\u062f \\u0627\\u0644\\u0622\\u062e\\u0631\\u064a\\u0646 \\u0645\\u062b\\u0644 \\u0647\\u0630\\u0647 \\u0627\\u0644\\u0645\\u0646\\u0627\\u0634\\u062f\\u0629\\u060c \\u062b\\u0645 \\u0642\\u0627\\u0644: \\u0642\\u0648\\u0645\\u0648\\u0627 \\u0641\\u062a\\u0634\\u0627\\u0648\\u0631\\u0648\\u0627 \\u062b\\u0645 \\u0627\\u0642\\u0636\\u0648\\u0627 \\u0623\\u0645\\u0631\\u0643\\u0645\\u060c \\u0648\\u0644\\u064a\\u0635\\u0644\\n\\n\\u0628\\u0627\\u0644\\u0646\\u0627\\u0633 \\u0635\\u0647\\u064a\\u0628.\"\n        ],\n        \"semantic_type\": \"\",\n        \"description\": \"\"\n      }\n    },\n    {\n      \"column\": \"normalized_text\",\n      \"properties\": {\n        \"dtype\": \"string\",\n        \"num_unique_values\": 32939,\n        \"samples\": [\n          \"\\u0627\\u0645\\u0627 \\u0648\\u0637\\u0648\\u0627\\u0644 \\u0627\\u0644\\u0648\\u0642\\u062a \\u0648\\u062c\\u0648\\u062f \\u0627\\u0644\\u0639\\u0627\\u0644\\u0645 \\u0627\\u0644\\u062e\\u0627\\u0631\\u062c\\u064a \\u0627\\u0648 \\u0633\\u0644\\u0627\\u0645\\u0629 \\u0627\\u0644\\u0627\\u062f\\u0648\\u0627\\u062a \\u0646\\u0639\\u0631\\u0641\\u0647 \\u0645\\u0639\\u0631\\u0636\\u0627 \\u0644\\u0644\\u0634\\u0643 \\u0641\\u0643\\u0627\\u0646 \\u0627\\u0644\\u0645\\u062d\\u0627\\u0644 \\u062a\\u0635\\u0648\\u0631 \\u0627\\u064a \\u0648\\u0647\\u0643\\u0630\\u0627 \\u064a\\u0643\\u0648\\u0646 \\u0647\\u062f\\u0641 \\u0627\\u0644\\u0631\\u062d\\u0644\\u0629 \\u0627\\u0644\\u0637\\u0648\\u064a\\u0644\\u0629 \\u0645\\u064a\\u062f\\u0627\\u0646 \\u0627\\u0644\\u0645\\u064a\\u062a\\u0627\\u0641\\u064a\\u0632\\u064a\\u0642\\u0627 \\u0627\\u0646 \\u064a\\u0645\\u0647\\u062f \\u0633\\u0644\\u0628\\u064a\\u0627 \\u0644\\u0638\\u0647\\u0648\\u0631 \\u0627\\u0644\\u0639\\u0644\\u0645 \\u0628\\u0645\\u0639\\u0646\\u0649 \\u062a\\u0628\\u062f\\u064a\\u062f \\u0627\\u0644\\u0634\\u0643\\u0648\\u0643 \\u0643\\u0627\\u0646\\u062a \\u062a\\u0645\\u0646\\u0639 \\u0642\\u064a\\u0627\\u0645\\u0647 \\u062f\\u064a\\u0643\\u0627\\u0631\\u062a \\u0627\\u0646 \\u064a\\u0646\\u062a\\u0647\\u064a \\u0645\\u0630\\u0647\\u0628\\u0647 \\u0627\\u0644\\u0645\\u064a\\u062a\\u0627\\u0641\\u064a\\u0632\\u064a\\u0642\\u064a \\u064a\\u062e\\u0627\\u0637\\u0628 \\u0631\\u062c\\u0627\\u0644 \\u0627\\u0644\\u0639\\u0644\\u0645 \\u0642\\u0627\\u0626\\u0644\\u0627 \\u0627\\u0644\\u0627\\u0646 \\u064a\\u0645\\u0643\\u0646\\u0643\\u0645 \\u0627\\u0646 \\u062a\\u0628\\u062f\\u0621\\u0648\\u0627 \\u0628\\u062d\\u062b\\u0643\\u0645 \\u0627\\u0644\\u0639\\u0644\\u0645\\u064a \\u0648\\u0627\\u0646\\u062a\\u0645 \\u0645\\u0637\\u0645\\u0626\\u0646\\u0648\\u0646 \\u0627\\u0646 \\u0627\\u062b\\u0628\\u062a \\u0627\\u0646 \\u0627\\u0644\\u0645\\u0648\\u0636\\u0648\\u0639\\u0627\\u062a \\u062a\\u0628\\u062d\\u062b\\u0648\\u0646\\u0647\\u0627 \\u0645\\u0639\\u0631\\u0636\\u0629 \\u0644\\u0644\\u0634\\u0643 \\u0648\\u0627\\u0646 \\u0648\\u0633\\u0627\\u0626\\u0644\\u0643\\u0645 \\u0645\\u0639\\u0631\\u0641\\u0629 \\u0627\\u0644\\u0645\\u0648\\u0636\\u0648\\u0639\\u0627\\u062a \\u0645\\u0648\\u062b\\u0648\\u0642 \\u0648\\u0628\\u0639\\u0628\\u0627\\u0631\\u0629 \\u0627\\u062e\\u0631\\u0649 \\u0641\\u0627\\u0644\\u0645\\u064a\\u062a\\u0627\\u0641\\u064a\\u0632\\u064a\\u0642\\u0627 \\u062a\\u0646\\u062a\\u0647\\u064a \\u0628\\u0630\\u0644\\u0643 \\u0627\\u0644\\u0636\\u0648\\u0621 \\u0627\\u0644\\u0627\\u062e\\u0636\\u0631 \\u064a\\u0628\\u062f\\u0627 \\u0628\\u0639\\u062f\\u0647 \\u0627\\u0644\\u0639\\u0644\\u0645 \\u0627\\u0644\\u0627\\u0646\\u0637\\u0644\\u0627\\u0642 \\u0648\\u0639\\u0646\\u062f \\u0627\\u0644\\u062d\\u062f \\u064a\\u0646\\u062a\\u0647\\u064a \\u062f\\u0648\\u0631\\u0647\\u0627 \\u0627\\u0644\\u0631\\u0627\\u064a \\u064a\\u0646\\u0637\\u0628\\u0642\\u0643\\u0645\\u0627 \\u0642\\u0644\\u0646\\u0627\\u0639\\u0644\\u0649 \\u062a\\u0641\\u0633\\u064a\\u0631 \\u0645\\u0639\\u064a\\u0646 \\u0644\\u062c\\u0630\\u0648\\u0631 \\u0634\\u062c\\u0631\\u0629 \\u0627\\u0644\\u0645\\u0639\\u0631\\u0641\\u0629 \\u064a\\u062c\\u0639\\u0644 \\u0627\\u0644\\u062c\\u0630\\u0648\\u0631 \\u0645\\u0645\\u0647\\u062f\\u0629 \\u0644\\u0644\\u0646\\u0628\\u0627\\u062a \\u0627\\u0644\\u0643\\u0627\\u0645\\u0644 \\u0641\\u062d\\u0633\\u0628 \\u0648\\u064a\\u0645\\u0643\\u0646 \\u0627\\u0644\\u0642\\u0648\\u0644 \\u0627\\u0646 \\u0648\\u062c\\u0648\\u062f \\u0627\\u0644\\u062c\\u0630\\u0648\\u0631 \\u0627\\u0644\\u0627\\u0631\\u0636 \\u064a\\u0631\\u0645\\u0632 \\u0628\\u0648\\u0636\\u0648\\u062d \\u0644\\u0647\\u0630\\u0647 \\u0627\\u0644\\u0637\\u0628\\u064a\\u0639\\u0629 \\u0627\\u0644\\u0633\\u0644\\u0628\\u064a\\u0629 \\u0644\\u0644\\u0645\\u064a\\u062a\\u0627\\u0641\\u064a\\u0632\\u064a\\u0642\\u0627 \\u0627\\u0644\\u062f\\u064a\\u0643\\u0627\\u0631\\u062a\\u064a\\u0629 \\u0648\\u062d\\u064a\\u0646 \\u062a\\u0643\\u0648\\u0646 \\u0627\\u0644\\u0641\\u064a\\u0632\\u064a\\u0627\\u0621 \\u0648\\u0627\\u0644\\u0639\\u0644\\u0648\\u0645 \\u0627\\u0644\\u062a\\u0637\\u0628\\u064a\\u0642\\u064a\\u0629 \\u0627\\u0644\\u062c\\u0630\\u0639 \\u0648\\u0627\\u0644\\u062b\\u0645\\u0627\\u0631\\u0627\\u064a \\u0627\\u0644\\u062c\\u0632\\u0621 \\u0627\\u0644\\u0638\\u0627\\u0647\\u0631 \\u0627\\u0644\\u0627\\u0631\\u0636\\u064a\\u0635\\u0628\\u062d \\u0627\\u0644\\u0645\\u0639\\u0646\\u0649 \\u0627\\u0644\\u0648\\u0627\\u0636\\u062d \\u0644\\u0630\\u0644\\u0643 \\u0627\\u0646 \\u0627\\u0644\\u0645\\u0639\\u0627\\u0631\\u0641 \\u0627\\u0644\\u0627\\u064a\\u062c\\u0627\\u0628\\u064a\\u0629 \\u062a\\u0636\\u064a\\u0641 \\u0627\\u0644\\u0649 \\u062d\\u0635\\u064a\\u0644\\u062a\\u0646\\u0627 \\u0627\\u0644\\u0639\\u0644\\u0645 \\u0628\\u064a\\u0646\\u0645\\u0627 \\u0627\\u0644\\u0645\\u064a\\u062a\\u0627\\u0641\\u064a\\u0632\\u064a\\u0642\\u0627 \\u062a\\u0643\\u062a\\u0641\\u064a \\u0628\\u0627\\u0646 \\u062a\\u062c\\u0639\\u0644 \\u0627\\u0644\\u0645\\u0639\\u0627\\u0631\\u0641 \\u0645\\u0645\\u0643\\u0646\\u0629 \\u0648\\u0628\\u0627\\u0646 \\u062a\\u0641\\u0633\\u062d \\u0645\\u062c\\u0627\\u0644 \\u0627\\u0644\\u0627\\u0646\\u0637\\u0644\\u0627\\u0642 \\u062a\\u062a\\u0631\\u0643\\u0647\\u0627 \\u0648\\u0634\\u0627\\u0646\\u0647\\u0627 \\u0627\\u064a \\u062a\\u0638\\u0644 \\u0645\\u062a\\u0648\\u0627\\u0631\\u064a\\u0629 \\u0627\\u0644\\u0627\\u0631\\u0636 \\u0648\\u0639\\u0644\\u0649 \\u0627\\u0633\\u0627\\u0633 \\u0627\\u0644\\u062a\\u0641\\u0633\\u064a\\u0631 \\u062a\\u0643\\u0648\\u0646 \\u0627\\u0644\\u0645\\u064a\\u062a\\u0627\\u0641\\u064a\\u0632\\u064a\\u0642\\u0627 \\u062f\\u064a\\u0643\\u0627\\u0631\\u062a \\u0648\\u0633\\u064a\\u0644\\u0629 \\u063a\\u0627\\u064a\\u0629 \\u0641\\u0647\\u064a\\u0628\\u0631\\u063a\\u0645 \\u0627\\u0648\\u0644\\u0627\\u0647 \\u0627\\u064a\\u0627\\u0647\\u0627 \\u0645\\u0624\\u0631\\u062e\\u0648 \\u0627\\u0644\\u0641\\u0644\\u0633\\u0641\\u0629 \\u0627\\u0647\\u062a\\u0645\\u0627\\u0645\\u0627\\u062f\\u0627\\u0629 \\u064a\\u0633\\u062a\\u062e\\u062f\\u0645\\u0647\\u0627 \\u062f\\u064a\\u0643\\u0627\\u0631\\u062a \\u064a\\u0635\\u062f \\u0627\\u0644\\u0639\\u0644\\u0645 \\u0647\\u062c\\u0645\\u0627\\u062a \\u062a\\u062c\\u0639\\u0644 \\u0642\\u064a\\u0627\\u0645\\u0647 \\u0645\\u0633\\u062a\\u062d\\u064a\\u0644\\u0627 \\u0648\\u0644\\u0643\\u0646\\u0647\\u0627 \\u0645\\u0642\\u0635\\u0648\\u062f\\u0629 \\u0644\\u0630\\u0627\\u062a\\u0647\\u0627 \\u0648\\u0627\\u0646\\u0645\\u0627 \\u0627\\u0644\\u0645\\u0642\\u0635\\u0648\\u062f \\u0644\\u0630\\u0627\\u062a\\u0647 \\u0627\\u0644\\u0639\\u0644\\u0645 \\u0627\\u0644\\u0646\\u0638\\u0631\\u064a \\u0648\\u0627\\u0644\\u062a\\u0637\\u0628\\u064a\\u0642\\u064a \\u0631\\u0642\\u0645 \\u0641\\u0645\\u0627 \\u0627\\u0644\\u0627\\u0633\\u0628\\u0627\\u0628 \\u062a\\u062c\\u0639\\u0644 \\u0627\\u0644\\u062a\\u0641\\u0633\\u064a\\u0631 \\u064a\\u0628\\u062f\\u0648 \\u0645\\u0639\\u0642\\u0648\\u0644\\u0627 \\u0627\\u0648\\u0644 \\u0627\\u0644\\u0627\\u0633\\u0628\\u0627\\u0628 \\u0636\\u0639\\u0641 \\u0628\\u0646\\u0627\\u0621 \\u0627\\u0644\\u0645\\u064a\\u062a\\u0627\\u0641\\u064a\\u0632\\u064a\\u0642\\u0627 \\u0627\\u0644\\u062f\\u064a\\u0643\\u0627\\u0631\\u062a\\u064a\\u0629 \\u0648\\u0627\\u0644\\u0648\\u0627\\u0642\\u0639 \\u0627\\u0646 \\u0627\\u0644\\u0643\\u0644\\u0627\\u0645 \\u062c\\u0648\\u0627\\u0646\\u0628 \\u0627\\u0644\\u0636\\u0639\\u0641 \\u0627\\u0644\\u0645\\u064a\\u062a\\u0627\\u0641\\u064a\\u0632\\u064a\\u0642\\u0627 \\u064a\\u0645\\u0643\\u0646 \\u0627\\u0646 \\u064a\\u0633\\u062a\\u063a\\u0631\\u0642 \\u0645\\u062c\\u0644\\u062f\\u0627\\u062a \\u0628\\u0627\\u0643\\u0645\\u0644\\u0647\\u0627 \\u0648\\u0639\\u0644\\u0649 \\u0627\\u0644\\u0631\\u063a\\u0645 \\u0627\\u0646 \\u062f\\u064a\\u0643\\u0627\\u0631\\u062a \\u0627\\u0644\\u062f\\u0648\\u0627\\u0645 \\u0645\\u0631\\u064a\\u062f\\u0648\\u0646 \\u064a\\u062f\\u0627\\u0641\\u0639\\u0648\\u0646 \\u0642\\u0627\\u0644 \\u0641\\u0627\\u0646 \\u062e\\u0635\\u0648\\u0645\\u0647 \\u0638\\u0647\\u0631\\u0648\\u0627 \\u0627\\u0644\\u0644\\u062d\\u0638\\u0629 \\u0627\\u0644\\u0627\\u0648\\u0644\\u0649 \\u0648\\u0633\\u0631\\u0639\\u0627\\u0646 \\u0627\\u062f\\u0631\\u0643\\u0648\\u0627 \\u0627\\u0646 \\u0628\\u0646\\u0627\\u0621 \\u0627\\u0644\\u0645\\u064a\\u062a\\u0627\\u0641\\u064a\\u0632\\u064a\\u0642\\u0627 \\u0627\\u0644\\u062f\\u064a\\u0643\\u0627\\u0631\\u062a\\u064a\\u0629 \\u0645\\u062a\\u0645\\u0627\\u0633\\u0643 \\u0648\\u0627\\u0646 \\u0627\\u0644\\u062d\\u062c\\u062c \\u0633\\u0627\\u0642\\u0647\\u0627 \\u0644\\u0644\\u062f\\u0641\\u0627\\u0639 \\u0627\\u0631\\u0627\\u0626\\u0647 \\u0645\\u0642\\u0646\\u0639\\u0629 \\u0627\\u0630\\u0627 \\u0627\\u062e\\u0630\\u062a \\u0628\\u062c\\u062f\\u064a\\u0629 \\u0648\\u0627\\u0630\\u0627 \\u0645\\u0636\\u064a\\u0646\\u0627 \\u0627\\u0644\\u0649 \\u0627\\u062e\\u0631 \\u0645\\u062f\\u0627\\u0647\\u0627 \\u0627\\u0633\\u062a\\u062e\\u0644\\u0635\\u0646\\u0627 \\u062a\\u0646\\u0637\\u0648\\u064a \\u0645\\u0636\\u0627\\u0645\\u064a\\u0646 \\u064a\\u0645\\u0643\\u0646 \\u0627\\u0646 \\u062a\\u0647\\u062f\\u0645 \\u0641\\u0644\\u0633\\u0641\\u062a\\u0647 \\u0628\\u0627\\u0643\\u0645\\u0644\\u0647\\u0627 \\u0648\\u062a\\u062c\\u0639\\u0644 \\u0627\\u0644\\u0643\\u0648\\u062c\\u064a\\u062a\\u0648 \\u0630\\u0627\\u062a\\u0647 \\u0645\\u0636\\u0645\\u0648\\u0646\",\n          \"\\u0642\\u0627\\u0644 \\u0627\\u0644\\u0645\\u0646\\u0635\\u0648\\u0631 \\u0627\\u062a\\u0634\\u064a\\u0631 \\u0639\\u0644\\u064a\\u0646\\u0627 \\u0628\\u0627\\u0644\\u0630\\u0647\\u0627\\u0628 \\u0627\\u0644\\u064a\\u0647\\u0627 \\u0642\\u0627\\u0644 \\u0635\\u0627\\u0644\\u062d \\u0648\\u0641\\u064a\\u0647\\u0627 \\u0627\\u0628\\u0648 \\u0633\\u0644\\u0645\\u0629 \\u0641\\u0627\\u0633\\u062a\\u063a\\u0631\\u0628 \\u0645\\u0639\\u0631\\u0641\\u062a\\u0647 \\u0627\\u0633\\u0645 \\u0627\\u0628\\u064a \\u0633\\u0644\\u0645\\u0629 \\u0627\\u0646 \\u0642\\u0627\\u0644 \\u0627\\u0646\\u0647 \\u064a\\u0639\\u0631\\u0641 \\u0627\\u0644\\u0643\\u0648\\u0641\\u0629 \\u0641\\u0642\\u0627\\u0644 \\u0627\\u0645\\u0627 \\u0633\\u0628\\u064a\\u0644 \\u0627\\u0644\\u0649 \\u0627\\u0633\\u062a\\u0628\\u0642\\u0627\\u0626\\u0643 \\u0645\\u0639\\u0646\\u0627 \\u0642\\u0627\\u0644 \\u0635\\u0627\\u0644\\u062d \\u0627\\u0646 \\u0628\\u0642\\u0627\\u0626\\u064a \\u0627\\u0648 \\u0630\\u0647\\u0627\\u0628\\u064a \\u0628\\u0627\\u0631\\u0627\\u062f\\u062a\\u064a \\u0641\\u0642\\u062f \\u0643\\u0646\\u062a \\u0645\\u0642\\u064a\\u0645\\u0627 \\u0627\\u0644\\u0645\\u062f\\u064a\\u0646\\u0629 \\u0627\\u0639\\u0631\\u0641 \\u0627\\u0644\\u0628\\u0644\\u062f \\u0641\\u0633\\u0645\\u0639\\u062a \\u0627\\u0644\\u0647\\u0627\\u062a\\u0641 \\u064a\\u0627\\u0645\\u0631\\u0646\\u064a \\u0628\\u0627\\u0644\\u0645\\u062c\\u064a\\u0621 \\u0628\\u0647\\u0630\\u0647 \\u0627\\u0644\\u0645\\u0647\\u0645\\u0629 \\u0648\\u0648\\u0635\\u0641 \\u0627\\u0644\\u0628\\u0644\\u062f \\u0641\\u062c\\u0626\\u062a \\u0639\\u0644\\u0645\\u062a \\u0648\\u0644\\u0643\\u0646\\u0643\\u0645 \\u062a\\u0635\\u062f\\u0642\\u0648\\u0646\\u064a \\u0641\\u0627\\u0635\\u0627\\u0628\\u0643\\u0645 \\u0631\\u0627\\u064a\\u062a \\u0648\\u0631\\u0628\\u0645\\u0627 \\u064a\\u0627\\u062a\\u064a\\u0646\\u064a \\u0647\\u0627\\u062a\\u0641 \\u0627\\u062e\\u0631 \\u0628\\u0627\\u0645\\u0631 \\u064a\\u062a\\u0639\\u0644\\u0642 \\u0641\\u0627\\u062a\\u064a\\u0643 \\u062a\\u0643\\u0648\\u0646 \\u0627\\u0645\\u0627 \\u0627\\u0644\\u0627\\u0646 \\u0641\\u0627\\u0637\\u0644\\u0628 \\u0627\\u0644\\u064a\\u0643 \\u0627\\u0646 \\u062a\\u0627\\u0630\\u0646 \\u0627\\u0646\\u0635\\u0631\\u0627\\u0641\\u064a \\u0648\\u0643\\u0627\\u0646 \\u0627\\u0644\\u0645\\u0646\\u0635\\u0648\\u0631 \\u0627\\u0639\\u062a\\u0642\\u0627\\u062f\\u0647 \\u0628\\u0627\\u0644\\u0648\\u0644\\u0627\\u064a\\u0629 \\u0648\\u0627\\u0644\\u062a\\u0646\\u062c\\u064a\\u0645 \\u0635\\u0627\\u062d\\u0628 \\u062f\\u0647\\u0627\\u0621 \\u0648\\u0645\\u0643\\u0631 \\u0641\\u0644\\u0645\\u0627 \\u0631\\u0627\\u0649 \\u0635\\u0627\\u0644\\u062d\\u0627 \\u064a\\u0628\\u0627\\u0644\\u063a \\u0627\\u0644\\u062a\\u0628\\u0627\\u0639\\u062f \\u0639\\u0646\\u0647 \\u0627\\u0646 \\u0637\\u0644\\u0628 \\u0627\\u0644\\u064a\\u0647 \\u0627\\u0644\\u0628\\u0642\\u0627\\u0621 \\u0645\\u0639\\u0647 \\u062a\\u062d\\u0642\\u0642 \\u0627\\u0646 \\u0627\\u0644\\u0631\\u062c\\u0644 \\u063a\\u0631\\u0636 \\u0627\\u0644\\u0635\\u062f\\u0642 \\u0627\\u0630 \\u0627\\u0647\\u0644 \\u0627\\u0644\\u0646\\u0641\\u0627\\u0642 \\u0644\\u0627\\u063a\\u062a\\u0646\\u0645 \\u0627\\u0644\\u0641\\u0631\\u0635\\u0629 \\u0644\\u0644\\u0628\\u0642\\u0627\\u0621 \\u0645\\u0639\\u0647 \\u0633\\u064a\\u0645\\u0627 \\u0627\\u0639\\u062a\\u0642\\u0627\\u062f\\u0647 \\u0627\\u0646\\u0647 \\u0633\\u064a\\u0643\\u0648\\u0646 \\u062e\\u0644\\u064a\\u0641\\u0629 \\u0641\\u063a\\u0644\\u0628 \\u0627\\u0644\\u062a\\u0646\\u062c\\u064a\\u0645 \\u0643\\u062b\\u064a\\u0631 \\u0627\\u0644\\u0627\\u0639\\u062a\\u0645\\u0627\\u062f \\u0627\\u0644\\u0645\\u0646\\u062c\\u0645\\u064a\\u0646 \\u0631\\u0642\\u0645 \\u0641\\u0644\\u0645\\u0627 \\u064a\\u0631 \\u062d\\u064a\\u0644\\u0629 \\u0627\\u0628\\u0642\\u0627\\u0626\\u0647 \\u0642\\u0627\\u0644 \\u0627\\u0633\\u0645\\u0643 \\u0648\\u0627\\u064a\\u0646 \\u0645\\u0642\\u0627\\u0645\\u0643 \\u0627\\u0630\\u0627 \\u0648\\u0641\\u0642\\u062a \\u0627\\u0644\\u0649 \\u0627\\u0644\\u062e\\u0644\\u0627\\u0641\\u0629 \\u0642\\u0631\\u0628\\u062a\\u0643 \\u0648\\u0627\\u0633\\u062a\\u0639\\u0646\\u062a \\u0628\\u0639\\u0644\\u0645\\u0643 \\u0641\\u0642\\u0627\\u0644 \\u0635\\u0627\\u0644\\u062d \\u062a\\u0641\\u064a\\u062f\\u0643 \\u0645\\u0639\\u0631\\u0641\\u0629 \\u0627\\u0633\\u0645\\u064a \\u0645\\u0643\\u0627\\u0646\\u064a \\u062f\\u0639\\u0646\\u064a \\u0627\\u0646\\u0635\\u0631\\u0641 \\u0627\\u0644\\u0627\\u0646 \\u0648\\u0633\\u0627\\u062a\\u064a\\u0643 \\u0627\\u0644\\u062d\\u0627\\u062c\\u0629 \\u0648\\u0631\\u0628\\u0645\\u0627 \\u062c\\u0626\\u062a \\u0639\\u0627\\u062c\\u0644\\u0627 \\u0644\\u0627\\u0646\\u064a \\u0627\\u0634\\u0639\\u0631 \\u0628\\u0638\\u0644\\u0645\\u0629 \\u062a\\u062d\\u062f\\u0642 \\u0628\\u062e\\u0644\\u0627\\u0641\\u062a\\u0643 \\u0627\\u0630\\u0627 \\u0627\\u0646\\u0642\\u0634\\u0639\\u062a \\u0638\\u0647\\u0631\\u062a \\u0627\\u0644\\u062d\\u0642\\u064a\\u0642\\u0629 \\u0627\\u0645\\u0627 \\u0627\\u0644\\u0627\\u0646 \\u0641\\u0627\\u0646\\u064a \\u0645\\u0646\\u0635\\u0631\\u0641 \\u0642\\u0627\\u0644 \\u0648\\u0646\\u0627\\u062f\\u0649 \\u063a\\u0644\\u0627\\u0645\\u0647 \\u0641\\u0642\\u0627\\u0644 \\u0627\\u0644\\u0645\\u0646\\u0635\\u0648\\u0631 \\u0627\\u0630\\u0627 \\u0643\\u0646\\u062a \\u0645\\u0635\\u0645\\u0645\\u0627 \\u0627\\u0644\\u0630\\u0647\\u0627\\u0628 \\u0641\\u0627\\u0633\\u062a\\u0648\\u062f\\u0639\\u0643 \\u0648\\u062e\\u0631\\u062c \\u0627\\u0644\\u0641\\u062e\\u0631\\u064a \\u0631\\u0642\\u0645 \\u0627\\u0628\\u0646 \\u0627\\u0644\\u0627\\u062b\\u064a\\u0631 \\u0627\\u0644\\u062c\\u0632\\u0621 \\u0627\\u0644\\u062e\\u0627\\u0645\\u0633\"\n        ],\n        \"semantic_type\": \"\",\n        \"description\": \"\"\n      }\n    }\n  ]\n}"
            }
          },
          "metadata": {},
          "execution_count": 34
        }
      ]
    },
    {
      "cell_type": "markdown",
      "source": [
        "# Topic Modeling"
      ],
      "metadata": {
        "id": "4SrVe2S-MhZ5"
      }
    },
    {
      "cell_type": "code",
      "source": [
        "!pip install -qU bertopic"
      ],
      "metadata": {
        "id": "fRu5CGV2i2DZ",
        "colab": {
          "base_uri": "https://localhost:8080/"
        },
        "outputId": "a7c5a09e-b556-43e5-92bd-197ea6c8ca53"
      },
      "execution_count": 1,
      "outputs": [
        {
          "output_type": "stream",
          "name": "stdout",
          "text": [
            "\u001b[2K   \u001b[90m━━━━━━━━━━━━━━━━━━━━━━━━━━━━━━━━━━━━━━━━\u001b[0m \u001b[32m150.6/150.6 kB\u001b[0m \u001b[31m11.7 MB/s\u001b[0m eta \u001b[36m0:00:00\u001b[0m\n",
            "\u001b[2K   \u001b[90m━━━━━━━━━━━━━━━━━━━━━━━━━━━━━━━━━━━━━━━━\u001b[0m \u001b[32m363.4/363.4 MB\u001b[0m \u001b[31m4.0 MB/s\u001b[0m eta \u001b[36m0:00:00\u001b[0m\n",
            "\u001b[2K   \u001b[90m━━━━━━━━━━━━━━━━━━━━━━━━━━━━━━━━━━━━━━━━\u001b[0m \u001b[32m13.8/13.8 MB\u001b[0m \u001b[31m115.4 MB/s\u001b[0m eta \u001b[36m0:00:00\u001b[0m\n",
            "\u001b[2K   \u001b[90m━━━━━━━━━━━━━━━━━━━━━━━━━━━━━━━━━━━━━━━━\u001b[0m \u001b[32m24.6/24.6 MB\u001b[0m \u001b[31m67.0 MB/s\u001b[0m eta \u001b[36m0:00:00\u001b[0m\n",
            "\u001b[2K   \u001b[90m━━━━━━━━━━━━━━━━━━━━━━━━━━━━━━━━━━━━━━━━\u001b[0m \u001b[32m883.7/883.7 kB\u001b[0m \u001b[31m2.9 MB/s\u001b[0m eta \u001b[36m0:00:00\u001b[0m\n",
            "\u001b[2K   \u001b[90m━━━━━━━━━━━━━━━━━━━━━━━━━━━━━━━━━━━━━━━━\u001b[0m \u001b[32m664.8/664.8 MB\u001b[0m \u001b[31m2.8 MB/s\u001b[0m eta \u001b[36m0:00:00\u001b[0m\n",
            "\u001b[2K   \u001b[90m━━━━━━━━━━━━━━━━━━━━━━━━━━━━━━━━━━━━━━━━\u001b[0m \u001b[32m211.5/211.5 MB\u001b[0m \u001b[31m5.5 MB/s\u001b[0m eta \u001b[36m0:00:00\u001b[0m\n",
            "\u001b[2K   \u001b[90m━━━━━━━━━━━━━━━━━━━━━━━━━━━━━━━━━━━━━━━━\u001b[0m \u001b[32m56.3/56.3 MB\u001b[0m \u001b[31m13.0 MB/s\u001b[0m eta \u001b[36m0:00:00\u001b[0m\n",
            "\u001b[2K   \u001b[90m━━━━━━━━━━━━━━━━━━━━━━━━━━━━━━━━━━━━━━━━\u001b[0m \u001b[32m127.9/127.9 MB\u001b[0m \u001b[31m7.4 MB/s\u001b[0m eta \u001b[36m0:00:00\u001b[0m\n",
            "\u001b[2K   \u001b[90m━━━━━━━━━━━━━━━━━━━━━━━━━━━━━━━━━━━━━━━━\u001b[0m \u001b[32m207.5/207.5 MB\u001b[0m \u001b[31m6.5 MB/s\u001b[0m eta \u001b[36m0:00:00\u001b[0m\n",
            "\u001b[2K   \u001b[90m━━━━━━━━━━━━━━━━━━━━━━━━━━━━━━━━━━━━━━━━\u001b[0m \u001b[32m21.1/21.1 MB\u001b[0m \u001b[31m101.7 MB/s\u001b[0m eta \u001b[36m0:00:00\u001b[0m\n",
            "\u001b[?25h"
          ]
        }
      ]
    },
    {
      "cell_type": "markdown",
      "source": [
        "## Embed Articles"
      ],
      "metadata": {
        "id": "87MGccxXkN5P"
      }
    },
    {
      "cell_type": "code",
      "source": [
        "from sentence_transformers import SentenceTransformer\n",
        "import pickle"
      ],
      "metadata": {
        "id": "2VO7DZQxkM_u"
      },
      "execution_count": 30,
      "outputs": []
    },
    {
      "cell_type": "code",
      "source": [
        "model_id = \"Omartificial-Intelligence-Space/GATE-AraBert-v1\"\n",
        "embedding_model = SentenceTransformer(model_id, device=\"cuda:0\")"
      ],
      "metadata": {
        "id": "0OCJgcfSkVaO"
      },
      "execution_count": 31,
      "outputs": []
    },
    {
      "cell_type": "code",
      "source": [
        "articles_embeddings = embedding_model.encode(train_data['normalized_text'].values, show_progress_bar=True, batch_size=64)\n",
        "\n",
        "print(articles_embeddings.shape)"
      ],
      "metadata": {
        "colab": {
          "base_uri": "https://localhost:8080/",
          "height": 66,
          "referenced_widgets": [
            "cc50f00f6c044a95b5cd0b64fd81f70b",
            "b6fbc5563751468ab7027b669e84fa7e",
            "42c95f8c11274d5cbfd5e759c1d6b209",
            "1325f5e8d3c1464681240d5a9e869143",
            "07c482fdb2ea4f388a74196a68242b2b",
            "90129b23f1fe493eb0a3beccc31f0cc8",
            "e69049df17474702a2e22a3c3758a524",
            "72e6b0ac9b9f4c008efe07a21da87c21",
            "ff3f35c58beb4c0d9032cc45b177f3e3",
            "3ed6461457ef46239e616094ef2f3d42",
            "7d18a126485341159401519665d7842e"
          ]
        },
        "id": "8AOMYGBvGUZO",
        "outputId": "3f9935e0-18fe-4838-b326-eda6884ccce6"
      },
      "execution_count": 35,
      "outputs": [
        {
          "output_type": "display_data",
          "data": {
            "text/plain": [
              "Batches:   0%|          | 0/515 [00:00<?, ?it/s]"
            ],
            "application/vnd.jupyter.widget-view+json": {
              "version_major": 2,
              "version_minor": 0,
              "model_id": "cc50f00f6c044a95b5cd0b64fd81f70b"
            }
          },
          "metadata": {}
        },
        {
          "output_type": "stream",
          "name": "stdout",
          "text": [
            "(32941, 768)\n"
          ]
        }
      ]
    },
    {
      "cell_type": "code",
      "source": [
        "# Store data and embeddings\n",
        "# with open(\"/content/drive/MyDrive/Colab Notebooks/AraGenEval/authorship_embeddings_GATE-AraBert-v1.pkl\", \"wb\") as fOut:\n",
        "#   pickle.dump({'embeddings': articles_embeddings},\n",
        "#               fOut,\n",
        "#               protocol = pickle.HIGHEST_PROTOCOL)"
      ],
      "metadata": {
        "id": "-_lEpTvtFXCW"
      },
      "execution_count": 36,
      "outputs": []
    },
    {
      "cell_type": "code",
      "metadata": {
        "id": "2hyGnUrxCSyY"
      },
      "source": [
        "# Load data and embeddings\n",
        "with open(\"/content/drive/MyDrive/Colab Notebooks/AraGenEval/authorship_embeddings_GATE-AraBert-v1.pkl\", 'rb') as fIn:\n",
        "  articles_embeddings = pickle.load(fIn)['embeddings']"
      ],
      "execution_count": 37,
      "outputs": []
    },
    {
      "cell_type": "markdown",
      "source": [
        "## Dimensionality Reduction"
      ],
      "metadata": {
        "id": "EbjPgXxKUTXx"
      }
    },
    {
      "cell_type": "code",
      "source": [
        "from umap import UMAP"
      ],
      "metadata": {
        "id": "YE4t_bDAQM6I"
      },
      "execution_count": 12,
      "outputs": []
    },
    {
      "cell_type": "code",
      "source": [
        "umap_model = UMAP(\n",
        "    n_neighbors = 7,\n",
        "    n_components = 45,\n",
        "    min_dist = 0,\n",
        "    metric = \"cosine\",\n",
        "    random_state = 5\n",
        ")"
      ],
      "metadata": {
        "id": "OcuxCnW2UXwt"
      },
      "execution_count": 13,
      "outputs": []
    },
    {
      "cell_type": "markdown",
      "source": [
        "## Clustering"
      ],
      "metadata": {
        "id": "V6YnxfiYUsOa"
      }
    },
    {
      "cell_type": "code",
      "source": [
        "from hdbscan import HDBSCAN"
      ],
      "metadata": {
        "id": "JYuoEtf1Um8d"
      },
      "execution_count": 14,
      "outputs": []
    },
    {
      "cell_type": "code",
      "source": [
        "hdbscan_model = HDBSCAN(\n",
        "    min_cluster_size = 3,\n",
        "    metric = \"euclidean\",\n",
        "    cluster_selection_method = \"eom\",\n",
        "    prediction_data = True\n",
        ")\n",
        "# A high min_cluster_size will generate fewer topics\n",
        "# A low min_cluster_size will generate more topics\n",
        "# Prediction_data=True -> allows for predicting the cluster membership of new data points based on the trained model\n",
        "# HDBSCAN can be used to tune outliers"
      ],
      "metadata": {
        "id": "klBztOUIUvVn"
      },
      "execution_count": 15,
      "outputs": []
    },
    {
      "cell_type": "markdown",
      "source": [
        "## Vectorizer"
      ],
      "metadata": {
        "id": "BGhMzHvPVJKY"
      }
    },
    {
      "cell_type": "code",
      "source": [
        "!pip install -qU Arabic-Stopwords"
      ],
      "metadata": {
        "id": "itEzFP87VLCb"
      },
      "execution_count": null,
      "outputs": []
    },
    {
      "cell_type": "code",
      "source": [
        "from sklearn.feature_extraction.text import CountVectorizer\n",
        "import arabicstopwords.arabicstopwords as stp"
      ],
      "metadata": {
        "id": "iffnzijkVW-t"
      },
      "execution_count": 17,
      "outputs": []
    },
    {
      "cell_type": "code",
      "source": [],
      "metadata": {
        "id": "1Bt_2yEkVgGU"
      },
      "execution_count": null,
      "outputs": []
    },
    {
      "cell_type": "markdown",
      "source": [
        "# Gemi"
      ],
      "metadata": {
        "id": "ccDnzh-aJJAU"
      }
    },
    {
      "cell_type": "code",
      "source": [],
      "metadata": {
        "id": "CCps9-ErJLEi"
      },
      "execution_count": null,
      "outputs": []
    },
    {
      "cell_type": "code",
      "metadata": {
        "id": "05b60597"
      },
      "source": [],
      "execution_count": null,
      "outputs": []
    }
  ]
}